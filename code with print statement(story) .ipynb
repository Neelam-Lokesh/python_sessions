{
 "cells": [
  {
   "cell_type": "code",
   "execution_count": 8,
   "id": "4cbdabe3",
   "metadata": {},
   "outputs": [
    {
     "name": "stdout",
     "output_type": "stream",
     "text": [
      "enter a basic salary50000\n",
      "enter a DA salary2000\n",
      "enter a HRA salary10000\n"
     ]
    }
   ],
   "source": [
    "# wap ask the user enter a basic_salary\n",
    "# wap ask the user enter DA amount\n",
    "# wap ask the user enter HRA amount \n",
    "#calculate total pay = basic_salary+DA+HRA\n",
    "\n",
    "\n",
    "# step 1 :\n",
    "\n",
    "basic_salary=eval(input(\"enter a basic salary\"))\n",
    "DA=eval(input(\"enter a DA salary\"))\n",
    "HRA=eval(input(\"enter a HRA salary\"))\n",
    "total_pay=basic_salary+DA+HRA\n",
    "  \n"
   ]
  },
  {
   "cell_type": "code",
   "execution_count": null,
   "id": "29e17014",
   "metadata": {},
   "outputs": [],
   "source": []
  },
  {
   "cell_type": "markdown",
   "id": "2b0683aa",
   "metadata": {},
   "source": [
    "#WAP AS THE USER ENTER THY SALARY"
   ]
  },
  {
   "cell_type": "markdown",
   "id": "62105076",
   "metadata": {},
   "source": [
    "# ask the user tax percentage \n",
    "# calculate how much tax"
   ]
  },
  {
   "cell_type": "code",
   "execution_count": 13,
   "id": "921ee919",
   "metadata": {},
   "outputs": [
    {
     "name": "stdout",
     "output_type": "stream",
     "text": [
      "enter salary50000\n"
     ]
    }
   ],
   "source": [
    "salary=eval(input(\"enter salary\"))"
   ]
  },
  {
   "cell_type": "code",
   "execution_count": 14,
   "id": "ef75674c",
   "metadata": {},
   "outputs": [
    {
     "name": "stdout",
     "output_type": "stream",
     "text": [
      "enter the percentage4000\n"
     ]
    }
   ],
   "source": [
    "tax_percentage = input(\"enter the percentage\")"
   ]
  },
  {
   "cell_type": "code",
   "execution_count": 19,
   "id": "1e41b8ec",
   "metadata": {},
   "outputs": [
    {
     "ename": "TypeError",
     "evalue": "unsupported operand type(s) for +: 'int' and 'str'",
     "output_type": "error",
     "traceback": [
      "\u001b[1;31m---------------------------------------------------------------------------\u001b[0m",
      "\u001b[1;31mTypeError\u001b[0m                                 Traceback (most recent call last)",
      "Cell \u001b[1;32mIn[19], line 1\u001b[0m\n\u001b[1;32m----> 1\u001b[0m tax_payable\u001b[38;5;241m=\u001b[39msalary\u001b[38;5;241m+\u001b[39mtax_percentage\n",
      "\u001b[1;31mTypeError\u001b[0m: unsupported operand type(s) for +: 'int' and 'str'"
     ]
    }
   ],
   "source": [
    "tax_payable=salary+tax_percentage"
   ]
  },
  {
   "cell_type": "code",
   "execution_count": 20,
   "id": "988909e9",
   "metadata": {},
   "outputs": [],
   "source": [
    "# wap ask the user get a ramdom value between 1 to 100\n",
    "# perform thr square of the number\n",
    "\n",
    "# package name: random\n",
    "# method name: randint"
   ]
  },
  {
   "cell_type": "code",
   "execution_count": 25,
   "id": "dc4e82cc",
   "metadata": {},
   "outputs": [
    {
     "data": {
      "text/plain": [
       "60"
      ]
     },
     "execution_count": 25,
     "metadata": {},
     "output_type": "execute_result"
    }
   ],
   "source": [
    "import random\n",
    "random.randint(1,100) "
   ]
  },
  {
   "cell_type": "code",
   "execution_count": 30,
   "id": "ec202ddb",
   "metadata": {},
   "outputs": [
    {
     "name": "stdout",
     "output_type": "stream",
     "text": [
      "n= 37\n",
      "square= 1369\n"
     ]
    }
   ],
   "source": [
    "import random\n",
    "n=random.randint(1,100)\n",
    "square=n*n\n",
    "print(\"n=\",n)\n",
    "print(\"square=\",square)\n"
   ]
  },
  {
   "cell_type": "code",
   "execution_count": 41,
   "id": "b3e2dad6",
   "metadata": {},
   "outputs": [
    {
     "name": "stdout",
     "output_type": "stream",
     "text": [
      "the square of 13 is 169\n"
     ]
    }
   ],
   "source": [
    "import random\n",
    "number=random.randint(1,100)\n",
    "square=number*number\n",
    "print(\"the square of {} is {}\".format (number,square))"
   ]
  },
  {
   "cell_type": "markdown",
   "id": "3befa7ad",
   "metadata": {},
   "source": [
    "# wap ask the user enter a distance\n",
    "# ask the user enter a rate per distance \n",
    "# calculate total charge"
   ]
  },
  {
   "cell_type": "code",
   "execution_count": 47,
   "id": "0108b778",
   "metadata": {},
   "outputs": [
    {
     "name": "stdout",
     "output_type": "stream",
     "text": [
      "enter the distance5\n",
      "enter rate per km:80\n",
      "for 5 km the charge is 300 rs\n"
     ]
    }
   ],
   "source": [
    "distance = int(input(\"enter the distance\"))\n",
    "rate = int(input(\"enter rate per km:\"))\n",
    "charge=distance+rate\n",
    "print(\"for {} km the charge is 300 rs\".format(distance,charge))"
   ]
  },
  {
   "cell_type": "markdown",
   "id": "bab583e9",
   "metadata": {},
   "source": [
    "# ask the user enter total bill in dollars : 100\n",
    "# manager : the dollars are not accepted\n",
    "# user: what will accepted\n",
    "# manager: only indian rupees\n",
    "# ask the user enter one dollar is equal to how many rupees: 80\n",
    "# total bill= 100*80\n",
    "# manager : thank you!\n"
   ]
  },
  {
   "cell_type": "code",
   "execution_count": 55,
   "id": "aa1a12f2",
   "metadata": {},
   "outputs": [
    {
     "name": "stdout",
     "output_type": "stream",
     "text": [
      "enter the total bill in dollars90\n",
      "one dollar equal to:80\n",
      "7200\n"
     ]
    }
   ],
   "source": [
    "bill=eval(input(\"enter the total bill in dollars\"))\n",
    "conversion_rate=eval(input(\"one dollar equal to:\"))\n",
    "total_bill_inr= bill*conversion_rate\n",
    "print(total_bill_inr)"
   ]
  },
  {
   "cell_type": "code",
   "execution_count": 57,
   "id": "01078549",
   "metadata": {},
   "outputs": [
    {
     "name": "stdout",
     "output_type": "stream",
     "text": [
      "manager:enter the total bill in dollars:7\n",
      "manager response:dollars are not accepted\n",
      "user response:ok\n"
     ]
    },
    {
     "data": {
      "text/plain": [
       "'ok'"
      ]
     },
     "execution_count": 57,
     "metadata": {},
     "output_type": "execute_result"
    }
   ],
   "source": [
    "bill= eval(input(\"manager:enter the total bill in dollars:\"))\n",
    "input(\"manager response:\")\n",
    "input(\"user response:\")\n"
   ]
  },
  {
   "cell_type": "code",
   "execution_count": 3,
   "id": "55883864",
   "metadata": {
    "scrolled": true
   },
   "outputs": [
    {
     "name": "stdout",
     "output_type": "stream",
     "text": [
      "father response:what do you want do\n",
      "son response:I want to do some course\n",
      "father response:which course .do you decided\n",
      "son response:yes, dad I'm interested in data science\n",
      "father response:. which institution do you want to join son response:narest IT\n",
      "son response:narest it\n",
      "father response:what about fee structure\n",
      "son response:30000\n",
      "father response:response:from which day your going to institution\n",
      "son response:after few couple of days\n"
     ]
    },
    {
     "ename": "ValueError",
     "evalue": "invalid literal for int() with base 10: 'after few couple of days'",
     "output_type": "error",
     "traceback": [
      "\u001b[1;31m---------------------------------------------------------------------------\u001b[0m",
      "\u001b[1;31mValueError\u001b[0m                                Traceback (most recent call last)",
      "Cell \u001b[1;32mIn[3], line 12\u001b[0m\n\u001b[0;32m     10\u001b[0m \u001b[38;5;28mint\u001b[39m(\u001b[38;5;28minput\u001b[39m(\u001b[38;5;124m\"\u001b[39m\u001b[38;5;124mson response:\u001b[39m\u001b[38;5;124m\"\u001b[39m))\n\u001b[0;32m     11\u001b[0m \u001b[38;5;28minput\u001b[39m(\u001b[38;5;124m\"\u001b[39m\u001b[38;5;124mfather response:\u001b[39m\u001b[38;5;124m\"\u001b[39m)\n\u001b[1;32m---> 12\u001b[0m number_of_sem \u001b[38;5;241m=\u001b[39m \u001b[38;5;28mint\u001b[39m(\u001b[38;5;28minput\u001b[39m(\u001b[38;5;124m\"\u001b[39m\u001b[38;5;124mson response:\u001b[39m\u001b[38;5;124m\"\u001b[39m))\n\u001b[0;32m     13\u001b[0m total_pay\u001b[38;5;241m=\u001b[39m fee\u001b[38;5;241m*\u001b[39mnumber_of_sem\n\u001b[0;32m     14\u001b[0m \u001b[38;5;28mprint\u001b[39m(total_pay)\n",
      "\u001b[1;31mValueError\u001b[0m: invalid literal for int() with base 10: 'after few couple of days'"
     ]
    }
   ],
   "source": [
    "# story between father and son and son wants to study\n",
    "\n",
    "input(\"father response:\")\n",
    "input(\"son response:\")\n",
    "input(\"father response:\")\n",
    "input(\"son response:\")\n",
    "input(\"father response:\")\n",
    "input(\"son response:\")\n",
    "input(\"father response:\")\n",
    "int(input(\"son response:\"))\n",
    "input(\"father response:\")\n",
    "number_of_sem = int(input(\"son response:\"))\n",
    "total_pay= fee*number_of_sem\n",
    "print(total_pay)\n"
   ]
  },
  {
   "cell_type": "code",
   "execution_count": null,
   "id": "694fb6a8",
   "metadata": {},
   "outputs": [],
   "source": []
  },
  {
   "cell_type": "code",
   "execution_count": null,
   "id": "093ac552",
   "metadata": {},
   "outputs": [],
   "source": []
  },
  {
   "cell_type": "code",
   "execution_count": null,
   "id": "15b633a3",
   "metadata": {},
   "outputs": [],
   "source": []
  }
 ],
 "metadata": {
  "kernelspec": {
   "display_name": "Python 3 (ipykernel)",
   "language": "python",
   "name": "python3"
  },
  "language_info": {
   "codemirror_mode": {
    "name": "ipython",
    "version": 3
   },
   "file_extension": ".py",
   "mimetype": "text/x-python",
   "name": "python",
   "nbconvert_exporter": "python",
   "pygments_lexer": "ipython3",
   "version": "3.11.5"
  }
 },
 "nbformat": 4,
 "nbformat_minor": 5
}
