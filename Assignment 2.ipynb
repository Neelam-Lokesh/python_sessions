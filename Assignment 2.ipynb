{
 "cells": [
  {
   "cell_type": "code",
   "execution_count": 54,
   "id": "506eeb3e",
   "metadata": {},
   "outputs": [
    {
     "name": "stdout",
     "output_type": "stream",
     "text": [
      "enter ramesh's basic salary:10000\n",
      "ramesh's gross salary is: 16000.0\n"
     ]
    }
   ],
   "source": [
    "#1.Ramesh’s basic salary is input through the keyboard. His dearness allowance is 40% \n",
    "#  basic salary, and house rent allowance is 20% of basic salary. Write a program to\n",
    "#  calculate his gross salary.\n",
    "\n",
    "try:\n",
    "     \n",
    "        basic_salary=int(input(\"enter ramesh's basic salary:\")) \n",
    "        \n",
    "        dearness_allowance=(40*basic_salary)/100\n",
    "        house_rent=(20*basic_salary)/100\n",
    "        gross_salary=dearness_allowance+house_rent+basic_salary\n",
    "        print(\"ramesh's gross salary is:\",gross_salary)\n",
    "        \n",
    "        \n",
    "except Exception as e:\n",
    "    print(e)"
   ]
  },
  {
   "cell_type": "code",
   "execution_count": 65,
   "id": "4bb9b094",
   "metadata": {},
   "outputs": [
    {
     "name": "stdout",
     "output_type": "stream",
     "text": [
      "Enter the distance between two cities in kilometers: 300\n",
      "Distance in meters: {meters_conversion} meters\n",
      "Distance in feet: {feet_conversion} feet\n",
      "Distance in inches: {inches_conversion} inches\n",
      "Distance in centimeters: {centimeters_conversion} centimeters\n"
     ]
    }
   ],
   "source": [
    "#2.The distance between two cities (in km.) is input through the keyboard. Write a program\n",
    "#  to convert and print this distance in meters, feet, inches and centimeters.\n",
    "\n",
    "try:\n",
    "\n",
    "    distance_in_kilometers = int(input(\"Enter the distance between two cities in kilometers: \"))\n",
    "    meters_conversion = distance_in_kilometers * 1000\n",
    "    feet_conversion = distance_in_kilometers * 3280\n",
    "    inches_conversion = distance_in_kilometers * 39370\n",
    "    centimeters_conversion = distance_in_kilometers * 100000\n",
    "    print(\"Distance in meters: {meters_conversion} meters\")\n",
    "    print(\"Distance in feet: {feet_conversion} feet\")\n",
    "    print(\"Distance in inches: {inches_conversion} inches\")\n",
    "    print(\"Distance in centimeters: {centimeters_conversion} centimeters\")\n",
    "    \n",
    "    \n",
    "except Exception as e:\n",
    "    print(e)\n"
   ]
  },
  {
   "cell_type": "code",
   "execution_count": 69,
   "id": "0ae3ad81",
   "metadata": {},
   "outputs": [
    {
     "name": "stdout",
     "output_type": "stream",
     "text": [
      "enter the marks of subject1:90\n",
      "enter the marks of subject2:98\n",
      "enter the marks of subject3:85\n",
      "enter the marks of subject4:95\n",
      "enter the marks of subject5:99\n",
      "467\n",
      "93.4\n"
     ]
    }
   ],
   "source": [
    "#3. If the marks obtained by a student in five different subjects are input through the\n",
    "#   keyboard, find out the aggregate marks and percentage marks obtained by the student.\n",
    "#   Assume that the maximum marks that can be obtained by a student in each subject is 100.\n",
    "  \n",
    "try:\n",
    "    subject1=int(input(\"enter the marks of subject1:\"))\n",
    "    subject2=int(input(\"enter the marks of subject2:\"))\n",
    "    subject3=int(input(\"enter the marks of subject3:\"))\n",
    "    subject4=int(input(\"enter the marks of subject4:\"))\n",
    "    subject5=int(input(\"enter the marks of subject5:\"))\n",
    "    aggregate_marks=(subject1+subject2+subject3+subject4+subject5)\n",
    "    print(aggregate_marks)\n",
    "    percentage_marks=(aggregate_marks/500)*100\n",
    "    print(percentage_marks)\n",
    "    \n",
    "except Exception as e:\n",
    "    print(e)\n",
    "    \n",
    "    "
   ]
  },
  {
   "cell_type": "code",
   "execution_count": 77,
   "id": "2df66304",
   "metadata": {},
   "outputs": [
    {
     "name": "stdout",
     "output_type": "stream",
     "text": [
      "temparature of a city in fahrenheit degrees:90\n",
      "32.22222222222222\n"
     ]
    }
   ],
   "source": [
    "#4.Temperature of a city in Fahrenheit degrees is input through the keyboard. Write a\n",
    "#  program to convert this temperature into Centigrade degrees.\n",
    "\n",
    "try:\n",
    "    temperature=int(input(\"temparature of a city in fahrenheit degrees:\"))\n",
    "    temperature_conversion=(temperature-32)*5/9\n",
    "    print(temperature_conversion)\n",
    "    \n",
    "except Exception as e:\n",
    "    print(e)\n"
   ]
  },
  {
   "cell_type": "code",
   "execution_count": 90,
   "id": "96b57f89",
   "metadata": {},
   "outputs": [
    {
     "name": "stdout",
     "output_type": "stream",
     "text": [
      "enter length of rectangle:6\n",
      "enter breadth of rectangle:3\n",
      "enter radius of circle:5\n",
      "area of rectangle 18\n",
      "perimeter_rectangle 18\n",
      "area_circle 78.57142857142857\n",
      "circumference_circle 31.428571428571427\n"
     ]
    }
   ],
   "source": [
    "#5.The length & breadth of a rectangle and radius of a circle are input through the\n",
    "#  keyboard. Write a program to calculate the area & perimeter of the rectangle, and the\n",
    "#  area & circumference of the circle.\n",
    "\n",
    "try:\n",
    "    length=int(input(\"enter length of rectangle:\"))\n",
    "    breadth=int(input(\"enter breadth of rectangle:\"))\n",
    "    radius=int(input(\"enter radius of circle:\"))\n",
    "    area_rectangle= (length*breadth)\n",
    "    perimeter_rectangle=2*(length+breadth)\n",
    "    area_circle=22/7*radius**2\n",
    "    circumference_circle=2*22/7*radius\n",
    "    print(\"area of rectangle {}\".format(area_rectangle))\n",
    "    print(\"perimeter_rectangle {}\".format(perimeter_rectangle))\n",
    "    print(\"area_circle {}\".format(area_circle))\n",
    "    print(\"circumference_circle {}\".format(circumference_circle))\n",
    "except Exception as e:\n",
    "    print(e)\n",
    "    "
   ]
  },
  {
   "cell_type": "code",
   "execution_count": 1,
   "id": "3144679c",
   "metadata": {},
   "outputs": [
    {
     "name": "stdout",
     "output_type": "stream",
     "text": [
      "Enter the value for C: 5\n",
      "Enter the value for D: 9\n",
      "Original values:\n",
      "C = 5\n",
      "D = 9\n",
      "Values after interchange:\n",
      "C = 9\n",
      "D = 5\n"
     ]
    }
   ],
   "source": [
    "#6.Two numbers are input through the keyboard into two locations C and D. Write a\n",
    "#  program to interchange the contents of C and D.\n",
    "\n",
    "try:\n",
    "\n",
    "    C = input(\"Enter the value for C: \")\n",
    "    D = input(\"Enter the value for D: \")\n",
    "\n",
    "    print(\"Original values:\")\n",
    "    print(\"C =\", C)\n",
    "    print(\"D =\", D)\n",
    "    C, D = D, C\n",
    "    print(\"Values after interchange:\")\n",
    "    print(\"C =\", C)\n",
    "    print(\"D =\", D)\n",
    "    \n",
    "except Exception as e:\n",
    "    print(e)\n",
    "\n",
    "    "
   ]
  },
  {
   "cell_type": "code",
   "execution_count": 92,
   "id": "f3937558",
   "metadata": {},
   "outputs": [
    {
     "name": "stdout",
     "output_type": "stream",
     "text": [
      "5 4 3 2 1\n"
     ]
    }
   ],
   "source": [
    "#7. If a five-digit number is input through the keyboard, write a program to reverse the number.\n",
    "\n",
    "try:\n",
    "    num=12345\n",
    "    v1=num%10\n",
    "    v1\n",
    "    v11=num//10\n",
    "    v11\n",
    "    v2=v11%10\n",
    "    v2\n",
    "    v22=v11//10\n",
    "    v22\n",
    "    v3=v22%10\n",
    "    v3\n",
    "    v33=v22//10\n",
    "    v33\n",
    "    v4=v33%10\n",
    "    v4\n",
    "    v44=v33//10\n",
    "    v44\n",
    "    v5=v44%10\n",
    "    v5\n",
    "    v55=v44//10\n",
    "    v55\n",
    "    print(v1,v2,v3,v4,v5)\n",
    "except Exception as e:\n",
    "    print(e)"
   ]
  },
  {
   "cell_type": "code",
   "execution_count": 9,
   "id": "9e37a6f4",
   "metadata": {},
   "outputs": [
    {
     "name": "stdout",
     "output_type": "stream",
     "text": [
      "Enter the four digit number : 9999\n",
      "The sum of first and last digit is : 18\n"
     ]
    }
   ],
   "source": [
    "#8.If a four-digit number is input through the keyboard, write a program to obtain the sum of\n",
    "#  the first and last digit of this number.\n",
    "try:\n",
    "    num = input(\"Enter the four digit number : \")\n",
    "    if len(num) == 4:\n",
    "        first_digit = int(num[0])\n",
    "        last_digit = int(num[3])\n",
    "        sum_of_digits = first_digit + last_digit\n",
    "        print(\"The sum of first and last digit is : {}\".format(sum_of_digits))\n",
    "    else:\n",
    "        print(\"Enter a valid four digit number \")\n",
    "\n",
    "except Exception as e:\n",
    "         print(e)\n"
   ]
  },
  {
   "cell_type": "code",
   "execution_count": 7,
   "id": "7be4d4e2",
   "metadata": {},
   "outputs": [
    {
     "name": "stdout",
     "output_type": "stream",
     "text": [
      "The total population in a town is : 80,000\n",
      "The percentage of men is : 52%\n",
      "The total number of men in town is : 41600\n",
      "The total number of women in town is : 38400\n",
      "Total literacy rate is : 48%\n",
      "Total literate men is : 35%\n",
      "Total literate women is : 13%\n",
      "Total literate men in town are : 28000\n",
      "Total literate women in town are : 10400\n",
      "The total literate people in town are : 38400\n"
     ]
    }
   ],
   "source": [
    "#9. In a town, the percentage of men is 52. The percentage of total literacy is 48. If total\n",
    "#   percentage of literate men is 35 of the total population, write a program to find the total\n",
    "#   number of illiterate men and women if the population of the town is 80,000.\n",
    " \n",
    "try:\n",
    "    print(\"The total population in a town is : 80,000\")\n",
    "    print(\"The percentage of men is : 52%\")\n",
    "    men = int((52*80000)/100)\n",
    "    print(\"The total number of men in town is : {}\".format(men))\n",
    "    women = int(80000 - men)\n",
    "    print(\"The total number of women in town is : {}\".format(women))\n",
    "    print(\"Total literacy rate is : 48%\")\n",
    "    print(\"Total literate men is : 35%\")\n",
    "    literate_women = (48-35) #48-35 is 13%\n",
    "    print(\"Total literate women is : {}%\".format(literate_women))\n",
    "    total_literate_men = int((35*80000)/100)\n",
    "    print(\"Total literate men in town are : {}\".format(total_literate_men))\n",
    "    total_literate_women = int((literate_women*80000)/100)\n",
    "    print (\"Total literate women in town are : {}\".format(total_literate_women))\n",
    "    total_literate_people = int(total_literate_men + total_literate_women)\n",
    "    print(\"The total literate people in town are : {}\".format(total_literate_people))\n",
    "           \n",
    "except Exception as e:\n",
    "           print(e)\n"
   ]
  },
  {
   "cell_type": "code",
   "execution_count": 8,
   "id": "4bdec113",
   "metadata": {},
   "outputs": [
    {
     "name": "stdout",
     "output_type": "stream",
     "text": [
      "Enter the amount to be withdrawn in hundreds: 8000\n",
      "Number of 100-rupee notes: 8000\n",
      "Number of 50-rupee notes: 0\n",
      "Number of 10-rupee notes: 0\n"
     ]
    }
   ],
   "source": [
    "#10. A cashier has currency notes of denominations 10, 50 and 100. If the amount to be\n",
    "#    withdrawn is input through the keyboard in hundreds, find the total number of currency\n",
    "#    notes of each denomination the cashier will have to give to the withdrawn.\n",
    "\n",
    "        \n",
    "try:\n",
    "    withdrawal_in_hundreds = int(input(\"Enter the amount to be withdrawn in hundreds: \"))\n",
    "    withdrawal_amount = withdrawal_in_hundreds * 100\n",
    "    num_100_notes = withdrawal_amount // 100\n",
    "    remaining_amount_after_100_notes = withdrawal_amount % 100\n",
    "    num_50_notes = remaining_amount_after_100_notes // 50\n",
    "    remaining_amount_after_50_notes = remaining_amount_after_100_notes % 50\n",
    "    num_10_notes = remaining_amount_after_50_notes // 10\n",
    "    print(\"Number of 100-rupee notes:\", num_100_notes)\n",
    "    print(\"Number of 50-rupee notes:\", num_50_notes)\n",
    "    print(\"Number of 10-rupee notes:\", num_10_notes)\n",
    "except Exception as e:\n",
    "    print(e)\n"
   ]
  },
  {
   "cell_type": "code",
   "execution_count": null,
   "id": "a42ed653",
   "metadata": {},
   "outputs": [],
   "source": []
  },
  {
   "cell_type": "code",
   "execution_count": null,
   "id": "dfe1e248",
   "metadata": {},
   "outputs": [],
   "source": []
  }
 ],
 "metadata": {
  "kernelspec": {
   "display_name": "Python 3 (ipykernel)",
   "language": "python",
   "name": "python3"
  },
  "language_info": {
   "codemirror_mode": {
    "name": "ipython",
    "version": 3
   },
   "file_extension": ".py",
   "mimetype": "text/x-python",
   "name": "python",
   "nbconvert_exporter": "python",
   "pygments_lexer": "ipython3",
   "version": "3.11.5"
  }
 },
 "nbformat": 4,
 "nbformat_minor": 5
}
