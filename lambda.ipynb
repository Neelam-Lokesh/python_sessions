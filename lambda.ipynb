{
 "cells": [
  {
   "cell_type": "code",
   "execution_count": 1,
   "id": "d9889305",
   "metadata": {},
   "outputs": [
    {
     "data": {
      "text/plain": [
       "60"
      ]
     },
     "execution_count": 1,
     "metadata": {},
     "output_type": "execute_result"
    }
   ],
   "source": [
    "def add(x):\n",
    "    return(x+10)\n",
    "add(50)"
   ]
  },
  {
   "cell_type": "markdown",
   "id": "135d8608",
   "metadata": {},
   "source": [
    "### one argument"
   ]
  },
  {
   "cell_type": "code",
   "execution_count": 9,
   "id": "cbee4fae",
   "metadata": {},
   "outputs": [
    {
     "data": {
      "text/plain": [
       "60"
      ]
     },
     "execution_count": 9,
     "metadata": {},
     "output_type": "execute_result"
    }
   ],
   "source": [
    "add=lambda x:x+10               # lambda <argument> :<output>\n",
    "add(50)  "
   ]
  },
  {
   "cell_type": "code",
   "execution_count": 12,
   "id": "f8a507d3",
   "metadata": {},
   "outputs": [
    {
     "data": {
      "text/plain": [
       "4"
      ]
     },
     "execution_count": 12,
     "metadata": {},
     "output_type": "execute_result"
    }
   ],
   "source": [
    "def square(x):\n",
    "    return(x*x)\n",
    "square(2)"
   ]
  },
  {
   "cell_type": "code",
   "execution_count": 13,
   "id": "075d6882",
   "metadata": {},
   "outputs": [
    {
     "data": {
      "text/plain": [
       "4"
      ]
     },
     "execution_count": 13,
     "metadata": {},
     "output_type": "execute_result"
    }
   ],
   "source": [
    "square=lambda x:x*x\n",
    "square(2)"
   ]
  },
  {
   "cell_type": "code",
   "execution_count": 14,
   "id": "0e550374",
   "metadata": {},
   "outputs": [
    {
     "data": {
      "text/plain": [
       "8"
      ]
     },
     "execution_count": 14,
     "metadata": {},
     "output_type": "execute_result"
    }
   ],
   "source": [
    "def cube(x):\n",
    "    return(x*x*x)\n",
    "cube(2)"
   ]
  },
  {
   "cell_type": "code",
   "execution_count": 15,
   "id": "67dbf5db",
   "metadata": {},
   "outputs": [
    {
     "data": {
      "text/plain": [
       "8"
      ]
     },
     "execution_count": 15,
     "metadata": {},
     "output_type": "execute_result"
    }
   ],
   "source": [
    "cube=lambda x:x*x*x\n",
    "cube(2)"
   ]
  },
  {
   "cell_type": "markdown",
   "id": "8cb8ae2a",
   "metadata": {},
   "source": [
    "### two arguments"
   ]
  },
  {
   "cell_type": "code",
   "execution_count": 16,
   "id": "2c46d3ee",
   "metadata": {},
   "outputs": [
    {
     "data": {
      "text/plain": [
       "30"
      ]
     },
     "execution_count": 16,
     "metadata": {},
     "output_type": "execute_result"
    }
   ],
   "source": [
    "def add(a,b):\n",
    "    return(a+b)\n",
    "add(10,20)"
   ]
  },
  {
   "cell_type": "code",
   "execution_count": 22,
   "id": "de6d7d2f",
   "metadata": {},
   "outputs": [
    {
     "data": {
      "text/plain": [
       "30"
      ]
     },
     "execution_count": 22,
     "metadata": {},
     "output_type": "execute_result"
    }
   ],
   "source": [
    "add=lambda a,b:a+b   # lambda<arg1>,<arg2> :<output>\n",
    "add(10,20)"
   ]
  },
  {
   "cell_type": "code",
   "execution_count": 23,
   "id": "037c2348",
   "metadata": {},
   "outputs": [
    {
     "data": {
      "text/plain": [
       "60"
      ]
     },
     "execution_count": 23,
     "metadata": {},
     "output_type": "execute_result"
    }
   ],
   "source": [
    "def add(a,b,c):\n",
    "    return(a+b+c)\n",
    "add(10,20,30)"
   ]
  },
  {
   "cell_type": "code",
   "execution_count": 24,
   "id": "c05caf95",
   "metadata": {},
   "outputs": [
    {
     "data": {
      "text/plain": [
       "60"
      ]
     },
     "execution_count": 24,
     "metadata": {},
     "output_type": "execute_result"
    }
   ],
   "source": [
    "add=lambda a,b,c:a+b+c\n",
    "add(10,20,30)"
   ]
  },
  {
   "cell_type": "code",
   "execution_count": 27,
   "id": "aedb2e3f",
   "metadata": {},
   "outputs": [
    {
     "data": {
      "text/plain": [
       "5.0"
      ]
     },
     "execution_count": 27,
     "metadata": {},
     "output_type": "execute_result"
    }
   ],
   "source": [
    "# implement average of 3 numbers using lambda\n",
    "\n",
    "avg=lambda a,b,c:(a+b+c)/3\n",
    "avg(5,5,5)"
   ]
  },
  {
   "cell_type": "code",
   "execution_count": 28,
   "id": "cda53226",
   "metadata": {},
   "outputs": [
    {
     "data": {
      "text/plain": [
       "26.67"
      ]
     },
     "execution_count": 28,
     "metadata": {},
     "output_type": "execute_result"
    }
   ],
   "source": [
    "# implement average of c as default parameters\n",
    "\n",
    "avg=lambda a,b,c=30:round((a+b+c)/3,2)\n",
    "avg(20,30)"
   ]
  },
  {
   "cell_type": "code",
   "execution_count": 34,
   "id": "02b98713",
   "metadata": {},
   "outputs": [
    {
     "data": {
      "text/plain": [
       "20"
      ]
     },
     "execution_count": 34,
     "metadata": {},
     "output_type": "execute_result"
    }
   ],
   "source": [
    "# implement greater number by two numbers using function\n",
    "\n",
    "def greater(n1,n2):\n",
    "    if n1>n2:\n",
    "        return(n1)\n",
    "    else:\n",
    "        return(n2)\n",
    "        \n",
    "greater(10,20)"
   ]
  },
  {
   "cell_type": "code",
   "execution_count": 36,
   "id": "9c5d3622",
   "metadata": {},
   "outputs": [
    {
     "data": {
      "text/plain": [
       "False"
      ]
     },
     "execution_count": 36,
     "metadata": {},
     "output_type": "execute_result"
    }
   ],
   "source": [
    "def greater(n1,n2):\n",
    "    if n1>n2:\n",
    "        return(n1)\n",
    "    else:\n",
    "        return(n2)\n",
    "        \n",
    "greater(10,20)\n",
    "\n",
    "# lambda <arg1>,<arg2>:<if_con> else <else_op>"
   ]
  },
  {
   "cell_type": "code",
   "execution_count": 44,
   "id": "18590840",
   "metadata": {},
   "outputs": [
    {
     "data": {
      "text/plain": [
       "20"
      ]
     },
     "execution_count": 44,
     "metadata": {},
     "output_type": "execute_result"
    }
   ],
   "source": [
    "\n",
    "greater=lambda a,b:a if a>b else b              # lambda <arg1>,<arg2>:<if_con> else <else_op>\n",
    "greater(10,20)"
   ]
  },
  {
   "cell_type": "code",
   "execution_count": null,
   "id": "8085359f",
   "metadata": {},
   "outputs": [],
   "source": []
  }
 ],
 "metadata": {
  "kernelspec": {
   "display_name": "Python 3 (ipykernel)",
   "language": "python",
   "name": "python3"
  },
  "language_info": {
   "codemirror_mode": {
    "name": "ipython",
    "version": 3
   },
   "file_extension": ".py",
   "mimetype": "text/x-python",
   "name": "python",
   "nbconvert_exporter": "python",
   "pygments_lexer": "ipython3",
   "version": "3.11.5"
  }
 },
 "nbformat": 4,
 "nbformat_minor": 5
}
