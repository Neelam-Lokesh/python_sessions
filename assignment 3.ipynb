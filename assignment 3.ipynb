{
 "cells": [
  {
   "cell_type": "code",
   "execution_count": 1,
   "id": "a5366cdb",
   "metadata": {},
   "outputs": [
    {
     "name": "stdout",
     "output_type": "stream",
     "text": [
      "64\n"
     ]
    }
   ],
   "source": [
    "#1 ask the user to enter a number and print the square of the number \n",
    "try:\n",
    "    a=8\n",
    "    square=a*a\n",
    "    print(square)\n",
    "except Exception as e:\n",
    "    print(e)"
   ]
  },
  {
   "cell_type": "code",
   "execution_count": 2,
   "id": "579e2e9f",
   "metadata": {},
   "outputs": [
    {
     "name": "stdout",
     "output_type": "stream",
     "text": [
      "enter a number:5\n",
      "5---10---15---20---25\n"
     ]
    }
   ],
   "source": [
    "#2 ask the user to enter a number x.print out x,2x,3x,4x,5x each seperated\n",
    "# by 3 dishes \n",
    "\n",
    "try:\n",
    "    x=int(input(\"enter a number:\"))\n",
    "    print(f\"{x}---{2*x}---{3*x}---{4*x}---{5*x}\")\n",
    "    \n",
    "except Exception as e:\n",
    "    print(e)"
   ]
  },
  {
   "cell_type": "code",
   "execution_count": 3,
   "id": "93d7a3cd",
   "metadata": {},
   "outputs": [
    {
     "name": "stdout",
     "output_type": "stream",
     "text": [
      "enter weight in kg to convert into pounds:45\n",
      "45 kilograms= 99.00000000000001 pounds\n"
     ]
    }
   ],
   "source": [
    "#3 wap that ask the user for a weight in kilogram and converts into pounds \n",
    "# there are 2.2 pounds in kg\n",
    "try:\n",
    "    kilograms=int(input('enter weight in kg to convert into pounds:'))\n",
    "    pounds=kilograms*2.2\n",
    "    print(kilograms,'kilograms=',pounds,'pounds')\n",
    "except Exception as e:\n",
    "    print(e)\n",
    "    "
   ]
  },
  {
   "cell_type": "code",
   "execution_count": 4,
   "id": "a413db12",
   "metadata": {},
   "outputs": [
    {
     "name": "stdout",
     "output_type": "stream",
     "text": [
      "enter a num1:5\n",
      "enter a num2:7\n",
      "enter a num3:9\n",
      "21\n",
      "7.0\n"
     ]
    }
   ],
   "source": [
    "#4 wap that ask the user to enter three numbers.create variable called \n",
    "#total and average\n",
    " # that hold the sum and average of the three numbers and print it\n",
    "    \n",
    "try:\n",
    "        num1 = int(input(\"enter a num1:\"))\n",
    "        num2 = int(input(\"enter a num2:\"))\n",
    "        num3 = int(input(\"enter a num3:\"))\n",
    "        total=num1+num2+num3\n",
    "        average=(total/3)\n",
    "        print(total)\n",
    "        print(average)\n",
    "        \n",
    "except Exception as e:\n",
    "        print(e)"
   ]
  },
  {
   "cell_type": "code",
   "execution_count": 5,
   "id": "d26ee8b4",
   "metadata": {},
   "outputs": [
    {
     "name": "stdout",
     "output_type": "stream",
     "text": [
      "enter the meal amount1000\n",
      "enter the tip percent20\n",
      "200.0\n",
      "1200.0\n"
     ]
    }
   ],
   "source": [
    "#5 A lot of cellphones have tip calculator.write one.\n",
    "# ask the user for \n",
    "# the price of the meal and the percent tip they want to leave .\n",
    "# Then print both the tip amount and the \n",
    "# total bill with the tip inclued\n",
    "\n",
    "\n",
    "try:\n",
    "    meal=int(input(\"enter the meal amount\"))\n",
    "    tip=int(input(\"enter the tip percent\"))\n",
    "    tip_amount=meal*tip/100\n",
    "    total_bill=meal+tip_amount\n",
    "    print(tip_amount)\n",
    "    print(total_bill)\n",
    "        \n",
    "except Exception as e:\n",
    "    print(e)\n",
    "\n"
   ]
  },
  {
   "cell_type": "code",
   "execution_count": 6,
   "id": "cc4da3c1",
   "metadata": {},
   "outputs": [
    {
     "name": "stdout",
     "output_type": "stream",
     "text": [
      "enter ramesh's basic salary:50000\n",
      "ramesh's gross salary is: 80000.0\n"
     ]
    }
   ],
   "source": [
    "#6.Ramesh’s basic salary is input through the keyboard.\n",
    "#  His dearness allowance is 40% \n",
    "#  basic salary, and house rent allowance is 20% of basic salary.\n",
    "#  Write a program to calculate his gross salary.\n",
    "\n",
    "try:\n",
    "     \n",
    "        basic_salary=int(input(\"enter ramesh's basic salary:\")) \n",
    "        \n",
    "        dearness_allowance=(40*basic_salary)/100\n",
    "        house_rent=(20*basic_salary)/100\n",
    "        gross_salary=dearness_allowance+house_rent+basic_salary\n",
    "        print(\"ramesh's gross salary is:\",gross_salary)\n",
    "        \n",
    "        \n",
    "except Exception as e:\n",
    "    print(e)"
   ]
  },
  {
   "cell_type": "code",
   "execution_count": 7,
   "id": "5a46c442",
   "metadata": {},
   "outputs": [
    {
     "name": "stdout",
     "output_type": "stream",
     "text": [
      "Enter the distance between two cities in kilometers: 500\n",
      "Distance in meters: {meters_conversion} meters\n",
      "Distance in feet: {feet_conversion} feet\n",
      "Distance in inches: {inches_conversion} inches\n",
      "Distance in centimeters: {centimeters_conversion} centimeters\n"
     ]
    }
   ],
   "source": [
    "#7.The distance between two cities (in km.) is input through the keyboard.\n",
    "#  Write a program to convert and print this distance\n",
    "#  in meters, feet, inches and centimeters.\n",
    "\n",
    "try:\n",
    "\n",
    "    distance_in_kilometers = int(input(\"Enter the distance between two cities in kilometers: \"))\n",
    "    meters_conversion = distance_in_kilometers * 1000\n",
    "    feet_conversion = distance_in_kilometers * 3280\n",
    "    inches_conversion = distance_in_kilometers * 39370\n",
    "    centimeters_conversion = distance_in_kilometers * 100000\n",
    "    print(\"Distance in meters: {meters_conversion} meters\")\n",
    "    print(\"Distance in feet: {feet_conversion} feet\")\n",
    "    print(\"Distance in inches: {inches_conversion} inches\")\n",
    "    print(\"Distance in centimeters: {centimeters_conversion} centimeters\")\n",
    "    \n",
    "    \n",
    "except Exception as e:\n",
    "    print(e)\n"
   ]
  },
  {
   "cell_type": "code",
   "execution_count": 8,
   "id": "15704941",
   "metadata": {},
   "outputs": [
    {
     "name": "stdout",
     "output_type": "stream",
     "text": [
      "enter the marks of subject1:89\n",
      "enter the marks of subject2:95\n",
      "enter the marks of subject3:99\n",
      "enter the marks of subject4:85\n",
      "enter the marks of subject5:92\n",
      "460\n",
      "92.0\n"
     ]
    }
   ],
   "source": [
    "#8|. If the marks obtained by a student in five different subjects are \n",
    "#   input through the keyboard, find out the aggregate marks and \n",
    "#   percentage marks obtained by the student.Assume that the \n",
    "#  maximum marks that can be obtained by a student in each subject is 100.\n",
    "  \n",
    "try:\n",
    "    subject1=int(input(\"enter the marks of subject1:\"))\n",
    "    subject2=int(input(\"enter the marks of subject2:\"))\n",
    "    subject3=int(input(\"enter the marks of subject3:\"))\n",
    "    subject4=int(input(\"enter the marks of subject4:\"))\n",
    "    subject5=int(input(\"enter the marks of subject5:\"))\n",
    "    aggregate_marks=(subject1+subject2+subject3+subject4+subject5)\n",
    "    print(aggregate_marks)\n",
    "    percentage_marks=(aggregate_marks/500)*100\n",
    "    print(percentage_marks)\n",
    "    \n",
    "except Exception as e:\n",
    "    print(e)\n",
    "    "
   ]
  },
  {
   "cell_type": "code",
   "execution_count": 9,
   "id": "ee265c92",
   "metadata": {},
   "outputs": [
    {
     "name": "stdout",
     "output_type": "stream",
     "text": [
      "temparature of a city in fahrenheit degrees:30\n",
      "-1.1111111111111112\n"
     ]
    }
   ],
   "source": [
    "#9.Temperature of a city in Fahrenheit degrees is input through \n",
    "#  the keyboard. Write a program to convert this \n",
    "#  temperature into Centigrade degrees.\n",
    "\n",
    "try:\n",
    "    temperature=int(input(\"temparature of a city in fahrenheit degrees:\"))\n",
    "    temperature_conversion=(temperature-32)*5/9\n",
    "    print(temperature_conversion)\n",
    "    \n",
    "except Exception as e:\n",
    "    print(e)\n"
   ]
  },
  {
   "cell_type": "code",
   "execution_count": 10,
   "id": "31bd586a",
   "metadata": {},
   "outputs": [
    {
     "name": "stdout",
     "output_type": "stream",
     "text": [
      "enter length of rectangle:44\n",
      "enter breadth of rectangle:20\n",
      "enter radius of circle:33\n",
      "area of rectangle 880\n",
      "perimeter_rectangle 128\n",
      "area_circle 3422.5714285714284\n",
      "circumference_circle 207.42857142857142\n"
     ]
    }
   ],
   "source": [
    "#10.The length & breadth of a rectangle and radius of a circle are\n",
    "#  input through the keyboard. Write a program to calculate \n",
    "# the area & perimeter of the rectangle, and the\n",
    "#  area & circumference of the circle.\n",
    "\n",
    "try:\n",
    "    length=int(input(\"enter length of rectangle:\"))\n",
    "    breadth=int(input(\"enter breadth of rectangle:\"))\n",
    "    radius=int(input(\"enter radius of circle:\"))\n",
    "    area_rectangle= (length*breadth)\n",
    "    perimeter_rectangle=2*(length+breadth)\n",
    "    area_circle=22/7*radius**2\n",
    "    circumference_circle=2*22/7*radius\n",
    "    print(\"area of rectangle {}\".format(area_rectangle))\n",
    "    print(\"perimeter_rectangle {}\".format(perimeter_rectangle))\n",
    "    print(\"area_circle {}\".format(area_circle))\n",
    "    print(\"circumference_circle {}\".format(circumference_circle))\n",
    "except Exception as e:\n",
    "    print(e)"
   ]
  },
  {
   "cell_type": "code",
   "execution_count": 11,
   "id": "1d60136f",
   "metadata": {},
   "outputs": [
    {
     "name": "stdout",
     "output_type": "stream",
     "text": [
      "Enter the value for C: 100\n",
      "Enter the value for D: 200\n",
      "Original values:\n",
      "C = 100\n",
      "D = 200\n",
      "Values after interchange:\n",
      "C = 200\n",
      "D = 100\n"
     ]
    }
   ],
   "source": [
    "#11.Two numbers are input through the keyboard into \n",
    "#  two locations C and D. Write a program to \n",
    "#  interchange the contents of C and D.\n",
    "\n",
    "try:\n",
    "\n",
    "    C = input(\"Enter the value for C: \")\n",
    "    D = input(\"Enter the value for D: \")\n",
    "\n",
    "    print(\"Original values:\")\n",
    "    print(\"C =\", C)\n",
    "    print(\"D =\", D)\n",
    "    C, D = D, C\n",
    "    print(\"Values after interchange:\")\n",
    "    print(\"C =\", C)\n",
    "    print(\"D =\", D)\n",
    "    \n",
    "except Exception as e:\n",
    "    print(e)\n",
    "\n",
    "    "
   ]
  },
  {
   "cell_type": "code",
   "execution_count": 12,
   "id": "ebffbd34",
   "metadata": {},
   "outputs": [
    {
     "name": "stdout",
     "output_type": "stream",
     "text": [
      "5 4 3 2 1\n"
     ]
    }
   ],
   "source": [
    "#12. If a five-digit number is input through the keyboard, \n",
    "#  write a program to reverse the number.\n",
    "\n",
    "try:\n",
    "    num=12345\n",
    "    v1=num%10\n",
    "    v1\n",
    "    v11=num//10\n",
    "    v11\n",
    "    v2=v11%10\n",
    "    v2\n",
    "    v22=v11//10\n",
    "    v22\n",
    "    v3=v22%10\n",
    "    v3\n",
    "    v33=v22//10\n",
    "    v33\n",
    "    v4=v33%10\n",
    "    v4\n",
    "    v44=v33//10\n",
    "    v44\n",
    "    v5=v44%10\n",
    "    v5\n",
    "    v55=v44//10\n",
    "    v55\n",
    "    print(v1,v2,v3,v4,v5)\n",
    "except Exception as e:\n",
    "    print(e)"
   ]
  },
  {
   "cell_type": "code",
   "execution_count": 13,
   "id": "d3806a14",
   "metadata": {},
   "outputs": [
    {
     "name": "stdout",
     "output_type": "stream",
     "text": [
      "Enter the four digit number : 5000\n",
      "The sum of first and last digit is : 5\n"
     ]
    }
   ],
   "source": [
    "#13.If a four-digit number is input through the keyboard, \n",
    "#  write a program to obtain the sum of\n",
    "#  the first and last digit of this number.\n",
    "try:\n",
    "    num = input(\"Enter the four digit number : \")\n",
    "    if len(num) == 4:\n",
    "        first_digit = int(num[0])\n",
    "        last_digit = int(num[3])\n",
    "        sum_of_digits = first_digit + last_digit\n",
    "        print(\"The sum of first and last digit is : {}\".format(sum_of_digits))\n",
    "    else:\n",
    "        print(\"Enter a valid four digit number \")\n",
    "\n",
    "except Exception as e:\n",
    "         print(e)"
   ]
  },
  {
   "cell_type": "code",
   "execution_count": null,
   "id": "d1f76e73",
   "metadata": {},
   "outputs": [],
   "source": [
    "#14. In a town, the percentage of men is 52. The percentage of \n",
    "#   total literacy is 48. If total\n",
    "#   percentage of literate men is 35 of the total population, \n",
    "#   write a program to find the total number of illiterate men and women \n",
    "#  if the population of the town is 80,000.\n",
    " \n",
    "try:\n",
    "    print(\"The total population in a town is : 80,000\")\n",
    "    print(\"The percentage of men is : 52%\")\n",
    "    men = int((52*80000)/100)\n",
    "    print(\"The total number of men in town is : {}\".format(men))\n",
    "    women = int(80000 - men)\n",
    "    print(\"The total number of women in town is : {}\".format(women))\n",
    "    print(\"Total literacy rate is : 48%\")\n",
    "    print(\"Total literate men is : 35%\")\n",
    "    literate_women = (48-35) #48-35 is 13%\n",
    "    print(\"Total literate women is : {}%\".format(literate_women))\n",
    "    total_literate_men = int((35*80000)/100)\n",
    "    print(\"Total literate men in town are : {}\".format(total_literate_men))\n",
    "    total_literate_women = int((literate_women*80000)/100)\n",
    "    print (\"Total literate women in town are : {}\".format(total_literate_women))\n",
    "    total_literate_people = int(total_literate_men + total_literate_women)\n",
    "    print(\"The total literate people in town are : {}\".format(total_literate_people))\n",
    "           \n",
    "except Exception as e:\n",
    "           print(e)\n"
   ]
  },
  {
   "cell_type": "code",
   "execution_count": 14,
   "id": "2562d44c",
   "metadata": {},
   "outputs": [
    {
     "name": "stdout",
     "output_type": "stream",
     "text": [
      "Enter the amount to be withdrawn in hundreds: 10000\n",
      "Number of 100-rupee notes: 10000\n",
      "Number of 50-rupee notes: 0\n",
      "Number of 10-rupee notes: 0\n"
     ]
    }
   ],
   "source": [
    "#15. A cashier has currency notes of denominations 10, 50 and 100.\n",
    "#   If the amount to be withdrawn is input through the keyboard \n",
    "#   in hundreds, find the total number of currency notes of each \n",
    "#  denomination the cashier will have to give to the withdrawn.\n",
    "\n",
    "        \n",
    "try:\n",
    "    withdrawal_in_hundreds = int(input(\"Enter the amount to be withdrawn in hundreds: \"))\n",
    "    withdrawal_amount = withdrawal_in_hundreds * 100\n",
    "    num_100_notes = withdrawal_amount // 100\n",
    "    remaining_amount_after_100_notes = withdrawal_amount % 100\n",
    "    num_50_notes = remaining_amount_after_100_notes // 50\n",
    "    remaining_amount_after_50_notes = remaining_amount_after_100_notes % 50\n",
    "    num_10_notes = remaining_amount_after_50_notes // 10\n",
    "    print(\"Number of 100-rupee notes:\", num_100_notes)\n",
    "    print(\"Number of 50-rupee notes:\", num_50_notes)\n",
    "    print(\"Number of 10-rupee notes:\", num_10_notes)\n",
    "except Exception as e:\n",
    "    print(e)\n"
   ]
  }
 ],
 "metadata": {
  "kernelspec": {
   "display_name": "Python 3 (ipykernel)",
   "language": "python",
   "name": "python3"
  },
  "language_info": {
   "codemirror_mode": {
    "name": "ipython",
    "version": 3
   },
   "file_extension": ".py",
   "mimetype": "text/x-python",
   "name": "python",
   "nbconvert_exporter": "python",
   "pygments_lexer": "ipython3",
   "version": "3.11.5"
  }
 },
 "nbformat": 4,
 "nbformat_minor": 5
}
