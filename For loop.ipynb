{
 "cells": [
  {
   "cell_type": "code",
   "execution_count": null,
   "id": "7c51243f",
   "metadata": {},
   "outputs": [],
   "source": []
  },
  {
   "cell_type": "code",
   "execution_count": 1,
   "id": "82973b6d",
   "metadata": {},
   "outputs": [
    {
     "name": "stdout",
     "output_type": "stream",
     "text": [
      "0\n",
      "1\n",
      "2\n"
     ]
    }
   ],
   "source": [
    "# wap print : hello 3 times\n",
    "\n",
    "for i in range(3):\n",
    "    print(i)"
   ]
  },
  {
   "cell_type": "code",
   "execution_count": 2,
   "id": "4e677f18",
   "metadata": {},
   "outputs": [
    {
     "name": "stdout",
     "output_type": "stream",
     "text": [
      "hello\n",
      "hello\n",
      "hello\n"
     ]
    }
   ],
   "source": [
    "for i in range(3):\n",
    "    print('hello')"
   ]
  },
  {
   "cell_type": "code",
   "execution_count": 5,
   "id": "2b59f8f3",
   "metadata": {},
   "outputs": [
    {
     "name": "stdout",
     "output_type": "stream",
     "text": [
      "hello\n",
      "hello\n",
      "hello\n",
      "how do you do\n"
     ]
    }
   ],
   "source": [
    "for i in range(3):\n",
    "    print('hello')\n",
    "    \n",
    "    \n",
    "print('how do you do')"
   ]
  },
  {
   "cell_type": "code",
   "execution_count": 10,
   "id": "082b1af4",
   "metadata": {},
   "outputs": [
    {
     "name": "stdout",
     "output_type": "stream",
     "text": [
      "A\n",
      "A\n",
      "A\n",
      "B\n",
      "B\n",
      "c\n",
      "c\n",
      "c\n"
     ]
    }
   ],
   "source": [
    "#A\n",
    "#A\n",
    "#A\n",
    "#B\n",
    "#B\n",
    "#C\n",
    "#C\n",
    "#C\n",
    "\n",
    "\n",
    "for i in range (3):\n",
    "    print('A')\n",
    "for i in range(2):\n",
    "    print('B')\n",
    "for i in range(3):\n",
    "    print('c')"
   ]
  },
  {
   "cell_type": "code",
   "execution_count": 11,
   "id": "5c5eec4f",
   "metadata": {},
   "outputs": [
    {
     "name": "stdout",
     "output_type": "stream",
     "text": [
      "A\n",
      "B\n",
      "A\n",
      "B\n",
      "A\n",
      "B\n",
      "c\n",
      "c\n",
      "c\n"
     ]
    }
   ],
   "source": [
    "for i in range(3):\n",
    "    print('A')\n",
    "    print('B')\n",
    "    \n",
    "for i in range(3):\n",
    "    print('c')"
   ]
  },
  {
   "cell_type": "code",
   "execution_count": 13,
   "id": "f05c7288",
   "metadata": {},
   "outputs": [
    {
     "name": "stdout",
     "output_type": "stream",
     "text": [
      "100\n",
      "121\n",
      "144\n",
      "169\n",
      "196\n",
      "225\n"
     ]
    }
   ],
   "source": [
    "# wap ask the user get the square of the numbers b/w 10 to 15\n",
    "# square of 10 is 100\n",
    "# square of 11 is 121\n",
    " \n",
    "    \n",
    "for i in range(10,16):\n",
    "    print(i**2)"
   ]
  },
  {
   "cell_type": "code",
   "execution_count": 14,
   "id": "d8eddd53",
   "metadata": {},
   "outputs": [
    {
     "name": "stdout",
     "output_type": "stream",
     "text": [
      "square of 10 is 100\n",
      "square of 11 is 121\n",
      "square of 12 is 144\n",
      "square of 13 is 169\n",
      "square of 14 is 196\n",
      "square of 15 is 225\n"
     ]
    }
   ],
   "source": [
    "for i in range(10,16):\n",
    "    print(\"square of {} is {}\".format(i,i*i))"
   ]
  },
  {
   "cell_type": "code",
   "execution_count": 16,
   "id": "cf97e7ab",
   "metadata": {},
   "outputs": [
    {
     "name": "stdout",
     "output_type": "stream",
     "text": [
      "enter num1: 10\n",
      "enter num2:16\n",
      "square of 10 is 100\n",
      "square of 11 is 121\n",
      "square of 12 is 144\n",
      "square of 13 is 169\n",
      "square of 14 is 196\n",
      "square of 15 is 225\n"
     ]
    }
   ],
   "source": [
    "# the same above question\n",
    "# take numbers from keyboard\n",
    "# num1=eval(input()) 10\n",
    "# num2=eval(input())  16\n",
    "\n",
    "num1=eval(input(\"enter num1: \"))\n",
    "num2=eval(input (\"enter num2:\"))\n",
    "for i in range(num1,num2):\n",
    "    print(\"square of {} is {}\".format(i,i*i))"
   ]
  },
  {
   "cell_type": "code",
   "execution_count": 21,
   "id": "6d350ac2",
   "metadata": {},
   "outputs": [
    {
     "name": "stdout",
     "output_type": "stream",
     "text": [
      "enter num1: 10\n",
      "enter num2:16\n",
      "square of 10 is 100\n",
      "square of 11 is 121\n",
      "square of 12 is 144\n",
      "square of 13 is 169\n",
      "square of 14 is 196\n",
      "square of 15 is 225\n"
     ]
    }
   ],
   "source": [
    "def square():                              # using function without argument\n",
    "    num3=eval(input(\"enter num1: \"))\n",
    "    num6=eval(input (\"enter num2:\"))\n",
    "    for i in range(num1,num2):\n",
    "        print(\"square of {} is {}\".format(i,i*i))\n",
    "\n",
    "    \n",
    "square()"
   ]
  },
  {
   "cell_type": "code",
   "execution_count": 25,
   "id": "0abd6ae6",
   "metadata": {},
   "outputs": [
    {
     "name": "stdout",
     "output_type": "stream",
     "text": [
      "square of 10 is 100\n",
      "square of 11 is 121\n",
      "square of 12 is 144\n",
      "square of 13 is 169\n",
      "square of 14 is 196\n",
      "square of 15 is 225\n"
     ]
    }
   ],
   "source": [
    "def square(num1,num2):                              # using function with argument\n",
    "    for i in range(num1,num2):\n",
    "        print(\"square of {} is {}\".format(i,i*i))\n",
    "\n",
    "    \n",
    "square(10,16)"
   ]
  },
  {
   "cell_type": "code",
   "execution_count": 31,
   "id": "13a4c1b9",
   "metadata": {},
   "outputs": [
    {
     "name": "stdout",
     "output_type": "stream",
     "text": [
      "square of 10 is 100\n",
      "square of 11 is 121\n",
      "square of 12 is 144\n",
      "square of 13 is 169\n",
      "square of 14 is 196\n",
      "square of 15 is 225\n"
     ]
    }
   ],
   "source": [
    "def square(num1,num2):                              # using function with argument\n",
    "    for i in range(num1,num2):\n",
    "        print(\"square of {} is {}\".format(i,i*i))\n",
    "\n",
    "    \n",
    "square(10,16)"
   ]
  },
  {
   "cell_type": "code",
   "execution_count": 36,
   "id": "5e1cdc34",
   "metadata": {},
   "outputs": [
    {
     "name": "stdout",
     "output_type": "stream",
     "text": [
      "enter a number:3\n",
      "square of 3 is 9\n",
      "enter a number:5\n",
      "square of 5 is 25\n",
      "enter a number:7\n",
      "square of 7 is 49\n",
      "enter a number:9\n",
      "square of 9 is 81\n",
      "enter a number:4\n",
      "square of 4 is 16\n"
     ]
    }
   ],
   "source": [
    "# wap ask the user to print square of the 5 numbers and these 5 numbers \n",
    "# you need to ask the user every time\n",
    "\n",
    "for i in range(5):\n",
    "    num=eval(input('enter a number:'))\n",
    "    print(\"square of {} is {}\".format(num,num*num))\n"
   ]
  },
  {
   "cell_type": "code",
   "execution_count": 38,
   "id": "0dc4d999",
   "metadata": {},
   "outputs": [
    {
     "name": "stdout",
     "output_type": "stream",
     "text": [
      "square of 0 is 0\n",
      "square of 1 is 1\n",
      "square of 2 is 4\n",
      "square of 3 is 9\n",
      "square of 4 is 16\n"
     ]
    }
   ],
   "source": [
    "for i in range(5):\n",
    "    print(\"square of {} is {}\".format(i,i*i))\n"
   ]
  },
  {
   "cell_type": "code",
   "execution_count": 39,
   "id": "95da40ce",
   "metadata": {},
   "outputs": [
    {
     "name": "stdout",
     "output_type": "stream",
     "text": [
      "enter a number:5\n",
      "square of 5 is 25\n",
      "square of 5 is 25\n",
      "square of 5 is 25\n",
      "square of 5 is 25\n",
      "square of 5 is 25\n"
     ]
    }
   ],
   "source": [
    "num=eval(input('enter a number:'))\n",
    "for i in range(5):\n",
    "    print(\"square of {} is {}\".format(num,num*num))\n"
   ]
  },
  {
   "cell_type": "code",
   "execution_count": 41,
   "id": "5d3e2487",
   "metadata": {},
   "outputs": [
    {
     "name": "stdout",
     "output_type": "stream",
     "text": [
      "square of 18 is 324\n",
      "square of 8 is 64\n",
      "square of 11 is 121\n",
      "square of 17 is 289\n",
      "square of 11 is 121\n"
     ]
    }
   ],
   "source": [
    "# wap ask user to print 5 times square of a number \n",
    "# this time you need to take every time a random number\n",
    "\n",
    "for i in range(5):\n",
    "    import random\n",
    "    num=random.randint(1,20)\n",
    "    print(\"square of {} is {}\".format(num,num*num))\n"
   ]
  },
  {
   "cell_type": "code",
   "execution_count": 44,
   "id": "1fc09add",
   "metadata": {},
   "outputs": [
    {
     "name": "stdout",
     "output_type": "stream",
     "text": [
      "square of 3 is 9\n",
      "square of 20 is 400\n",
      "square of 8 is 64\n",
      "square of 16 is 256\n",
      "square of 13 is 169\n"
     ]
    }
   ],
   "source": [
    "import random\n",
    "for i in range(5):\n",
    "    num=random.randint(1,20)\n",
    "    print(\"square of {} is {}\".format(num,num*num))\n"
   ]
  },
  {
   "cell_type": "code",
   "execution_count": 56,
   "id": "7fb68028",
   "metadata": {},
   "outputs": [
    {
     "name": "stdout",
     "output_type": "stream",
     "text": [
      "the given is even 10\n",
      "the given is  odd 11\n",
      "the given is even 12\n",
      "the given is  odd 13\n",
      "the given is even 14\n",
      "the given is  odd 15\n",
      "the given is even 16\n",
      "the given is  odd 17\n",
      "the given is even 18\n",
      "the given is  odd 19\n",
      "the given is even 20\n",
      "the given is  odd 21\n",
      "the given is even 22\n",
      "the given is  odd 23\n",
      "the given is even 24\n",
      "the given is  odd 25\n",
      "the given is even 26\n",
      "the given is  odd 27\n",
      "the given is even 28\n",
      "the given is  odd 29\n",
      "the given is even 30\n"
     ]
    }
   ],
   "source": [
    "# wap ask the user print the given number even or odd\n",
    "# you need to take the numbers b/w 10 to 30\n",
    "\n",
    "# iterate the loop b/w 10 to 30\n",
    "# every time apply if i%2==0: print even\n",
    "#                  else: print odd\n",
    "\n",
    "for i in range(10,31):\n",
    "    if i%2==0:\n",
    "        print(\"the given is even {}\".format(i))\n",
    "    else: \n",
    "        print(\"the given is  odd {}\".format(i))"
   ]
  },
  {
   "cell_type": "code",
   "execution_count": 61,
   "id": "39a4d4bb",
   "metadata": {},
   "outputs": [
    {
     "name": "stdout",
     "output_type": "stream",
     "text": [
      "the given  is  odd 19\n",
      "the given  is even 30\n",
      "the given  is even 28\n",
      "the given  is even 20\n",
      "the given  is even 28\n"
     ]
    }
   ],
   "source": [
    "import random\n",
    "for i in range(5):\n",
    "    num=random.randint(10,30)\n",
    "    if num%2==0:\n",
    "        print(\"the given  is even {}\".format(num))\n",
    "    else: \n",
    "        print(\"the given  is  odd {}\".format(num))"
   ]
  },
  {
   "cell_type": "code",
   "execution_count": 66,
   "id": "833e0790",
   "metadata": {},
   "outputs": [
    {
     "name": "stdout",
     "output_type": "stream",
     "text": [
      "the given  is  odd 5\n"
     ]
    }
   ],
   "source": [
    "def cell(num):                                              # creating function\n",
    "    if num%2==0:\n",
    "        print(\"the given  is even {}\".format(num))\n",
    "    else: \n",
    "        print(\"the given  is  odd {}\".format(num))\n",
    "        \n",
    "cell(5)\n"
   ]
  },
  {
   "cell_type": "code",
   "execution_count": 67,
   "id": "6a3ac221",
   "metadata": {},
   "outputs": [
    {
     "ename": "NameError",
     "evalue": "name 'even_odd' is not defined",
     "output_type": "error",
     "traceback": [
      "\u001b[1;31m---------------------------------------------------------------------------\u001b[0m",
      "\u001b[1;31mNameError\u001b[0m                                 Traceback (most recent call last)",
      "Cell \u001b[1;32mIn[67], line 10\u001b[0m\n\u001b[0;32m      8\u001b[0m \u001b[38;5;28;01mfor\u001b[39;00m i \u001b[38;5;129;01min\u001b[39;00m \u001b[38;5;28mrange\u001b[39m(\u001b[38;5;241m5\u001b[39m):\n\u001b[0;32m      9\u001b[0m     num\u001b[38;5;241m=\u001b[39mrandom\u001b[38;5;241m.\u001b[39mrandint(\u001b[38;5;241m10\u001b[39m,\u001b[38;5;241m30\u001b[39m)\n\u001b[1;32m---> 10\u001b[0m     even_odd(num)\n\u001b[0;32m     12\u001b[0m cell(\u001b[38;5;241m5\u001b[39m)\n",
      "\u001b[1;31mNameError\u001b[0m: name 'even_odd' is not defined"
     ]
    }
   ],
   "source": [
    "def cell(num):                                              # creating function\n",
    "    if num%2==0:\n",
    "        print(\"the given  is even {}\".format(num))\n",
    "    else: \n",
    "        print(\"the given  is  odd {}\".format(num))\n",
    "        \n",
    "import random\n",
    "for i in range(5):\n",
    "    num=random.randint(10,30)\n",
    "    even_odd(num)\n",
    "        \n",
    "cell(5)\n"
   ]
  },
  {
   "cell_type": "code",
   "execution_count": 74,
   "id": "cda74cb8",
   "metadata": {},
   "outputs": [
    {
     "name": "stdout",
     "output_type": "stream",
     "text": [
      "enter a number:5\n",
      "you lost\n",
      "enter a number:8\n",
      "you lost\n",
      "enter a number:6\n",
      "you lost\n"
     ]
    }
   ],
   "source": [
    "# take a random number from random package b/w 1 to 10\n",
    "# ask the user enter a number b/w 1 to 10\n",
    "# if the number ==random number:\n",
    "# print ('you won')\n",
    "# else:\n",
    "# print('you lost')\n",
    "\n",
    "\n",
    "import random\n",
    "randomm=random.randint(1,10)\n",
    "for i in range(3):\n",
    "    num=eval(input(\"enter a number:\"))\n",
    "    if num==randomm:\n",
    "        print('you won')\n",
    "    else:\n",
    "        print('you lost')"
   ]
  },
  {
   "cell_type": "code",
   "execution_count": 76,
   "id": "1b51ca75",
   "metadata": {},
   "outputs": [
    {
     "name": "stdout",
     "output_type": "stream",
     "text": [
      "enter a number:5\n",
      "you won\n",
      "enter a number:3\n",
      "you lost\n",
      "enter a number:8\n",
      "you lost\n",
      "the random number is : 5\n"
     ]
    }
   ],
   "source": [
    "import random\n",
    "randomm=random.randint(1,10)\n",
    "for i in range(3):\n",
    "    num=eval(input(\"enter a number:\"))\n",
    "    if num==randomm:\n",
    "        print('you won')\n",
    "    else:\n",
    "        print('you lost')\n",
    "print(\"the random number is :\",randomm)"
   ]
  },
  {
   "cell_type": "code",
   "execution_count": 87,
   "id": "a135f216",
   "metadata": {},
   "outputs": [
    {
     "name": "stdout",
     "output_type": "stream",
     "text": [
      "enter a number:5\n",
      "you lost\n",
      "the number of chances left is : 2\n",
      "enter a number:4\n",
      "you won\n"
     ]
    }
   ],
   "source": [
    "# improvise above code\n",
    "# you need to mention number of chances left\n",
    "# the user whenever he fail/lose\n",
    "\n",
    "import random\n",
    "randomm=random.randint(1,10)\n",
    "for i in range(3):\n",
    "    num=eval(input(\"enter a number:\"))\n",
    "    if num==randomm:\n",
    "        print('you won')\n",
    "        break\n",
    "    else:\n",
    "        print('you lost')\n",
    "        print(\"the number of chances left is :\",(2-i))"
   ]
  },
  {
   "cell_type": "code",
   "execution_count": 90,
   "id": "c4307745",
   "metadata": {},
   "outputs": [
    {
     "name": "stdout",
     "output_type": "stream",
     "text": [
      "enter how many chances you want:3\n",
      "enter a number:3\n",
      "you lost\n",
      "the number of chances left is : 2\n",
      "enter a number:5\n",
      "you lost\n",
      "the number of chances left is : 1\n",
      "enter a number:6\n",
      "you lost\n",
      "the number of chances left is : 0\n"
     ]
    }
   ],
   "source": [
    "import random\n",
    "randomm=random.randint(1,10)\n",
    "chances=eval(input(\"enter how many chances you want:\"))\n",
    "for i in range(3):\n",
    "    num=eval(input(\"enter a number:\"))\n",
    "    if num==randomm:\n",
    "        print('you won')\n",
    "        break\n",
    "    else:\n",
    "        print('you lost')\n",
    "        print(\"the number of chances left is :\",chances-1-i)"
   ]
  },
  {
   "cell_type": "code",
   "execution_count": 96,
   "id": "0ffa74e6",
   "metadata": {},
   "outputs": [
    {
     "name": "stdout",
     "output_type": "stream",
     "text": [
      "enter how many chances you want:3\n",
      "enter a number:4\n",
      "you lost\n",
      "the number of chances left is : 2\n",
      "enter a number:6\n",
      "you lost\n",
      "the number of chances left is : 1\n",
      "enter a number:4\n",
      "you lost\n",
      "pls try again after 10min\n"
     ]
    }
   ],
   "source": [
    "# improvise above code\n",
    "# when ever the user lost all the choices \n",
    "# it should print all the chances are over\n",
    "# print('pls try again 10mins')\n",
    "\n",
    "import random\n",
    "randomm=random.randint(1,10)\n",
    "chances=eval(input(\"enter how many chances you want:\"))\n",
    "for i in range(3):\n",
    "    num=eval(input(\"enter a number:\"))\n",
    "    if num==randomm:\n",
    "        print('you won')\n",
    "        break\n",
    "        \n",
    "    elif chances-1-i==0:\n",
    "        print(\"you lost\")\n",
    "        print(\"pls try again after 10min\")\n",
    "    else:\n",
    "        print('you lost')\n",
    "        print(\"the number of chances left is :\",chances-1-i)\n",
    "        \n",
    "        "
   ]
  },
  {
   "cell_type": "code",
   "execution_count": 7,
   "id": "bcccd4ee",
   "metadata": {},
   "outputs": [
    {
     "name": "stdout",
     "output_type": "stream",
     "text": [
      "1\n",
      "3\n",
      "6\n",
      "10\n",
      "15\n",
      "21\n",
      "28\n",
      "36\n",
      "45\n",
      "55\n"
     ]
    }
   ],
   "source": [
    "###### wap ask the user get the sum of 10 natural numbers \n",
    "\n",
    "summ=0\n",
    "for i in range(1,11):           \n",
    "    summ=summ+i                   \n",
    "    print(summ)\n",
    "    \n",
    "# 0+1=1\n",
    "# 1+2=3\n",
    "# 3+3=6\n",
    "# 6+4=10\n",
    "# 10+5=15\n",
    "# sum+i\n"
   ]
  },
  {
   "cell_type": "code",
   "execution_count": 10,
   "id": "49783631",
   "metadata": {},
   "outputs": [
    {
     "name": "stdout",
     "output_type": "stream",
     "text": [
      "0+1 is:\n",
      "1\n",
      "1+2 is:\n",
      "3\n",
      "3+3 is:\n",
      "6\n",
      "6+4 is:\n",
      "10\n",
      "10+5 is:\n",
      "15\n",
      "15+6 is:\n",
      "21\n",
      "21+7 is:\n",
      "28\n",
      "28+8 is:\n",
      "36\n",
      "36+9 is:\n",
      "45\n",
      "45+10 is:\n",
      "55\n",
      "The sum of first 10 natural numbers is : 55\n"
     ]
    }
   ],
   "source": [
    "summ=0\n",
    "for i in range(1,11):\n",
    "    print(\"{}+{} is:\".format(summ,i))\n",
    "    summ=summ+i                   \n",
    "    print(summ)       # in this loop the last value is 55\n",
    "    \n",
    "    \n",
    "print(\"The sum of first 10 natural numbers is :\",summ)"
   ]
  },
  {
   "cell_type": "code",
   "execution_count": 11,
   "id": "2f5ab35d",
   "metadata": {},
   "outputs": [
    {
     "name": "stdout",
     "output_type": "stream",
     "text": [
      "0\n",
      "1\n",
      "2\n",
      "3\n",
      "4\n",
      "5\n",
      "6\n",
      "7\n",
      "8\n",
      "9\n"
     ]
    },
    {
     "data": {
      "text/plain": [
       "9"
      ]
     },
     "execution_count": 11,
     "metadata": {},
     "output_type": "execute_result"
    }
   ],
   "source": [
    "for i in range(10):\n",
    "    num=i\n",
    "    print(i)\n",
    "    \n",
    "num"
   ]
  },
  {
   "cell_type": "markdown",
   "id": "df1c7343",
   "metadata": {},
   "source": [
    "#### Note\n",
    "\n",
    "- whenever if you want implement counter program\n",
    "- summ program\n",
    "- initilize the variables with zero \n",
    "- like: summ=0 or count=0\n",
    "- inside the loop based on the problem uodate the variables\n",
    "- like: summ=summ+i  or count=count+i\n",
    "- like: summ+=i   or  count+=i"
   ]
  },
  {
   "cell_type": "code",
   "execution_count": 22,
   "id": "01cc9d2e",
   "metadata": {},
   "outputs": [
    {
     "name": "stdout",
     "output_type": "stream",
     "text": [
      "when is even: 0\n",
      "the given  is even 20\n",
      "when is even: 1\n",
      "the given  is even 28\n",
      "when is even: 2\n",
      "the given  is even 28\n",
      "when is even: 3\n",
      "the given  is even 10\n",
      "when is odd: 4\n",
      "the given  is  odd 27\n",
      "4 1\n"
     ]
    }
   ],
   "source": [
    "# wap ask the user print the given number even or odd\n",
    "# you need to take the numbers b/w 10 to 30 \n",
    "# this process you need to 5 times\n",
    "\n",
    "# iterate the loop b/w 10 to 30\n",
    "# every time apply if i%2==0: print even\n",
    "#                  else: print odd\n",
    "\n",
    "# improvise this problem\n",
    "# by count the number of even and odd you are getting\n",
    "\n",
    "\n",
    "even_count=0\n",
    "odd_count=0\n",
    "import random\n",
    "for i in range(5):\n",
    "    num=random.randint(10,30)\n",
    "    if num%2==0:\n",
    "        print('when is even:',i)\n",
    "        print(\"the given  is even {}\".format(num))\n",
    "        even_count=even_count+1\n",
    "    else: \n",
    "        print('when is odd:',i)\n",
    "        print(\"the given  is  odd {}\".format(num))\n",
    "        odd_count=odd_count+1\n",
    "        \n",
    "print(even_count,odd_count)"
   ]
  },
  {
   "cell_type": "code",
   "execution_count": 26,
   "id": "19509e85",
   "metadata": {},
   "outputs": [
    {
     "name": "stdout",
     "output_type": "stream",
     "text": [
      "the given is odd 15\n",
      "the given is even 20\n",
      "the given is even 30\n",
      "the given is even 12\n",
      "the given is odd 19\n"
     ]
    }
   ],
   "source": [
    "even_count=0\n",
    "odd_count=0\n",
    "import random\n",
    "for i in range(5):\n",
    "    num=random.randint(10,30)\n",
    "    if num%2==0:\n",
    "        print(\"the given is even {}\".format(num))\n",
    "        even_count=even_count+1\n",
    "    else: \n",
    "        print(\"the given is odd {}\".format(num))\n",
    "        odd_count=odd_count+1\n",
    "        "
   ]
  },
  {
   "cell_type": "code",
   "execution_count": 1,
   "id": "87e7a259",
   "metadata": {},
   "outputs": [
    {
     "name": "stdout",
     "output_type": "stream",
     "text": [
      "60\n",
      "85\n",
      "99\n",
      "84\n",
      "75\n",
      "82\n",
      "The number of values more than 50 is: 6\n"
     ]
    }
   ],
   "source": [
    "# wap ask the user take a number 1 to 99 iterate the loop \n",
    "# 10 times count how many times a number is coming and greater than 50\n",
    "\n",
    "import random\n",
    "count=0\n",
    "for i in range(10):\n",
    "    num=random.randint(1,99)\n",
    "    if num>50:\n",
    "        print(num)\n",
    "        count=count+1\n",
    "    \n",
    "print(\"The number of values more than 50 is:\",count)"
   ]
  },
  {
   "cell_type": "code",
   "execution_count": 41,
   "id": "d1f27e28",
   "metadata": {},
   "outputs": [
    {
     "name": "stdout",
     "output_type": "stream",
     "text": [
      "enter which number divisiors want to know:10\n",
      "10 is divisible by 1\n",
      "10 is divisible by 2\n",
      "10 is divisible by 5\n",
      "10 is divisible by 10\n",
      "The number of divisiors are: 4\n"
     ]
    }
   ],
   "source": [
    "# number of divisiors program\n",
    "# 10 is divisible by what numbers\n",
    "# 10/1 10/2 10/3 10/4 10/5 10/6 10/7 10/8 10/9 10/10 \n",
    "# num%i==0\n",
    "# 5 divisiors: 1 to 5\n",
    "\n",
    "count=0\n",
    "num=eval(input(\"enter which number divisiors want to know:\"))\n",
    "for i in range(1,num+1):\n",
    "    if num%i==0:\n",
    "        print(\"{} is divisible by {}\".format(num,i))\n",
    "        count=count+1\n",
    "    \n",
    "print(\"The number of divisiors are:\",count)"
   ]
  },
  {
   "cell_type": "code",
   "execution_count": 3,
   "id": "620919a2",
   "metadata": {},
   "outputs": [
    {
     "name": "stdout",
     "output_type": "stream",
     "text": [
      "enter which number divisiors want to know:50\n",
      "50 is divisible by 1\n",
      "50 is divisible by 2\n",
      "50 is divisible by 5\n",
      "50 is divisible by 10\n",
      "50 is divisible by 25\n",
      "50 is divisible by 50\n",
      "The number of divisiors are: 6\n",
      "The number of divisiors are: 44\n"
     ]
    }
   ],
   "source": [
    "# number of divisiors program\n",
    "# 10 is divisible by what numbers\n",
    "# 10/1 10/2 10/3 10/4 10/5 10/6 10/7 10/8 10/9 10/10 \n",
    "# num%i==0\n",
    "# 5 divisiors: 1 to 5\n",
    "\n",
    "d_count=0\n",
    "nd_count=0\n",
    "num=eval(input(\"enter which number divisiors want to know:\"))\n",
    "for i in range(1,num+1):\n",
    "    if num%i==0:\n",
    "        print(\"{} is divisible by {}\".format(num,i))\n",
    "        d_count=d_count+1\n",
    "    else:\n",
    "         nd_count=nd_count+1\n",
    "    \n",
    "print(\"The number of divisiors are:\",d_count)\n",
    "print(\"The number of divisiors are:\",nd_count)"
   ]
  },
  {
   "cell_type": "code",
   "execution_count": 70,
   "id": "e043b6ef",
   "metadata": {},
   "outputs": [
    {
     "name": "stdout",
     "output_type": "stream",
     "text": [
      "enter which number divisiors want to know:10\n",
      "10 is divisible by 1\n",
      "10 is divisible by 2\n",
      "10 is divisible by 5\n",
      "10 is divisible by 10\n",
      "0 0\n"
     ]
    }
   ],
   "source": [
    "\n",
    "num=eval(input(\"enter which number divisiors want to know:\"))\n",
    "def counter():\n",
    "    d_count=0\n",
    "    nd_count=0\n",
    "    for i in range(1,num+1):\n",
    "        if num%i==0:\n",
    "            print(\"{} is divisible by {}\".format(num,i))\n",
    "            count=d_count+1\n",
    "        else:\n",
    "             count=nd_count+1\n",
    "    return(d_count,nd_count)\n",
    "\n",
    "val1,val2=counter()\n",
    "print(val1,val2)\n",
    "\n"
   ]
  },
  {
   "cell_type": "code",
   "execution_count": null,
   "id": "8e25f0ac",
   "metadata": {},
   "outputs": [],
   "source": [
    "Note:\n",
    "    \n",
    "    - when ever if you want implement counter program\n",
    "    - "
   ]
  },
  {
   "cell_type": "code",
   "execution_count": 76,
   "id": "52e09926",
   "metadata": {},
   "outputs": [
    {
     "name": "stdout",
     "output_type": "stream",
     "text": [
      "enter which number divisiors want to know:10\n",
      "10 is divisible by1\n",
      "10 is divisible by2\n",
      "10 is divisible by5\n",
      "10 is divisible by10\n",
      "4 6\n"
     ]
    }
   ],
   "source": [
    "# function in function\n",
    "\n",
    "def condition(num,d_count,nd_count,i):\n",
    "    if num%i==0:\n",
    "        print(\"{} is divisible by{}\".format(num,i))\n",
    "        d_count=d_count+1\n",
    "    else:\n",
    "        nd_count=nd_count+1\n",
    "    return(d_count,nd_count)\n",
    "\n",
    "\n",
    "def counter2():\n",
    "    d_count=0\n",
    "    nd_count=0\n",
    "    num=eval(input(\"enter which number divisiors want to know:\"))\n",
    "    for i in range(1,num+1):\n",
    "        d_count,nd_count=condition(num,d_count,nd_count,i)\n",
    "        \n",
    "    return(d_count,nd_count)\n",
    "\n",
    "\n",
    "val1,val2=counter2()\n",
    "print(val1,val2)\n"
   ]
  },
  {
   "cell_type": "code",
   "execution_count": null,
   "id": "89dc71ca",
   "metadata": {},
   "outputs": [],
   "source": [
    " "
   ]
  },
  {
   "cell_type": "code",
   "execution_count": null,
   "id": "a113746b",
   "metadata": {},
   "outputs": [],
   "source": []
  },
  {
   "cell_type": "code",
   "execution_count": null,
   "id": "30b3078e",
   "metadata": {},
   "outputs": [],
   "source": []
  }
 ],
 "metadata": {
  "kernelspec": {
   "display_name": "Python 3 (ipykernel)",
   "language": "python",
   "name": "python3"
  },
  "language_info": {
   "codemirror_mode": {
    "name": "ipython",
    "version": 3
   },
   "file_extension": ".py",
   "mimetype": "text/x-python",
   "name": "python",
   "nbconvert_exporter": "python",
   "pygments_lexer": "ipython3",
   "version": "3.11.5"
  }
 },
 "nbformat": 4,
 "nbformat_minor": 5
}
