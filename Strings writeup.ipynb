{
 "cells": [
  {
   "cell_type": "markdown",
   "id": "ad1d3af2",
   "metadata": {},
   "source": [
    "# $Strings$"
   ]
  },
  {
   "cell_type": "markdown",
   "id": "b836a4c5",
   "metadata": {},
   "source": [
    "- The strings are enclosed with single quotes or double quotes\n",
    "  ('') or (\"\")\n",
    "- Doc string is used to say information about python code\n",
    "- Strings are used to represent text or charaters\n",
    "- It is mutable we can change\n",
    "- strings are immutable we cannot change the values by \n",
    "  using index operation\n",
    "- strings can concatenated  using '+' operator"
   ]
  },
  {
   "cell_type": "code",
   "execution_count": 5,
   "id": "f6e63037",
   "metadata": {},
   "outputs": [
    {
     "name": "stdout",
     "output_type": "stream",
     "text": [
      "Hello World\n"
     ]
    }
   ],
   "source": [
    "string1='Hello World'        # single quote\n",
    "print(string1)"
   ]
  },
  {
   "cell_type": "code",
   "execution_count": 3,
   "id": "da787508",
   "metadata": {},
   "outputs": [
    {
     "name": "stdout",
     "output_type": "stream",
     "text": [
      "Hello World\n"
     ]
    }
   ],
   "source": [
    "string1=\"Hello World\"         # double quotes\n",
    "print(string1)"
   ]
  },
  {
   "cell_type": "markdown",
   "id": "124b6c9b",
   "metadata": {},
   "source": [
    "- how to read the data\n",
    "- single code ,double codes , triple codes\n",
    "- doc strings\n",
    "- type\n",
    "- max\n",
    "- min\n",
    "- len\n",
    "- addition of 2 strings(concatentation)\n",
    "- multiplication\n",
    "- substraction\n",
    "- division\n",
    "- in operator(for loop)\n",
    "- index\n",
    "- mutable condition\n",
    "- slice\n",
    "- string methods"
   ]
  },
  {
   "cell_type": "markdown",
   "id": "6b325d1f",
   "metadata": {},
   "source": [
    "### $type$"
   ]
  },
  {
   "cell_type": "code",
   "execution_count": 6,
   "id": "d7705559",
   "metadata": {},
   "outputs": [
    {
     "data": {
      "text/plain": [
       "'Hello World'"
      ]
     },
     "execution_count": 6,
     "metadata": {},
     "output_type": "execute_result"
    }
   ],
   "source": [
    "string1"
   ]
  },
  {
   "cell_type": "code",
   "execution_count": 7,
   "id": "12586529",
   "metadata": {},
   "outputs": [
    {
     "data": {
      "text/plain": [
       "str"
      ]
     },
     "execution_count": 7,
     "metadata": {},
     "output_type": "execute_result"
    }
   ],
   "source": [
    "type(string1)    "
   ]
  },
  {
   "cell_type": "markdown",
   "id": "d6fbd5ab",
   "metadata": {},
   "source": [
    "### $len$"
   ]
  },
  {
   "cell_type": "markdown",
   "id": "f40b03fb",
   "metadata": {},
   "source": [
    "- It finds length of the string\n",
    "- It also count the space and symbols\n"
   ]
  },
  {
   "cell_type": "code",
   "execution_count": 21,
   "id": "135c7592",
   "metadata": {},
   "outputs": [
    {
     "name": "stdout",
     "output_type": "stream",
     "text": [
      "python\n"
     ]
    }
   ],
   "source": [
    "str1='python'\n",
    "print(str1)"
   ]
  },
  {
   "cell_type": "code",
   "execution_count": 22,
   "id": "2d7b7b1d",
   "metadata": {},
   "outputs": [
    {
     "data": {
      "text/plain": [
       "6"
      ]
     },
     "execution_count": 22,
     "metadata": {},
     "output_type": "execute_result"
    }
   ],
   "source": [
    "len(str1)"
   ]
  },
  {
   "cell_type": "markdown",
   "id": "4fb4b1eb",
   "metadata": {},
   "source": [
    "### $max$"
   ]
  },
  {
   "cell_type": "markdown",
   "id": "7c7003c1",
   "metadata": {},
   "source": [
    "- It finds the maximum value of string by using ASCII\n",
    "- ASCII = American Standered Code for Information Interchange\n",
    "- The greatest value is called maximum"
   ]
  },
  {
   "cell_type": "code",
   "execution_count": 19,
   "id": "249b3f8a",
   "metadata": {},
   "outputs": [
    {
     "name": "stdout",
     "output_type": "stream",
     "text": [
      "python\n"
     ]
    }
   ],
   "source": [
    "str1='python'\n",
    "print(str1)"
   ]
  },
  {
   "cell_type": "code",
   "execution_count": 20,
   "id": "86c79d8b",
   "metadata": {},
   "outputs": [
    {
     "data": {
      "text/plain": [
       "'y'"
      ]
     },
     "execution_count": 20,
     "metadata": {},
     "output_type": "execute_result"
    }
   ],
   "source": [
    "max(str1)"
   ]
  },
  {
   "cell_type": "markdown",
   "id": "5378f473",
   "metadata": {},
   "source": [
    "### $min$"
   ]
  },
  {
   "cell_type": "markdown",
   "id": "3d89ae3b",
   "metadata": {},
   "source": [
    "- It finds the minimum value of string  by using ascii values\n",
    "- The lowest value is called minimum "
   ]
  },
  {
   "cell_type": "code",
   "execution_count": 17,
   "id": "a062f5ba",
   "metadata": {},
   "outputs": [
    {
     "name": "stdout",
     "output_type": "stream",
     "text": [
      "python\n"
     ]
    }
   ],
   "source": [
    "str1='python'\n",
    "print(str1)"
   ]
  },
  {
   "cell_type": "code",
   "execution_count": 18,
   "id": "7c320c90",
   "metadata": {},
   "outputs": [
    {
     "data": {
      "text/plain": [
       "'h'"
      ]
     },
     "execution_count": 18,
     "metadata": {},
     "output_type": "execute_result"
    }
   ],
   "source": [
    "min(str1)"
   ]
  },
  {
   "cell_type": "code",
   "execution_count": 23,
   "id": "498db380",
   "metadata": {},
   "outputs": [
    {
     "data": {
      "text/plain": [
       "(112, 121, 116, 104, 111, 110)"
      ]
     },
     "execution_count": 23,
     "metadata": {},
     "output_type": "execute_result"
    }
   ],
   "source": [
    "# ASSCII values for 'python'\n",
    " \n",
    "ord('p'),ord('y'),ord('t'),ord('h'),ord('o'),ord('n')"
   ]
  },
  {
   "cell_type": "code",
   "execution_count": 41,
   "id": "b79003a4",
   "metadata": {},
   "outputs": [
    {
     "name": "stdout",
     "output_type": "stream",
     "text": [
      "The ascii value of l is 108\n",
      "The ascii value of o is 111\n",
      "The ascii value of k is 107\n",
      "The ascii value of e is 101\n",
      "The ascii value of s is 115\n",
      "The ascii value of h is 104\n",
      "The max value lokesh is s\n",
      "The min value lokesh is e\n"
     ]
    }
   ],
   "source": [
    "# Now we find ascii values for a word.find max and min \n",
    "\n",
    "str1='lokesh'\n",
    "for i in str1:\n",
    "    print(\"The ascii value of {} is {}\".format(i,ord(i)))\n",
    "print(\"The max value {} is {}\".format(str1,max(str1)))\n",
    "print(\"The min value {} is {}\".format(str1,min(str1)))\n"
   ]
  },
  {
   "cell_type": "code",
   "execution_count": null,
   "id": "2c45af7b",
   "metadata": {},
   "outputs": [],
   "source": [
    "for i in string.ascii_lowercase:\n",
    "    print(\"the ascii value of {} is {}\".format(i,ord(i)))\n",
    "    "
   ]
  },
  {
   "cell_type": "markdown",
   "id": "b1bb3843",
   "metadata": {},
   "source": [
    "### $Concatention$"
   ]
  },
  {
   "cell_type": "markdown",
   "id": "88591318",
   "metadata": {},
   "source": [
    "- concatenation means addition operation\n",
    "- It uses the '+' operator\n",
    "- But it cannot use  sub (-) , multi(*)  and division(/)\n",
    "- It is only for sum operation\n",
    "- Addition of two strings called concatention"
   ]
  },
  {
   "cell_type": "code",
   "execution_count": 42,
   "id": "0876bbbf",
   "metadata": {},
   "outputs": [
    {
     "data": {
      "text/plain": [
       "'abcd1234'"
      ]
     },
     "execution_count": 42,
     "metadata": {},
     "output_type": "execute_result"
    }
   ],
   "source": [
    "str1='abcd'\n",
    "str2='1234'\n",
    "str1+str2"
   ]
  },
  {
   "cell_type": "code",
   "execution_count": 43,
   "id": "66e36e41",
   "metadata": {},
   "outputs": [
    {
     "data": {
      "text/plain": [
       "'123abc123abc'"
      ]
     },
     "execution_count": 43,
     "metadata": {},
     "output_type": "execute_result"
    }
   ],
   "source": [
    "str1='123'\n",
    "str2='abc'\n",
    "str3='123abc'\n",
    "str1+str2+str3"
   ]
  },
  {
   "cell_type": "markdown",
   "id": "125ec3e8",
   "metadata": {},
   "source": [
    "### $index$"
   ]
  },
  {
   "cell_type": "markdown",
   "id": "f65adbd3",
   "metadata": {},
   "source": [
    "- index operator which is used to indexing the number to values\n",
    "- it starts from zero \n",
    "- index is used to identife number of values "
   ]
  },
  {
   "cell_type": "code",
   "execution_count": 2,
   "id": "0f3a5ccd",
   "metadata": {},
   "outputs": [],
   "source": [
    "string1='python' "
   ]
  },
  {
   "cell_type": "code",
   "execution_count": null,
   "id": "4706a6c9",
   "metadata": {},
   "outputs": [],
   "source": [
    "p  y  t  h  o  n\n",
    "0  1  2  3  4  5"
   ]
  },
  {
   "cell_type": "code",
   "execution_count": 5,
   "id": "3dbb525d",
   "metadata": {},
   "outputs": [
    {
     "data": {
      "text/plain": [
       "'h'"
      ]
     },
     "execution_count": 5,
     "metadata": {},
     "output_type": "execute_result"
    }
   ],
   "source": [
    "string1[3]"
   ]
  },
  {
   "cell_type": "code",
   "execution_count": 6,
   "id": "bc24a9df",
   "metadata": {},
   "outputs": [
    {
     "data": {
      "text/plain": [
       "('p', 'y', 't', 'h', 'o', 'n')"
      ]
     },
     "execution_count": 6,
     "metadata": {},
     "output_type": "execute_result"
    }
   ],
   "source": [
    "string1[0],string1[1],string1[2],string1[3],string1[4],string1[5]"
   ]
  },
  {
   "cell_type": "code",
   "execution_count": 7,
   "id": "07cab6e1",
   "metadata": {},
   "outputs": [
    {
     "name": "stdout",
     "output_type": "stream",
     "text": [
      "the index of p is 0\n",
      "the index of y is 1\n",
      "the index of t is 2\n",
      "the index of h is 3\n",
      "the index of o is 4\n",
      "the index of n is 5\n"
     ]
    }
   ],
   "source": [
    "for i in range(len(string1)):\n",
    "    print(\"the index of {} is {}\".format(string1[i],i))"
   ]
  },
  {
   "cell_type": "code",
   "execution_count": null,
   "id": "86545df9",
   "metadata": {},
   "outputs": [],
   "source": [
    "-6  -5   -4  -3  -2   -1             # negative index\n",
    "\n",
    "p    y    t   h   o    n\n",
    "\n",
    "0    1    2   3   4    5             # positive index"
   ]
  },
  {
   "cell_type": "code",
   "execution_count": 8,
   "id": "01af1e43",
   "metadata": {},
   "outputs": [
    {
     "name": "stdout",
     "output_type": "stream",
     "text": [
      "the negative index i -6 and positive index 0 for the letter is p\n",
      "the negative index i -5 and positive index 1 for the letter is y\n",
      "the negative index i -4 and positive index 2 for the letter is t\n",
      "the negative index i -3 and positive index 3 for the letter is h\n",
      "the negative index i -2 and positive index 4 for the letter is o\n",
      "the negative index i -1 and positive index 5 for the letter is n\n"
     ]
    }
   ],
   "source": [
    "# positive and negative index\n",
    "\n",
    "for i in range(len(string1)):\n",
    "    print(\"the negative index i {} and positive index {} for the letter is {}\".format(i-6,i,string1[i]))"
   ]
  },
  {
   "cell_type": "markdown",
   "id": "c18a44f0",
   "metadata": {},
   "source": [
    "### $Mutable-immutable$"
   ]
  },
  {
   "cell_type": "markdown",
   "id": "116c850f",
   "metadata": {},
   "source": [
    "- mutable means we can change\n",
    "- immutable means we cannot change\n",
    "- we cannot change the values by using index operation"
   ]
  },
  {
   "cell_type": "code",
   "execution_count": 11,
   "id": "847c4f4a",
   "metadata": {},
   "outputs": [
    {
     "ename": "NameError",
     "evalue": "name 'string' is not defined",
     "output_type": "error",
     "traceback": [
      "\u001b[1;31m---------------------------------------------------------------------------\u001b[0m",
      "\u001b[1;31mNameError\u001b[0m                                 Traceback (most recent call last)",
      "Cell \u001b[1;32mIn[11], line 5\u001b[0m\n\u001b[0;32m      1\u001b[0m string1\u001b[38;5;241m=\u001b[39m\u001b[38;5;124m'\u001b[39m\u001b[38;5;124mpython\u001b[39m\u001b[38;5;124m'\u001b[39m\n\u001b[0;32m      2\u001b[0m \u001b[38;5;66;03m# i want p to P\u001b[39;00m\n\u001b[0;32m      3\u001b[0m \u001b[38;5;66;03m# o/p: 'python'\u001b[39;00m\n\u001b[1;32m----> 5\u001b[0m string[o]\u001b[38;5;241m=\u001b[39m\u001b[38;5;124m'\u001b[39m\u001b[38;5;124mP\u001b[39m\u001b[38;5;124m'\u001b[39m\n",
      "\u001b[1;31mNameError\u001b[0m: name 'string' is not defined"
     ]
    }
   ],
   "source": [
    "string1='python'\n",
    "# i want p to P\n",
    "# o/p: 'python'\n",
    "\n",
    "string[o]='P'        # we cannot change using index operation"
   ]
  },
  {
   "cell_type": "code",
   "execution_count": 12,
   "id": "48703576",
   "metadata": {},
   "outputs": [
    {
     "data": {
      "text/plain": [
       "{10, 20, 30}"
      ]
     },
     "execution_count": 12,
     "metadata": {},
     "output_type": "execute_result"
    }
   ],
   "source": [
    "list1={10,20,30}\n",
    "list1"
   ]
  },
  {
   "cell_type": "code",
   "execution_count": 13,
   "id": "1d154847",
   "metadata": {},
   "outputs": [
    {
     "data": {
      "text/plain": [
       "[1000, 200, 300]"
      ]
     },
     "execution_count": 13,
     "metadata": {},
     "output_type": "execute_result"
    }
   ],
   "source": [
    "list1=[100,200,300]\n",
    "list1[0]=1000\n",
    "list1             # it takes new value"
   ]
  },
  {
   "cell_type": "markdown",
   "id": "2cd35d50",
   "metadata": {},
   "source": [
    "### $Slice$"
   ]
  },
  {
   "cell_type": "markdown",
   "id": "124b2083",
   "metadata": {},
   "source": [
    "- It allows you to specify the start, end,\n",
    "- step is the step size \n",
    "- step means no of characters to skip b/w each extracted character\n"
   ]
  },
  {
   "cell_type": "code",
   "execution_count": 14,
   "id": "8a370eb5",
   "metadata": {},
   "outputs": [
    {
     "data": {
      "text/plain": [
       "'i,how ar'"
      ]
     },
     "execution_count": 14,
     "metadata": {},
     "output_type": "execute_result"
    }
   ],
   "source": [
    "string1='hai,how are you'\n",
    "string1[2:10]"
   ]
  },
  {
   "cell_type": "code",
   "execution_count": 15,
   "id": "f466c070",
   "metadata": {},
   "outputs": [
    {
     "data": {
      "text/plain": [
       "'hai,how are you'"
      ]
     },
     "execution_count": 15,
     "metadata": {},
     "output_type": "execute_result"
    }
   ],
   "source": [
    "string1[:]\n",
    "\n",
    "# nothing mentioned means take start to end point"
   ]
  },
  {
   "cell_type": "code",
   "execution_count": 16,
   "id": "c0be995d",
   "metadata": {},
   "outputs": [
    {
     "data": {
      "text/plain": [
       "'hai,how are you'"
      ]
     },
     "execution_count": 16,
     "metadata": {},
     "output_type": "execute_result"
    }
   ],
   "source": [
    "string1[::]\n",
    "\n",
    "# nothingf mentioned means here also take whole string and it takes skip value 1"
   ]
  },
  {
   "cell_type": "code",
   "execution_count": 17,
   "id": "4b2dfb20",
   "metadata": {},
   "outputs": [
    {
     "data": {
      "text/plain": [
       "'h'"
      ]
     },
     "execution_count": 17,
     "metadata": {},
     "output_type": "execute_result"
    }
   ],
   "source": [
    "string1[:1]"
   ]
  },
  {
   "cell_type": "code",
   "execution_count": 21,
   "id": "e6479007",
   "metadata": {},
   "outputs": [
    {
     "data": {
      "text/plain": [
       "'h u'"
      ]
     },
     "execution_count": 21,
     "metadata": {},
     "output_type": "execute_result"
    }
   ],
   "source": [
    "string1[::7]"
   ]
  },
  {
   "cell_type": "markdown",
   "id": "a047fa13",
   "metadata": {},
   "source": [
    "## $Methods$"
   ]
  },
  {
   "cell_type": "markdown",
   "id": "48b5164d",
   "metadata": {},
   "source": [
    "\n",
    "- capitalize\n",
    "- upper\n",
    "- lower\n",
    "- index\n",
    "- find\n",
    "- count\n",
    "- replace\n",
    "- lstrip / rstrip / strip\n",
    "- startswith / endswith\n",
    "- isalpha / isnumeric  /isalnum\n",
    "- split"
   ]
  },
  {
   "cell_type": "markdown",
   "id": "97b6263e",
   "metadata": {},
   "source": [
    "### $capitalize$"
   ]
  },
  {
   "cell_type": "markdown",
   "id": "0d629920",
   "metadata": {},
   "source": [
    "- It converts the first character into uppercase or capital\n",
    "- And all other characters to lowercase\n",
    "- If the first of string is already then capitalize method is not applicable\n"
   ]
  },
  {
   "cell_type": "code",
   "execution_count": 24,
   "id": "bfd70799",
   "metadata": {},
   "outputs": [
    {
     "data": {
      "text/plain": [
       "'Hello world'"
      ]
     },
     "execution_count": 24,
     "metadata": {},
     "output_type": "execute_result"
    }
   ],
   "source": [
    "string1='hello world'\n",
    "string1.capitalize()\n"
   ]
  },
  {
   "cell_type": "markdown",
   "id": "f7a9f9c2",
   "metadata": {},
   "source": [
    "### $upper-lower$"
   ]
  },
  {
   "cell_type": "markdown",
   "id": "d9002f1d",
   "metadata": {},
   "source": [
    "- uppercase means first letter of string is in capital\n",
    "- lowercase means all letters in string must be in lowercase"
   ]
  },
  {
   "cell_type": "code",
   "execution_count": 25,
   "id": "af952b24",
   "metadata": {},
   "outputs": [
    {
     "data": {
      "text/plain": [
       "'HELLO WORLD'"
      ]
     },
     "execution_count": 25,
     "metadata": {},
     "output_type": "execute_result"
    }
   ],
   "source": [
    "string1.upper()"
   ]
  },
  {
   "cell_type": "code",
   "execution_count": 26,
   "id": "a928c36f",
   "metadata": {},
   "outputs": [
    {
     "data": {
      "text/plain": [
       "'hello world'"
      ]
     },
     "execution_count": 26,
     "metadata": {},
     "output_type": "execute_result"
    }
   ],
   "source": [
    "string1.lower()"
   ]
  },
  {
   "cell_type": "code",
   "execution_count": 31,
   "id": "c236b45c",
   "metadata": {},
   "outputs": [
    {
     "name": "stdout",
     "output_type": "stream",
     "text": [
      "Hello world\n",
      "HELLO WORLD\n",
      "hello world\n"
     ]
    }
   ],
   "source": [
    "string1='hello world'\n",
    "print(string1.capitalize())\n",
    "print(string1.upper())\n",
    "print(string1.lower())"
   ]
  },
  {
   "cell_type": "markdown",
   "id": "4a32c665",
   "metadata": {},
   "source": [
    "### $count$"
   ]
  },
  {
   "cell_type": "markdown",
   "id": "ccbc16be",
   "metadata": {},
   "source": [
    "- It is used to count the no of letters in string"
   ]
  },
  {
   "cell_type": "code",
   "execution_count": 35,
   "id": "17c89ca6",
   "metadata": {},
   "outputs": [
    {
     "data": {
      "text/plain": [
       "3"
      ]
     },
     "execution_count": 35,
     "metadata": {},
     "output_type": "execute_result"
    }
   ],
   "source": [
    "string1='hai hello how are you'\n",
    "string1.count('o')"
   ]
  },
  {
   "cell_type": "code",
   "execution_count": 37,
   "id": "91d120c9",
   "metadata": {},
   "outputs": [
    {
     "data": {
      "text/plain": [
       "2"
      ]
     },
     "execution_count": 37,
     "metadata": {},
     "output_type": "execute_result"
    }
   ],
   "source": [
    "string1='jai sri ram'\n",
    "string1.count('a')"
   ]
  },
  {
   "cell_type": "code",
   "execution_count": 39,
   "id": "ecc64ce7",
   "metadata": {},
   "outputs": [
    {
     "name": "stdout",
     "output_type": "stream",
     "text": [
      "4\n",
      "0\n",
      "4\n"
     ]
    }
   ],
   "source": [
    "string1='hai hai hai hai'\n",
    "print(string1.count('ha'))\n",
    "print(string1.count('hi'))\n",
    "print(string1.count('hai'))"
   ]
  },
  {
   "cell_type": "markdown",
   "id": "af90660e",
   "metadata": {},
   "source": [
    "### $replace$"
   ]
  },
  {
   "cell_type": "markdown",
   "id": "3690ff7e",
   "metadata": {},
   "source": [
    "- by using this method we can change replace letter"
   ]
  },
  {
   "cell_type": "code",
   "execution_count": 40,
   "id": "314f607c",
   "metadata": {},
   "outputs": [
    {
     "data": {
      "text/plain": [
       "'weLcome'"
      ]
     },
     "execution_count": 40,
     "metadata": {},
     "output_type": "execute_result"
    }
   ],
   "source": [
    "string1='welcome'\n",
    "string1.replace('l','L')        # replace 'l' with 'L'"
   ]
  },
  {
   "cell_type": "code",
   "execution_count": 42,
   "id": "3c061403",
   "metadata": {},
   "outputs": [
    {
     "data": {
      "text/plain": [
       "'$esta$t'"
      ]
     },
     "execution_count": 42,
     "metadata": {},
     "output_type": "execute_result"
    }
   ],
   "source": [
    "string1='restart'\n",
    "string1.replace('r','$')        # replace 'r' with '$'"
   ]
  },
  {
   "cell_type": "code",
   "execution_count": 44,
   "id": "d5ca5740",
   "metadata": {},
   "outputs": [
    {
     "data": {
      "text/plain": [
       "'$estart'"
      ]
     },
     "execution_count": 44,
     "metadata": {},
     "output_type": "execute_result"
    }
   ],
   "source": [
    "string1='restart'\n",
    "string1.replace('r','$',1)        "
   ]
  },
  {
   "cell_type": "code",
   "execution_count": 45,
   "id": "bcce04bf",
   "metadata": {},
   "outputs": [
    {
     "data": {
      "text/plain": [
       "'$esta$t'"
      ]
     },
     "execution_count": 45,
     "metadata": {},
     "output_type": "execute_result"
    }
   ],
   "source": [
    "string1='restart'\n",
    "string1.replace('r','$',-1)        # replace 'r' with '$'"
   ]
  },
  {
   "cell_type": "code",
   "execution_count": 48,
   "id": "a4a44147",
   "metadata": {},
   "outputs": [
    {
     "data": {
      "text/plain": [
       "'resta$t'"
      ]
     },
     "execution_count": 48,
     "metadata": {},
     "output_type": "execute_result"
    }
   ],
   "source": [
    "string1='restart'\n",
    "s1=string1[0]\n",
    "s2=string1[1:].replace('r','$')  # replacing second 'r'\n",
    "s1+s2"
   ]
  },
  {
   "cell_type": "markdown",
   "id": "30256b12",
   "metadata": {},
   "source": [
    "### $index$"
   ]
  },
  {
   "cell_type": "markdown",
   "id": "1e55ee77",
   "metadata": {},
   "source": [
    "- index operator which is used to indexing the number to values\n",
    "- it starts from zero \n",
    "- index is used to identife number of values "
   ]
  },
  {
   "cell_type": "code",
   "execution_count": 49,
   "id": "9ae7f8c5",
   "metadata": {},
   "outputs": [
    {
     "data": {
      "text/plain": [
       "3"
      ]
     },
     "execution_count": 49,
     "metadata": {},
     "output_type": "execute_result"
    }
   ],
   "source": [
    "string1='welcome python'                        \n",
    "string1.index('c')      # index of 'c'"
   ]
  },
  {
   "cell_type": "code",
   "execution_count": 50,
   "id": "c76a7f13",
   "metadata": {},
   "outputs": [
    {
     "name": "stdout",
     "output_type": "stream",
     "text": [
      "2\n"
     ]
    },
    {
     "data": {
      "text/plain": [
       "2"
      ]
     },
     "execution_count": 50,
     "metadata": {},
     "output_type": "execute_result"
    }
   ],
   "source": [
    "string1='hai,how are you'\n",
    "\n",
    "# how many 'a'\n",
    "\n",
    "count=0\n",
    "for i in string1:\n",
    "    if i=='a':\n",
    "        count=count+1\n",
    "        \n",
    "print(count)\n",
    "string1.count('a')"
   ]
  },
  {
   "cell_type": "markdown",
   "id": "6b96d228",
   "metadata": {},
   "source": [
    "### $find$"
   ]
  },
  {
   "cell_type": "markdown",
   "id": "086bde36",
   "metadata": {},
   "source": [
    "- By using this method we can find exact place of the letter"
   ]
  },
  {
   "cell_type": "code",
   "execution_count": 51,
   "id": "2657f323",
   "metadata": {},
   "outputs": [
    {
     "data": {
      "text/plain": [
       "4"
      ]
     },
     "execution_count": 51,
     "metadata": {},
     "output_type": "execute_result"
    }
   ],
   "source": [
    "string1='welcome'\n",
    "string1.find('o')"
   ]
  },
  {
   "cell_type": "code",
   "execution_count": 55,
   "id": "0d63fc59",
   "metadata": {},
   "outputs": [
    {
     "data": {
      "text/plain": [
       "14"
      ]
     },
     "execution_count": 55,
     "metadata": {},
     "output_type": "execute_result"
    }
   ],
   "source": [
    "string1='hai how are you'\n",
    "string1.find('u')"
   ]
  },
  {
   "cell_type": "code",
   "execution_count": 54,
   "id": "831f2e3e",
   "metadata": {},
   "outputs": [
    {
     "data": {
      "text/plain": [
       "13"
      ]
     },
     "execution_count": 54,
     "metadata": {},
     "output_type": "execute_result"
    }
   ],
   "source": [
    "string1='hai how are you'\n",
    "string1.find('o',6)"
   ]
  },
  {
   "cell_type": "markdown",
   "id": "cb549ede",
   "metadata": {},
   "source": [
    "### $Strip-lstrip-rstrip$"
   ]
  },
  {
   "cell_type": "markdown",
   "id": "5bde6426",
   "metadata": {},
   "source": [
    "- if want remove the spaces\n",
    "- if we want to remove spaces both the sides use strip method\n",
    "- if we want to remove spaces only left side then use left strip method\n",
    "- if we want to remove spaces right side then use right strip method"
   ]
  },
  {
   "cell_type": "code",
   "execution_count": 56,
   "id": "d597e0ef",
   "metadata": {},
   "outputs": [],
   "source": [
    "str1='  hello how are you  '\n",
    "str2='  hello how are you'\n",
    "str3='hello how are you  '"
   ]
  },
  {
   "cell_type": "code",
   "execution_count": 58,
   "id": "ce046742",
   "metadata": {},
   "outputs": [
    {
     "name": "stdout",
     "output_type": "stream",
     "text": [
      "hello how are you\n",
      "hello how are you\n",
      "hello how are you\n"
     ]
    }
   ],
   "source": [
    "print(str1.strip())\n",
    "print(str2.lstrip())\n",
    "print(str3.rstrip())"
   ]
  },
  {
   "cell_type": "code",
   "execution_count": 65,
   "id": "32013ed4",
   "metadata": {},
   "outputs": [
    {
     "name": "stdout",
     "output_type": "stream",
     "text": [
      "hai hello how are you    \n",
      " hai hello how are you\n",
      "hai hello how are you\n"
     ]
    }
   ],
   "source": [
    "str1=' hai hello how are you    '\n",
    "print(str1.lstrip())\n",
    "print(str1.rstrip())\n",
    "print(str1.strip())"
   ]
  },
  {
   "cell_type": "code",
   "execution_count": 66,
   "id": "12b5b53e",
   "metadata": {},
   "outputs": [
    {
     "data": {
      "text/plain": [
       "'python'"
      ]
     },
     "execution_count": 66,
     "metadata": {},
     "output_type": "execute_result"
    }
   ],
   "source": [
    "# example using find and index\n",
    "\n",
    "\n",
    "# wap extract \n",
    "str1='python.anaconda@nareshit.com'\n",
    "# extract first name python\n",
    "# extract second name anaconda\n",
    "# extract company name nareshit\n",
    "\n",
    "str1.find('.')\n",
    "str1[:str1.find('.')]"
   ]
  },
  {
   "cell_type": "code",
   "execution_count": 67,
   "id": "f5db45ac",
   "metadata": {},
   "outputs": [
    {
     "data": {
      "text/plain": [
       "6"
      ]
     },
     "execution_count": 67,
     "metadata": {},
     "output_type": "execute_result"
    }
   ],
   "source": [
    "str1[0:6],str1[7:15],str1[16:24]\n",
    "str1.find('.')"
   ]
  },
  {
   "cell_type": "code",
   "execution_count": 68,
   "id": "6724f546",
   "metadata": {},
   "outputs": [
    {
     "data": {
      "text/plain": [
       "('python', 'anaconda', 'nareshit')"
      ]
     },
     "execution_count": 68,
     "metadata": {},
     "output_type": "execute_result"
    }
   ],
   "source": [
    "str1[0:6],str1[7:15],str1[16:24]"
   ]
  },
  {
   "cell_type": "code",
   "execution_count": 69,
   "id": "3a1e9a60",
   "metadata": {},
   "outputs": [],
   "source": [
    "str1='lokesh.yadav@org.com'"
   ]
  },
  {
   "cell_type": "code",
   "execution_count": 70,
   "id": "592e8bbd",
   "metadata": {},
   "outputs": [
    {
     "data": {
      "text/plain": [
       "('lokesh', 'yadav', 'org.com')"
      ]
     },
     "execution_count": 70,
     "metadata": {},
     "output_type": "execute_result"
    }
   ],
   "source": [
    "str1[0:6],str1[7:12],str1[13:24]"
   ]
  },
  {
   "cell_type": "code",
   "execution_count": 71,
   "id": "e175b778",
   "metadata": {},
   "outputs": [
    {
     "name": "stdout",
     "output_type": "stream",
     "text": [
      "first name: lokesh\n",
      "second name: yadav\n",
      "company name: org.com\n"
     ]
    }
   ],
   "source": [
    "first_name=str1[0:str1.find('.')]\n",
    "second_name=str1[str1.index('.')+1:str1.index('@')]\n",
    "company_name=str1[str1.index('@')+1:str1.index('.',str1.index('.')+1)]\n",
    "print(\"first name:\",str1[0:6])\n",
    "print(\"second name:\",str1[7:12])\n",
    "print(\"company name:\",str1[13:24])"
   ]
  },
  {
   "cell_type": "markdown",
   "id": "bd163a73",
   "metadata": {},
   "source": [
    "### $Startswith-Endswith$"
   ]
  },
  {
   "cell_type": "markdown",
   "id": "53ef5634",
   "metadata": {},
   "source": [
    "- startswith & endswithis used to check whether a string starts with a given substring\n",
    "- In startswith true if the string starts with the substring, and False otherwise\n",
    "- In endswith true if the string ends with the substring, and False otherwise"
   ]
  },
  {
   "cell_type": "code",
   "execution_count": 72,
   "id": "f83172f9",
   "metadata": {},
   "outputs": [],
   "source": [
    "str1='hai how are you'"
   ]
  },
  {
   "cell_type": "code",
   "execution_count": 73,
   "id": "9411cd65",
   "metadata": {},
   "outputs": [
    {
     "data": {
      "text/plain": [
       "True"
      ]
     },
     "execution_count": 73,
     "metadata": {},
     "output_type": "execute_result"
    }
   ],
   "source": [
    "str1.startswith('hai')"
   ]
  },
  {
   "cell_type": "code",
   "execution_count": 75,
   "id": "f89a1b92",
   "metadata": {},
   "outputs": [
    {
     "data": {
      "text/plain": [
       "False"
      ]
     },
     "execution_count": 75,
     "metadata": {},
     "output_type": "execute_result"
    }
   ],
   "source": [
    "str1.endswith('are')"
   ]
  },
  {
   "cell_type": "markdown",
   "id": "9fc83d96",
   "metadata": {},
   "source": [
    "- isalnum\n",
    "- isalpha\n",
    "- isascii\n",
    "- isdecimal\n",
    "- isdigit\n",
    "- isidentifier\n",
    "- islower\n",
    "- isnumeric\n",
    "- isprintable\n",
    "- isspace\n",
    "- istitle\n",
    "- isupper"
   ]
  },
  {
   "cell_type": "code",
   "execution_count": 76,
   "id": "2cd05f50",
   "metadata": {},
   "outputs": [
    {
     "data": {
      "text/plain": [
       "True"
      ]
     },
     "execution_count": 76,
     "metadata": {},
     "output_type": "execute_result"
    }
   ],
   "source": [
    "string1='abc'\n",
    "string1.isalpha()"
   ]
  },
  {
   "cell_type": "code",
   "execution_count": 77,
   "id": "1bd8047d",
   "metadata": {},
   "outputs": [
    {
     "data": {
      "text/plain": [
       "False"
      ]
     },
     "execution_count": 77,
     "metadata": {},
     "output_type": "execute_result"
    }
   ],
   "source": [
    "string1='abc'\n",
    "string1.isnumeric()"
   ]
  },
  {
   "cell_type": "code",
   "execution_count": 78,
   "id": "b88b03c3",
   "metadata": {},
   "outputs": [
    {
     "data": {
      "text/plain": [
       "True"
      ]
     },
     "execution_count": 78,
     "metadata": {},
     "output_type": "execute_result"
    }
   ],
   "source": [
    "string1='abc123'\n",
    "string1.isalnum()"
   ]
  },
  {
   "cell_type": "code",
   "execution_count": 79,
   "id": "77a7863d",
   "metadata": {},
   "outputs": [
    {
     "data": {
      "text/plain": [
       "True"
      ]
     },
     "execution_count": 79,
     "metadata": {},
     "output_type": "execute_result"
    }
   ],
   "source": [
    "string1='abc123'\n",
    "string1.isidentifier()"
   ]
  },
  {
   "cell_type": "code",
   "execution_count": 80,
   "id": "1b7d3b06",
   "metadata": {},
   "outputs": [
    {
     "data": {
      "text/plain": [
       "False"
      ]
     },
     "execution_count": 80,
     "metadata": {},
     "output_type": "execute_result"
    }
   ],
   "source": [
    "string1='ABC'\n",
    "string1.istitle()"
   ]
  },
  {
   "cell_type": "markdown",
   "id": "efa8bbcb",
   "metadata": {},
   "source": [
    "### $Split$"
   ]
  },
  {
   "cell_type": "markdown",
   "id": "b3a8e14f",
   "metadata": {},
   "source": [
    "- The split method is used to split a string into a list of substrings"
   ]
  },
  {
   "cell_type": "code",
   "execution_count": 81,
   "id": "0737279e",
   "metadata": {},
   "outputs": [
    {
     "data": {
      "text/plain": [
       "['hai', 'how', 'are', 'you']"
      ]
     },
     "execution_count": 81,
     "metadata": {},
     "output_type": "execute_result"
    }
   ],
   "source": [
    "str1='hai how are you'\n",
    "str1.split()"
   ]
  },
  {
   "cell_type": "code",
   "execution_count": 82,
   "id": "d177d065",
   "metadata": {},
   "outputs": [
    {
     "data": {
      "text/plain": [
       "['hai how ', ' are you']"
      ]
     },
     "execution_count": 82,
     "metadata": {},
     "output_type": "execute_result"
    }
   ],
   "source": [
    "str1='hai how , are you'\n",
    "str1.split(',')"
   ]
  },
  {
   "cell_type": "code",
   "execution_count": 83,
   "id": "37dd12f4",
   "metadata": {},
   "outputs": [
    {
     "data": {
      "text/plain": [
       "['h', 'i how,', 're you']"
      ]
     },
     "execution_count": 83,
     "metadata": {},
     "output_type": "execute_result"
    }
   ],
   "source": [
    "str1='hai how,are you'\n",
    "str1.split('a')         #h i how,re you"
   ]
  },
  {
   "cell_type": "code",
   "execution_count": null,
   "id": "41a7a8eb",
   "metadata": {},
   "outputs": [],
   "source": []
  }
 ],
 "metadata": {
  "kernelspec": {
   "display_name": "Python 3 (ipykernel)",
   "language": "python",
   "name": "python3"
  },
  "language_info": {
   "codemirror_mode": {
    "name": "ipython",
    "version": 3
   },
   "file_extension": ".py",
   "mimetype": "text/x-python",
   "name": "python",
   "nbconvert_exporter": "python",
   "pygments_lexer": "ipython3",
   "version": "3.11.5"
  }
 },
 "nbformat": 4,
 "nbformat_minor": 5
}
