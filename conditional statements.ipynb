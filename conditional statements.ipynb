{
 "cells": [
  {
   "cell_type": "markdown",
   "id": "248155eb",
   "metadata": {},
   "source": [
    "# conditional statements"
   ]
  },
  {
   "cell_type": "code",
   "execution_count": null,
   "id": "ec537e6e",
   "metadata": {},
   "outputs": [],
   "source": [
    "if - else\n",
    "if pak won the match they have more chance to go to semi finals\n",
    "else they have more chance to go home\n",
    "\n",
    "if I study will pass\n",
    "else will fail\n"
   ]
  },
  {
   "cell_type": "code",
   "execution_count": null,
   "id": "7b021f38",
   "metadata": {},
   "outputs": [],
   "source": [
    "name='python'\n",
    "# i want to make some condition\n",
    "# whenever the name==python "
   ]
  },
  {
   "cell_type": "code",
   "execution_count": null,
   "id": "354d7105",
   "metadata": {},
   "outputs": [],
   "source": [
    "name='python'\n",
    "if <condition>\n",
    "# step-1\n",
    "# code\n",
    "\n",
    "else:\n",
    "    # code"
   ]
  },
  {
   "cell_type": "markdown",
   "id": "a6908ecc",
   "metadata": {},
   "source": [
    "note:\n"
   ]
  },
  {
   "cell_type": "markdown",
   "id": "77fc27be",
   "metadata": {},
   "source": [
    "= assign\n"
   ]
  },
  {
   "cell_type": "markdown",
   "id": "db2105e6",
   "metadata": {},
   "source": [
    "== condition"
   ]
  },
  {
   "cell_type": "code",
   "execution_count": 2,
   "id": "06d3ab53",
   "metadata": {},
   "outputs": [
    {
     "data": {
      "text/plain": [
       "True"
      ]
     },
     "execution_count": 2,
     "metadata": {},
     "output_type": "execute_result"
    }
   ],
   "source": [
    "name='python'\n",
    "name=='python'"
   ]
  },
  {
   "cell_type": "code",
   "execution_count": 3,
   "id": "0048a962",
   "metadata": {},
   "outputs": [
    {
     "data": {
      "text/plain": [
       "False"
      ]
     },
     "execution_count": 3,
     "metadata": {},
     "output_type": "execute_result"
    }
   ],
   "source": [
    "name='python'\n",
    "name=='py'"
   ]
  },
  {
   "cell_type": "code",
   "execution_count": 4,
   "id": "2aec02da",
   "metadata": {},
   "outputs": [
    {
     "name": "stdout",
     "output_type": "stream",
     "text": [
      "won\n"
     ]
    }
   ],
   "source": [
    "# true case\n",
    "name='python' #'python' is saved in variable 'name'\n",
    "if name=='python': # is the name really equal to python if true/false:\n",
    "    print('won')"
   ]
  },
  {
   "cell_type": "code",
   "execution_count": 5,
   "id": "51bc9976",
   "metadata": {},
   "outputs": [
    {
     "ename": "SyntaxError",
     "evalue": "expected ':' (1099690519.py, line 4)",
     "output_type": "error",
     "traceback": [
      "\u001b[1;36m  Cell \u001b[1;32mIn[5], line 4\u001b[1;36m\u001b[0m\n\u001b[1;33m    if name=='py'   # if<false>:no permission\u001b[0m\n\u001b[1;37m                    ^\u001b[0m\n\u001b[1;31mSyntaxError\u001b[0m\u001b[1;31m:\u001b[0m expected ':'\n"
     ]
    }
   ],
   "source": [
    "# false case\n",
    "\n",
    "name='python'\n",
    "if name=='py'   # if<false>:no permission\n",
    "a=10\n",
    "b=20\n",
    "print(a+b)\n",
    "\n"
   ]
  },
  {
   "cell_type": "code",
   "execution_count": 10,
   "id": "0c41a5f6",
   "metadata": {},
   "outputs": [
    {
     "name": "stdout",
     "output_type": "stream",
     "text": [
      "30\n"
     ]
    }
   ],
   "source": [
    "# truecase\n",
    "name='python'\n",
    "if name=='python':   \n",
    "    a=10\n",
    "    b=20\n",
    "print(a+b)\n",
    "\n"
   ]
  },
  {
   "cell_type": "code",
   "execution_count": 14,
   "id": "5c17aeb3",
   "metadata": {},
   "outputs": [
    {
     "name": "stdout",
     "output_type": "stream",
     "text": [
      "won\n"
     ]
    }
   ],
   "source": [
    "name='python'\n",
    "if name=='python':\n",
    "    print(\"won\")\n",
    "else:\n",
    "    print(\"lost\")\n",
    "    "
   ]
  },
  {
   "cell_type": "code",
   "execution_count": 15,
   "id": "7134cae7",
   "metadata": {},
   "outputs": [
    {
     "name": "stdout",
     "output_type": "stream",
     "text": [
      "lost\n"
     ]
    }
   ],
   "source": [
    "name='python'\n",
    "if name=='py':\n",
    "    print(\"won\")\n",
    "else:\n",
    "    print(\"lost\")\n",
    "    "
   ]
  },
  {
   "cell_type": "code",
   "execution_count": 24,
   "id": "b2b5838c",
   "metadata": {},
   "outputs": [
    {
     "name": "stdout",
     "output_type": "stream",
     "text": [
      "he can vote\n"
     ]
    }
   ],
   "source": [
    "try:\n",
    "    age='18'\n",
    "    if age=='18':\n",
    "        print('he can vote')\n",
    "    else:\n",
    "        print('he cannot vote')\n",
    "    \n",
    "except Exception as e:\n",
    "    print(e)\n",
    "    "
   ]
  },
  {
   "cell_type": "code",
   "execution_count": 31,
   "id": "b7bab6ae",
   "metadata": {},
   "outputs": [
    {
     "name": "stdout",
     "output_type": "stream",
     "text": [
      "hello\n",
      "10\n",
      "enter a number 1:5\n",
      "enter a number 2:10\n",
      "this is false case\n",
      "we are doing multiplication\n",
      "the multiplication of 5 and 10 is:\n",
      "subraction: -5\n",
      "great!\n"
     ]
    }
   ],
   "source": [
    "print('hello')\n",
    "print(10)\n",
    "num1=eval(input(\"enter a number 1:\"))\n",
    "num2=eval(input(\"enter a number 2:\"))\n",
    "if num1==num2:\n",
    "    print(\"this is true case\")\n",
    "    print(\"we are doing addition operation\")\n",
    "    print(\"the addition of {} and {} is: {}\". format (num1,num2,num1+num2))\n",
    "    print(\"happy ending\")\n",
    "    \n",
    "else:\n",
    "        print(\"this is false case\")\n",
    "        print(\"we are doing multiplication\")\n",
    "        print(\"the multiplication of {} and {} is:\". format(num1,num2,num1*num2))\n",
    "    \n",
    "subraction=num1-num2  \n",
    "print(\"subraction:\",subraction)\n",
    "print(\"great!\")\n",
    "        \n"
   ]
  },
  {
   "cell_type": "code",
   "execution_count": 20,
   "id": "2bd2b14e",
   "metadata": {},
   "outputs": [
    {
     "name": "stdout",
     "output_type": "stream",
     "text": [
      "Enter the number : 8\n",
      "the number is 8 even :\n"
     ]
    }
   ],
   "source": [
    "# wap as the user enter a number find the number is even num or odd num\n",
    "\n",
    "try:\n",
    "    number=eval(input(\"Enter the number : \"))\n",
    "    if number%2==0:\n",
    "        print(\"the number is {} even :\".format(number))\n",
    "    \n",
    "    else:\n",
    "        print(\"the number is {} odd\".format(number))\n",
    "        \n",
    "except Exception as e:\n",
    "    print(e)"
   ]
  },
  {
   "cell_type": "code",
   "execution_count": 62,
   "id": "d1bc0828",
   "metadata": {},
   "outputs": [
    {
     "name": "stdout",
     "output_type": "stream",
     "text": [
      "the number is 23 : you won\n"
     ]
    }
   ],
   "source": [
    "# wap get a random number between 1 to 50 and check it is even or odd number\n",
    "\n",
    "try:\n",
    "    import random\n",
    "    num2 = random.randint(1,200)\n",
    "    if num2>10 and num2<99:\n",
    "        print(\"the number is {} : you won\".format(num2))\n",
    "        \n",
    "    else: \n",
    "            print(\"the number is {} you lost\".format (num2))\n",
    "            \n",
    "except Exception as e:\n",
    "                print(e)"
   ]
  },
  {
   "cell_type": "code",
   "execution_count": 67,
   "id": "3a1d79e3",
   "metadata": {
    "scrolled": true
   },
   "outputs": [
    {
     "name": "stdout",
     "output_type": "stream",
     "text": [
      "enter a number5\n",
      "the number is positive\n"
     ]
    }
   ],
   "source": [
    "#wap as user enter a num. if the num >=0 print as positive else print as negative \n",
    "\n",
    "try:\n",
    "    num=int(input(\"enter a number\"))\n",
    "    if num >=0: \n",
    "        print(\"the number is positive\")\n",
    "    \n",
    "    else:\n",
    "        print(\"the number is negative\")\n",
    "        \n",
    "except Exception as e:\n",
    "    print(e)"
   ]
  },
  {
   "cell_type": "code",
   "execution_count": null,
   "id": "bb883d8c",
   "metadata": {},
   "outputs": [],
   "source": [
    "#condition-1: >0 ========pos   if(code):\n",
    "#con 2 : <0 neg  =======neg    elif(con)\n",
    "#con 3: =0   =======zero       else:\n",
    "\n",
    "#two cod : if -else\n",
    "#>two con:  if-elif-else"
   ]
  },
  {
   "cell_type": "code",
   "execution_count": 79,
   "id": "75168ff0",
   "metadata": {},
   "outputs": [
    {
     "name": "stdout",
     "output_type": "stream",
     "text": [
      "enter a number8\n",
      "the number positive number 8 \n"
     ]
    }
   ],
   "source": [
    "# wap ask the user to find out positive or negative or zero.\n",
    "\n",
    "try:\n",
    "    num=eval(input(\"enter a number\"))\n",
    "    if num2>0:  #fail\n",
    "        print(\"the number positive number {} \".format(num))\n",
    "    elif num == 0:\n",
    "            print(\"the number is zero {} \".format(num))\n",
    "    else:\n",
    "            print(\"the {} is negative number\".format(num))\n",
    "        \n",
    "except Excepition as e:\n",
    "    print(e)\n",
    "       "
   ]
  },
  {
   "cell_type": "code",
   "execution_count": 88,
   "id": "89cbc9f0",
   "metadata": {},
   "outputs": [
    {
     "name": "stdout",
     "output_type": "stream",
     "text": [
      "enter the percent:75\n",
      " b grade\n"
     ]
    }
   ],
   "source": [
    "# ask the user to find the percentage of the students and indicate grades.\n",
    "\n",
    "try:\n",
    "    per=eval(input(\"enter the percent:\"))\n",
    "    if per>=90:\n",
    "        print(\" A grade\")\n",
    "    elif per>=70:\n",
    "        print(\" b grade\")   \n",
    "        \n",
    "    elif per <=50:\n",
    "        print(\" C grade\")\n",
    "\n",
    "    else:\n",
    "        print(\" d grade\")\n",
    "\n",
    "except Exception as e:\n",
    "    print(e)\n",
    "\n"
   ]
  },
  {
   "cell_type": "code",
   "execution_count": 84,
   "id": "83cb0387",
   "metadata": {},
   "outputs": [
    {
     "name": "stdout",
     "output_type": "stream",
     "text": [
      "enter your age:15\n",
      " he is teenage\n"
     ]
    }
   ],
   "source": [
    "# wap ask the user enter age\n",
    "# if age< 60 print (sc)\n",
    "# if age between 45 to 6o(aged)\n",
    "# if age b/w  30 to 45 (ma)\n",
    "# if age b/w  20 to 30 (young)\n",
    "# if age b/w  13 to 20 (teenage)\n",
    "# other wise child\n",
    "\n",
    "age=eval(input(\"enter your age:\"))\n",
    "if age>=60:\n",
    "    print(\" he is sinior citizen\")\n",
    "elif age>=45:\n",
    "    print(\" he is aged\")\n",
    "elif age>=30:\n",
    "    print(\" he is middle age\")\n",
    "elif age>=20:\n",
    "    print(\" he is young\")\n",
    "elif age>=13:\n",
    "    print(\" he is teenage\")\n",
    "else:\n",
    "    print(\"he is child\")\n",
    "\n",
    " "
   ]
  },
  {
   "cell_type": "code",
   "execution_count": 5,
   "id": "326a2259",
   "metadata": {},
   "outputs": [
    {
     "name": "stdout",
     "output_type": "stream",
     "text": [
      "enter distance in km :7\n",
      "charge is 70rs\n"
     ]
    }
   ],
   "source": [
    "# wap ask the user enter distance in km \n",
    "# if distance is more than 10km: print charge is 100rs\n",
    "# if distance is b/w 7 to 1okm : print charge is 70rs\n",
    "# if distance is b/w 4 to 7km: print charge is 40rs\n",
    "# otherwise print charge is 30rs\n",
    "try:\n",
    "    distance=eval(input(\"enter distance in km :\"))\n",
    "    if distance>=10:\n",
    "        print(\"charge is 100rs\")\n",
    "    elif distance>=7:\n",
    "        print(\"charge is 70rs\")\n",
    "    elif distance>=4:\n",
    "        print(\"charge is 40rs\")\n",
    "    else:\n",
    "        print(\"charge is 30rs\")\n",
    "        \n",
    "        \n",
    "except Exception as e:\n",
    "    print(e)"
   ]
  },
  {
   "cell_type": "code",
   "execution_count": 17,
   "id": "5c0a2a53",
   "metadata": {},
   "outputs": [
    {
     "name": "stdout",
     "output_type": "stream",
     "text": [
      "enter the salary in lakhs 5\n",
      "enter the tax percentage2.5\n",
      "enter tax percentage2.5\n",
      "amount of tax paid 0.125\n"
     ]
    }
   ],
   "source": [
    "# wap ask the user enter salary\n",
    "# if salary is >10lakhs: \n",
    "#            enter the user tax percentage: 10%\n",
    "#            print : the amount of tax paid : (salary*tax_per)/100\n",
    "# if salary b/w 7lakh to 10l\n",
    "#            enter the user tax percentage : 5%\n",
    "#            print: the amount of tax paid\n",
    "# if salary b/w 4 to 7l:\n",
    "#            enter the user tax percentage: 2.5%\n",
    "#            print: the amount of tax paid\n",
    "\n",
    "# other wise no tax required\n",
    "try:\n",
    "    salary=eval(input(\"enter the salary in lakhs \"))\n",
    "    tax=eval(input(\"enter the tax percentage\"))\n",
    "    if salary>=10:\n",
    "        tax_per=eval(input(\"enter tax percentage\"))\n",
    "        print(\"amount of tax paid\",(salary*tax_per)/100)\n",
    "        \n",
    "    elif salary>=7:\n",
    "        tax_per=eval(input(\"enter tax percentage\"))\n",
    "        print(\"amount of tax paid\",(salary*tax_per)/100)\n",
    "    elif salary>=4:\n",
    "        tax_per=eval(input(\"enter tax percentage\"))\n",
    "        print(\"amount of tax paid\",(salary*tax_per)/100)\n",
    "        \n",
    "    else:\n",
    "         print(\"no tax required\")\n",
    "            \n",
    "            \n",
    "except Exception as e:\n",
    "    print(e)"
   ]
  },
  {
   "cell_type": "code",
   "execution_count": 107,
   "id": "5c85dac1",
   "metadata": {},
   "outputs": [
    {
     "name": "stdout",
     "output_type": "stream",
     "text": [
      "which operation we need to performdivi\n",
      "enter the  number1:4\n",
      "enter the number2:86\n",
      "we are doing divi operation\n",
      " divi of num1 and num2 is 0.046511627906976744\n"
     ]
    }
   ],
   "source": [
    "# wap ask the user enter which operation you need to perform\n",
    "#                   operation are : addition/mul/sub/div\n",
    "# ask the user enter a number1\n",
    "# ask the user enter a number2\n",
    "# if the opertaion equal to addition\n",
    "#                   print(\"we are doing addition operation\")\n",
    "#                   print (\"the addition of num1 and num2 is\")\n",
    "#if the operation equal to multiplication\n",
    "#                  print(\"we are doing multiplication operation\")\n",
    "#                   print (\"the muultiplication num1 and num2 is\")\n",
    "# if the operation is equal to subtraction\n",
    "#                  print(\"we are doing subtraction operation\")\n",
    "#                   print (\"the subtraction num1 and num2 is\")\n",
    "# if the operation equal to division\n",
    "#                   print(\"we are doing division operation\")\n",
    "#                   print (\"the division num1 and num2 is\")\n",
    "# else:\n",
    "#     print(\"provide suiotable operation\")\n",
    "\n",
    "\n",
    "\n",
    "try:\n",
    "        user=input(\"which operation we need to perform\")\n",
    "        num1=eval(input(\"enter the  number1:\"))\n",
    "        num2=eval(input(\"enter the number2:\"))\n",
    "        \n",
    "        \n",
    "        if user == \"add\":\n",
    "                    print(\"we are doing {} operation\".format(user))\n",
    "                    print(\"add of num1 and num2 is {}\".format(num1+num2))\n",
    "        elif user  == \"sub\":\n",
    "                    print(\"we are doing {} operation\".format(user))\n",
    "                    print(\"sub of num1 and num2 is {}\".format(num1-num2))\n",
    "        elif user == \"mult\":\n",
    "                    print(\"we are doing {} operation\".format(user))\n",
    "                    print(\"multi of num1 and num2 is {}\".format(num1*num2))\n",
    "        elif user == \"divi\":\n",
    "                    print(\"we are doing {} operation\".format(user))\n",
    "                    print(\" divi of num1 and num2 is {}\".format(num1/num2))\n",
    "\n",
    "        else:\n",
    "                print(\"provide suitable operation\")\n",
    "\n",
    "except EXception as e:\n",
    "    print(e)"
   ]
  },
  {
   "cell_type": "markdown",
   "id": "2023e989",
   "metadata": {},
   "source": [
    "# nested if else"
   ]
  },
  {
   "cell_type": "code",
   "execution_count": 42,
   "id": "cb5e94ee",
   "metadata": {},
   "outputs": [
    {
     "name": "stdout",
     "output_type": "stream",
     "text": [
      "enter a number-5\n",
      "it is a negative number\n"
     ]
    }
   ],
   "source": [
    "# wap ask the user enter a number\n",
    "# if the number greater than zero:\n",
    "#             if the number==0:\n",
    "#                print('it is a zero number')\n",
    "#            else:\n",
    "#                print('it is pos number')\n",
    "#else:\n",
    "#     print('it is  neg number')\n",
    "\n",
    "try:\n",
    "    number=eval(input(\"enter a number\"))\n",
    "    if number>=0:\n",
    "        if number==0:\n",
    "            print(\"it is a zero number\")\n",
    "        else:\n",
    "            print(\"it is a positive number\")\n",
    "            \n",
    "    else:\n",
    "        print(\"it is a negative number\")\n",
    "        \n",
    "except Exception as e:\n",
    "    print(e)"
   ]
  },
  {
   "cell_type": "code",
   "execution_count": 58,
   "id": "97af34c8",
   "metadata": {},
   "outputs": [
    {
     "name": "stdout",
     "output_type": "stream",
     "text": [
      "enter gender male or female:male\n",
      "enter the age:15\n",
      "as teenage boy\n"
     ]
    }
   ],
   "source": [
    "# wap ask the user enter gender male or female\n",
    "# if gender is equal to male\n",
    "#             ask the user enter age\n",
    "#              if age>60: print(cs)\n",
    "#              if age b/w 30 to 60 print(middle aged man)\n",
    "#              if age b/w 20 t0 30 : print( young boy)\n",
    "#              if age b/w 13 to 20: print( teenage boy)\n",
    "# otherwise print boy \n",
    "# else same as above\n",
    "# if gender is equal to female\n",
    "#             ask the user enter age\n",
    "#              if age>60: print(cs)\n",
    "#              if age b/w 30 to 60 print(middle aged women)\n",
    "#              if age b/w 20 t0 30 : print( young girl)\n",
    "#              if age b/w 13 to 20: print( teenage girl)\n",
    "# otherwise print girl\n",
    "# else same as above\n",
    "\n",
    "try:\n",
    "        gender =input(\"enter gender male or female:\")\n",
    "        age =eval(input(\"enter the age:\"))\n",
    "        if gender== \"male\":\n",
    "            if age>=60:\n",
    "                print(\"as senior citizen\")\n",
    "            elif age>=30:\n",
    "                    print(\"as middle aged men\")\n",
    "            elif age>=20:\n",
    "                    print(\"as young boy\")\n",
    "            elif age>=13:\n",
    "                    print(\"as teenage boy\")\n",
    "            else:\n",
    "                print(\"as boy:\")\n",
    "        else:\n",
    "\n",
    "            if age>=60:\n",
    "                print(\"as senior citizen\")\n",
    "            elif age>=30:\n",
    "                print(\"as middle aged men\")\n",
    "            elif age>=20:\n",
    "                print(\"as young girl\")\n",
    "            elif age>=13:\n",
    "                print(\"as teenage girl\")\n",
    "            else:\n",
    "                print(\"as girl\")\n",
    "\n",
    "except Exception as e:\n",
    "    print(e)"
   ]
  },
  {
   "cell_type": "code",
   "execution_count": 83,
   "id": "826f25c0",
   "metadata": {},
   "outputs": [
    {
     "name": "stdout",
     "output_type": "stream",
     "text": [
      "enter the number1:20\n",
      "enter the number2:45\n",
      "enter the number3:1\n",
      "big number2:45\n"
     ]
    }
   ],
   "source": [
    "# wap ask the user enter 3 numbers find out the beggest number\n",
    "try:\n",
    "    num1=eval(input(\"enter the number1:\"))\n",
    "    num2=eval(input(\"enter the number2:\"))\n",
    "    num3=eval(input(\"enter the number3:\"))\n",
    "    if num1>=num2>=num3:\n",
    "        print('big number1:{}'.format(num1))\n",
    "    elif num2>=num1>=num3:\n",
    "            print('big number2:{}'.format(num2))\n",
    "    else: \n",
    "            print('big number is:{}'.format(num3))\n",
    "        \n",
    "except Exception as e:\n",
    "    print(e)"
   ]
  },
  {
   "cell_type": "code",
   "execution_count": 84,
   "id": "cfb5f563",
   "metadata": {},
   "outputs": [
    {
     "name": "stdout",
     "output_type": "stream",
     "text": [
      "enter the number1:3\n",
      "enter the number2:7\n",
      "enter the number3:50\n",
      "enter the number4:35\n",
      "enter the number5:875\n",
      "big number is:875\n"
     ]
    }
   ],
   "source": [
    "#  wap ask the user enter 5 numbers find out the beggest number\n",
    "try:\n",
    "    num1=eval(input(\"enter the number1:\"))\n",
    "    num2=eval(input(\"enter the number2:\"))\n",
    "    num3=eval(input(\"enter the number3:\"))\n",
    "    num4=eval(input(\"enter the number4:\"))\n",
    "    num5=eval(input(\"enter the number5:\"))\n",
    "    if num1>=num2>=num3>=num4>=num5:\n",
    "        print (\"big number1:{}\".format(num1))\n",
    "    elif num2>=num3>=num4>=num5:\n",
    "        print(\"big number2:{}\".format(num2))\n",
    "    elif num3>=num4>=num5:\n",
    "        print(\"big number3:{}\".format(num3))\n",
    "    elif num4>=num5:\n",
    "        print(\"big number4:{}\".format(num4))\n",
    "        \n",
    "    else:\n",
    "        print(\"big number is:{}\".format(num5))\n",
    "        \n",
    "        \n",
    "except Exception as e:\n",
    "    print(e)"
   ]
  },
  {
   "cell_type": "code",
   "execution_count": null,
   "id": "bcc4fc85",
   "metadata": {},
   "outputs": [],
   "source": []
  }
 ],
 "metadata": {
  "kernelspec": {
   "display_name": "Python 3 (ipykernel)",
   "language": "python",
   "name": "python3"
  },
  "language_info": {
   "codemirror_mode": {
    "name": "ipython",
    "version": 3
   },
   "file_extension": ".py",
   "mimetype": "text/x-python",
   "name": "python",
   "nbconvert_exporter": "python",
   "pygments_lexer": "ipython3",
   "version": "3.11.5"
  }
 },
 "nbformat": 4,
 "nbformat_minor": 5
}
