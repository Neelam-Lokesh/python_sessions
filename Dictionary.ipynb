{
 "cells": [
  {
   "cell_type": "markdown",
   "id": "6b7f5f72",
   "metadata": {},
   "source": [
    "# Dictionary"
   ]
  },
  {
   "cell_type": "code",
   "execution_count": 50,
   "id": "1d433bfa",
   "metadata": {},
   "outputs": [],
   "source": [
    "list1=['Ram','Raheem','Robert']\n",
    "\n",
    "list2=[25,30,35]"
   ]
  },
  {
   "cell_type": "code",
   "execution_count": null,
   "id": "8770c5dc",
   "metadata": {},
   "outputs": [],
   "source": [
    "'Ram age is 25'\n",
    "'Raheem age is 30'\n",
    "'Robert age is 35'"
   ]
  },
  {
   "cell_type": "code",
   "execution_count": 3,
   "id": "d261620e",
   "metadata": {},
   "outputs": [
    {
     "name": "stdout",
     "output_type": "stream",
     "text": [
      "Ram 25\n",
      "Raheem 30\n",
      "Robert 35\n"
     ]
    }
   ],
   "source": [
    "for i,j in zip (list1,list2):\n",
    "    print(i,j)"
   ]
  },
  {
   "cell_type": "code",
   "execution_count": null,
   "id": "1bd6ccb7",
   "metadata": {},
   "outputs": [],
   "source": [
    "# {key:cvalue}"
   ]
  },
  {
   "cell_type": "code",
   "execution_count": 6,
   "id": "e75c4cf8",
   "metadata": {},
   "outputs": [
    {
     "data": {
      "text/plain": [
       "{'Ram': 25, 'Raheem': 30, 'Robert': 35}"
      ]
     },
     "execution_count": 6,
     "metadata": {},
     "output_type": "execute_result"
    }
   ],
   "source": [
    "d1={'Ram':25,\n",
    "'Raheem':30,\n",
    "'Robert':35}\n",
    "\n",
    "d1\n",
    "\n",
    "#keys=Ram,Raheem,Robert\n",
    "#values=25,30,35"
   ]
  },
  {
   "cell_type": "code",
   "execution_count": 8,
   "id": "0dd79432",
   "metadata": {},
   "outputs": [
    {
     "data": {
      "text/plain": [
       "{25: 'Ram', 30: 'Raheem', 35: 'Robert'}"
      ]
     },
     "execution_count": 8,
     "metadata": {},
     "output_type": "execute_result"
    }
   ],
   "source": [
    "d1={25:'Ram',30:'Raheem',35:'Robert'}\n",
    "d1"
   ]
  },
  {
   "cell_type": "code",
   "execution_count": 10,
   "id": "dcd7c370",
   "metadata": {},
   "outputs": [
    {
     "data": {
      "text/plain": [
       "{'even': [2, 4, 6], 'odd': [3, 5, 7]}"
      ]
     },
     "execution_count": 10,
     "metadata": {},
     "output_type": "execute_result"
    }
   ],
   "source": [
    "d3={'even':[2,4,6],'odd':[3,5,7]}\n",
    "d3"
   ]
  },
  {
   "cell_type": "code",
   "execution_count": 11,
   "id": "438b6dcd",
   "metadata": {},
   "outputs": [
    {
     "data": {
      "text/plain": [
       "{(2, 4, 6): 'even', (3, 5, 7): 'odd'}"
      ]
     },
     "execution_count": 11,
     "metadata": {},
     "output_type": "execute_result"
    }
   ],
   "source": [
    "d4={(2,4,6):'even',\n",
    "    (3,5,7):'odd'}\n",
    "d4"
   ]
  },
  {
   "cell_type": "markdown",
   "id": "a1a60390",
   "metadata": {},
   "source": [
    "- Dictionary is a key :value pair\n",
    "    \n",
    "- at values position you can take any data type\n",
    "\n",
    "- at keys position list and dictionary will fail\n",
    "\n",
    "- duplicates are not allow\n",
    "\n",
    "- if you will update a key value , latest value it will take\n"
   ]
  },
  {
   "cell_type": "code",
   "execution_count": 12,
   "id": "a565a67e",
   "metadata": {},
   "outputs": [
    {
     "data": {
      "text/plain": [
       "1"
      ]
     },
     "execution_count": 12,
     "metadata": {},
     "output_type": "execute_result"
    }
   ],
   "source": [
    "a,d=(1,2)\n",
    "a"
   ]
  },
  {
   "cell_type": "code",
   "execution_count": 15,
   "id": "65fef139",
   "metadata": {},
   "outputs": [
    {
     "data": {
      "text/plain": [
       "{'A=2', 'B=2'}"
      ]
     },
     "execution_count": 15,
     "metadata": {},
     "output_type": "execute_result"
    }
   ],
   "source": [
    "d1={'A=2','B=2'}\n",
    "d1"
   ]
  },
  {
   "cell_type": "code",
   "execution_count": 16,
   "id": "1e9afbfb",
   "metadata": {},
   "outputs": [
    {
     "data": {
      "text/plain": [
       "{'A=1', 'A=6', 'B=3'}"
      ]
     },
     "execution_count": 16,
     "metadata": {},
     "output_type": "execute_result"
    }
   ],
   "source": [
    "d1={'A=1','B=3','A=6'}\n",
    "d1"
   ]
  },
  {
   "cell_type": "markdown",
   "id": "c7093f38",
   "metadata": {},
   "source": [
    "### type"
   ]
  },
  {
   "cell_type": "code",
   "execution_count": 18,
   "id": "bbbeeee8",
   "metadata": {},
   "outputs": [
    {
     "data": {
      "text/plain": [
       "set"
      ]
     },
     "execution_count": 18,
     "metadata": {},
     "output_type": "execute_result"
    }
   ],
   "source": [
    "type(d1)"
   ]
  },
  {
   "cell_type": "markdown",
   "id": "ee9e7e85",
   "metadata": {},
   "source": [
    "- max value and min value based on key only\n",
    "- if keys has numeric then we can do sum"
   ]
  },
  {
   "cell_type": "code",
   "execution_count": 20,
   "id": "6a3f8f29",
   "metadata": {},
   "outputs": [
    {
     "data": {
      "text/plain": [
       "{'Ram': 25, 'Rahemm': 30, 'robert': 35}"
      ]
     },
     "execution_count": 20,
     "metadata": {},
     "output_type": "execute_result"
    }
   ],
   "source": [
    "d1={'Ram':25,\n",
    "   'Rahemm':30,\n",
    "   'robert':35}\n",
    "d1"
   ]
  },
  {
   "cell_type": "code",
   "execution_count": 21,
   "id": "05e2533b",
   "metadata": {},
   "outputs": [
    {
     "data": {
      "text/plain": [
       "'Rahemm'"
      ]
     },
     "execution_count": 21,
     "metadata": {},
     "output_type": "execute_result"
    }
   ],
   "source": [
    "min(d1)   #based on ord()"
   ]
  },
  {
   "cell_type": "code",
   "execution_count": 22,
   "id": "19fe6a61",
   "metadata": {},
   "outputs": [
    {
     "data": {
      "text/plain": [
       "3"
      ]
     },
     "execution_count": 22,
     "metadata": {},
     "output_type": "execute_result"
    }
   ],
   "source": [
    "len(d1)"
   ]
  },
  {
   "cell_type": "code",
   "execution_count": 23,
   "id": "11f0bf1d",
   "metadata": {},
   "outputs": [
    {
     "data": {
      "text/plain": [
       "'robert'"
      ]
     },
     "execution_count": 23,
     "metadata": {},
     "output_type": "execute_result"
    }
   ],
   "source": [
    "max(d1)     #based on ord()"
   ]
  },
  {
   "cell_type": "code",
   "execution_count": 24,
   "id": "352437be",
   "metadata": {},
   "outputs": [
    {
     "data": {
      "text/plain": [
       "300"
      ]
     },
     "execution_count": 24,
     "metadata": {},
     "output_type": "execute_result"
    }
   ],
   "source": [
    "d2={100:2,200:3}\n",
    "sum(d2)                   # only keys can added"
   ]
  },
  {
   "cell_type": "code",
   "execution_count": 25,
   "id": "32feb654",
   "metadata": {},
   "outputs": [
    {
     "data": {
      "text/plain": [
       "True"
      ]
     },
     "execution_count": 25,
     "metadata": {},
     "output_type": "execute_result"
    }
   ],
   "source": [
    "d1={'Ram':25,\n",
    "'Raheem':30,\n",
    "'Robert':35}\n",
    "\n",
    "# 'Ram ':25 in d1 fails\n",
    "# 25 in d1 fails\n",
    "\n",
    "'Ram' in d1"
   ]
  },
  {
   "cell_type": "code",
   "execution_count": 26,
   "id": "3762b989",
   "metadata": {},
   "outputs": [
    {
     "name": "stdout",
     "output_type": "stream",
     "text": [
      "Ram\n",
      "Raheem\n",
      "Robert\n"
     ]
    }
   ],
   "source": [
    "for i in d1:\n",
    "    print(i)"
   ]
  },
  {
   "cell_type": "code",
   "execution_count": null,
   "id": "2bdfc765",
   "metadata": {},
   "outputs": [],
   "source": [
    "str1='apple'\n",
    "'#' in "
   ]
  },
  {
   "cell_type": "markdown",
   "id": "bec41452",
   "metadata": {},
   "source": [
    "### index"
   ]
  },
  {
   "cell_type": "code",
   "execution_count": 27,
   "id": "78f27951",
   "metadata": {},
   "outputs": [
    {
     "data": {
      "text/plain": [
       "'a'"
      ]
     },
     "execution_count": 27,
     "metadata": {},
     "output_type": "execute_result"
    }
   ],
   "source": [
    "l1=[10,20,30,40]\n",
    "l1[0]\n",
    "\n",
    "str1='apple'\n",
    "str1[0]"
   ]
  },
  {
   "cell_type": "code",
   "execution_count": 29,
   "id": "9b15c3cb",
   "metadata": {},
   "outputs": [
    {
     "data": {
      "text/plain": [
       "25"
      ]
     },
     "execution_count": 29,
     "metadata": {},
     "output_type": "execute_result"
    }
   ],
   "source": [
    "d1={'Ram':25,\n",
    "'Raheem':30,\n",
    "'Robert':35}\n",
    "\n",
    "d1['Ram']"
   ]
  },
  {
   "cell_type": "code",
   "execution_count": 30,
   "id": "13d45dd7",
   "metadata": {},
   "outputs": [
    {
     "name": "stdout",
     "output_type": "stream",
     "text": [
      "Ram\n",
      "Raheem\n",
      "Robert\n"
     ]
    }
   ],
   "source": [
    "for i in d1:\n",
    "    print(i)"
   ]
  },
  {
   "cell_type": "code",
   "execution_count": 31,
   "id": "449de933",
   "metadata": {},
   "outputs": [
    {
     "name": "stdout",
     "output_type": "stream",
     "text": [
      "The age of Ram is 25\n",
      "The age of Raheem is 30\n",
      "The age of Robert is 35\n"
     ]
    }
   ],
   "source": [
    "for key in d1:\n",
    "    print('The age of {} is {}'.format(key,d1[key]))"
   ]
  },
  {
   "cell_type": "code",
   "execution_count": 33,
   "id": "b267054d",
   "metadata": {},
   "outputs": [
    {
     "name": "stdout",
     "output_type": "stream",
     "text": [
      "Ram 25\n",
      "Raheem 30\n",
      "Robert 35\n"
     ]
    }
   ],
   "source": [
    "for key in d1:\n",
    "    print(key,d1[key])"
   ]
  },
  {
   "cell_type": "code",
   "execution_count": 34,
   "id": "6f277a23",
   "metadata": {},
   "outputs": [
    {
     "name": "stdout",
     "output_type": "stream",
     "text": [
      "0 10\n",
      "1 20\n",
      "2 30\n",
      "3 40\n"
     ]
    }
   ],
   "source": [
    "for i in range(len(l1)):\n",
    "    print(i,l1[i])"
   ]
  },
  {
   "cell_type": "markdown",
   "id": "80237404",
   "metadata": {},
   "source": [
    "### creating a empty dictionary and update"
   ]
  },
  {
   "cell_type": "code",
   "execution_count": 35,
   "id": "e85f18ce",
   "metadata": {},
   "outputs": [
    {
     "name": "stdout",
     "output_type": "stream",
     "text": [
      "apple\n"
     ]
    }
   ],
   "source": [
    "s=''\n",
    "for i in 'apple':\n",
    "    s=s+i\n",
    "    \n",
    "print(s)"
   ]
  },
  {
   "cell_type": "code",
   "execution_count": 37,
   "id": "651864f4",
   "metadata": {},
   "outputs": [
    {
     "data": {
      "text/plain": [
       "[0, 1, 2, 3, 4, 5, 6, 7, 8, 9]"
      ]
     },
     "execution_count": 37,
     "metadata": {},
     "output_type": "execute_result"
    }
   ],
   "source": [
    "l=[]\n",
    "for i in range(10):\n",
    "    l.append(i)\n",
    "    \n",
    "l"
   ]
  },
  {
   "cell_type": "code",
   "execution_count": 45,
   "id": "d905d805",
   "metadata": {},
   "outputs": [
    {
     "data": {
      "text/plain": [
       "{'fruite': 'Apple'}"
      ]
     },
     "execution_count": 45,
     "metadata": {},
     "output_type": "execute_result"
    }
   ],
   "source": [
    "d1={}\n",
    "d1['fruite'] ='Apple'\n",
    "d1"
   ]
  },
  {
   "cell_type": "code",
   "execution_count": 46,
   "id": "7f34fc48",
   "metadata": {},
   "outputs": [
    {
     "data": {
      "text/plain": [
       "{'fiest name': 'Lokesh',\n",
       " 'compny name': 'Wipro',\n",
       " 'native place': 'Hyderabad',\n",
       " 'state': 'Telangana'}"
      ]
     },
     "execution_count": 46,
     "metadata": {},
     "output_type": "execute_result"
    }
   ],
   "source": [
    "# wap create a database name= omkar companty =wipro\n",
    "d1={}\n",
    "d1['fiest name'] = 'Lokesh'\n",
    "d1['compny name'] ='Wipro'\n",
    "d1['native place']='Hyderabad'\n",
    "d1['state']= 'Telangana'\n",
    "d1"
   ]
  },
  {
   "cell_type": "code",
   "execution_count": 49,
   "id": "80676500",
   "metadata": {},
   "outputs": [
    {
     "data": {
      "text/plain": [
       "{'names': ('Ram', 'Raheem', 'Robert'), 'ages': (25, 30, 35)}"
      ]
     },
     "execution_count": 49,
     "metadata": {},
     "output_type": "execute_result"
    }
   ],
   "source": [
    "# wap create dictionary with two lists\n",
    "# names ='Ram','Raheem','Robert'\n",
    "# ages=25,30,35\n",
    "\n",
    "d1={}\n",
    "d1['names']='Ram','Raheem','Robert'\n",
    "d1['ages']=25,30,35\n",
    "d1"
   ]
  },
  {
   "cell_type": "code",
   "execution_count": 50,
   "id": "2b6b9b7b",
   "metadata": {},
   "outputs": [
    {
     "data": {
      "text/plain": [
       "{'Ram': 25, 'Raheem': 30, 'Robert': 35}"
      ]
     },
     "execution_count": 50,
     "metadata": {},
     "output_type": "execute_result"
    }
   ],
   "source": [
    "names='Ram','Raheem','Robert'\n",
    "age=[25,30,35]\n",
    "dict1={}\n",
    "for i,j in zip(names,age):\n",
    "    dict1[i]=j\n",
    "dict1"
   ]
  },
  {
   "cell_type": "code",
   "execution_count": 65,
   "id": "54a45b4c",
   "metadata": {},
   "outputs": [
    {
     "data": {
      "text/plain": [
       "{'Ram': 25, 'Raheem': 30, 'Robert': 35}"
      ]
     },
     "execution_count": 65,
     "metadata": {},
     "output_type": "execute_result"
    }
   ],
   "source": [
    "dict1={}\n",
    "for i in range(len(names)):\n",
    "    dict1[names[i]]=age[i]\n",
    "dict1"
   ]
  },
  {
   "cell_type": "code",
   "execution_count": 61,
   "id": "41118633",
   "metadata": {},
   "outputs": [
    {
     "data": {
      "text/plain": [
       "{'Ram': 25, 'Raheem': 30, 'Robert': 35}"
      ]
     },
     "execution_count": 61,
     "metadata": {},
     "output_type": "execute_result"
    }
   ],
   "source": [
    "dict1={names[i]:age[i] for i in range(len(names))}\n",
    "dict1"
   ]
  },
  {
   "cell_type": "code",
   "execution_count": 62,
   "id": "9fdd0ce7",
   "metadata": {},
   "outputs": [
    {
     "data": {
      "text/plain": [
       "{'Ram': 25, 'Raheem': 30, 'Robert': 35}"
      ]
     },
     "execution_count": 62,
     "metadata": {},
     "output_type": "execute_result"
    }
   ],
   "source": [
    "dict1={names:age for names,age in zip(names,age)}\n",
    "dict1"
   ]
  },
  {
   "cell_type": "code",
   "execution_count": 107,
   "id": "39d11059",
   "metadata": {},
   "outputs": [
    {
     "data": {
      "text/plain": [
       "{'even': [12, 10, 14], 'odd': [7, 15]}"
      ]
     },
     "execution_count": 107,
     "metadata": {},
     "output_type": "execute_result"
    }
   ],
   "source": [
    "# wap take 5 random number and create dictionay with even and odd\n",
    "\n",
    "dict1={}\n",
    "even=[]\n",
    "odd=[]\n",
    "\n",
    "import random\n",
    "for i in range(5):\n",
    "    randomm = random.randint(1,20)\n",
    "    if randomm%2==0:\n",
    "        even.append(randomm)\n",
    "        dict1['even']=even\n",
    "    else:\n",
    "        odd.append(randomm)\n",
    "        dict1['odd']=odd\n",
    "\n",
    "dict1"
   ]
  },
  {
   "cell_type": "code",
   "execution_count": 1,
   "id": "9a92d34e",
   "metadata": {},
   "outputs": [],
   "source": [
    "import os"
   ]
  },
  {
   "cell_type": "code",
   "execution_count": 3,
   "id": "518b8573",
   "metadata": {},
   "outputs": [
    {
     "data": {
      "text/plain": [
       "'C:\\\\Users\\\\Lokesh\\\\OneDrive\\\\Documents\\\\Data Science'"
      ]
     },
     "execution_count": 3,
     "metadata": {},
     "output_type": "execute_result"
    }
   ],
   "source": [
    "os.getcwd()"
   ]
  },
  {
   "cell_type": "code",
   "execution_count": 14,
   "id": "8de055cf",
   "metadata": {},
   "outputs": [
    {
     "data": {
      "text/plain": [
       "['__class__',\n",
       " '__class_getitem__',\n",
       " '__contains__',\n",
       " '__delattr__',\n",
       " '__delitem__',\n",
       " '__dir__',\n",
       " '__doc__',\n",
       " '__eq__',\n",
       " '__format__',\n",
       " '__ge__',\n",
       " '__getattribute__',\n",
       " '__getitem__',\n",
       " '__getstate__',\n",
       " '__gt__',\n",
       " '__hash__',\n",
       " '__init__',\n",
       " '__init_subclass__',\n",
       " '__ior__',\n",
       " '__iter__',\n",
       " '__le__',\n",
       " '__len__',\n",
       " '__lt__',\n",
       " '__ne__',\n",
       " '__new__',\n",
       " '__or__',\n",
       " '__reduce__',\n",
       " '__reduce_ex__',\n",
       " '__repr__',\n",
       " '__reversed__',\n",
       " '__ror__',\n",
       " '__setattr__',\n",
       " '__setitem__',\n",
       " '__sizeof__',\n",
       " '__str__',\n",
       " '__subclasshook__',\n",
       " 'clear',\n",
       " 'copy',\n",
       " 'fromkeys',\n",
       " 'get',\n",
       " 'items',\n",
       " 'keys',\n",
       " 'pop',\n",
       " 'popitem',\n",
       " 'setdefault',\n",
       " 'update',\n",
       " 'values']"
      ]
     },
     "execution_count": 14,
     "metadata": {},
     "output_type": "execute_result"
    }
   ],
   "source": [
    "dir({})"
   ]
  },
  {
   "cell_type": "markdown",
   "id": "1e650403",
   "metadata": {},
   "source": [
    "## dictionary methods"
   ]
  },
  {
   "cell_type": "markdown",
   "id": "3ca1380f",
   "metadata": {},
   "source": [
    "dir({})"
   ]
  },
  {
   "cell_type": "markdown",
   "id": "b874b62b",
   "metadata": {},
   "source": [
    "### $ items-keys-values$"
   ]
  },
  {
   "cell_type": "code",
   "execution_count": 6,
   "id": "f1ded4f5",
   "metadata": {},
   "outputs": [
    {
     "data": {
      "text/plain": [
       "{'Ram': 25, 'Raheem': 30, 'Robert': 35}"
      ]
     },
     "execution_count": 6,
     "metadata": {},
     "output_type": "execute_result"
    }
   ],
   "source": [
    "d1={'Ram':25,\n",
    "   'Raheem':30,\n",
    "   'Robert':35}\n",
    "d1"
   ]
  },
  {
   "cell_type": "code",
   "execution_count": 11,
   "id": "ef92b38c",
   "metadata": {},
   "outputs": [
    {
     "data": {
      "text/plain": [
       "dict_items([('Ram', 25), ('Raheem', 30), ('Robert', 35)])"
      ]
     },
     "execution_count": 11,
     "metadata": {},
     "output_type": "execute_result"
    }
   ],
   "source": [
    "#items\n",
    "items=d1.items()\n",
    "items"
   ]
  },
  {
   "cell_type": "code",
   "execution_count": 13,
   "id": "2acd6524",
   "metadata": {},
   "outputs": [
    {
     "data": {
      "text/plain": [
       "dict_items"
      ]
     },
     "execution_count": 13,
     "metadata": {},
     "output_type": "execute_result"
    }
   ],
   "source": [
    "type(items)"
   ]
  },
  {
   "cell_type": "code",
   "execution_count": 14,
   "id": "126e6e6b",
   "metadata": {},
   "outputs": [
    {
     "data": {
      "text/plain": [
       "dict_keys(['Ram', 'Raheem', 'Robert'])"
      ]
     },
     "execution_count": 14,
     "metadata": {},
     "output_type": "execute_result"
    }
   ],
   "source": [
    "# keys\n",
    "keys=d1.keys()\n",
    "keys"
   ]
  },
  {
   "cell_type": "code",
   "execution_count": 15,
   "id": "ddc8dc71",
   "metadata": {},
   "outputs": [
    {
     "data": {
      "text/plain": [
       "dict_keys"
      ]
     },
     "execution_count": 15,
     "metadata": {},
     "output_type": "execute_result"
    }
   ],
   "source": [
    "type(keys)"
   ]
  },
  {
   "cell_type": "code",
   "execution_count": 16,
   "id": "6b9cd65f",
   "metadata": {},
   "outputs": [
    {
     "data": {
      "text/plain": [
       "dict_values([25, 30, 35])"
      ]
     },
     "execution_count": 16,
     "metadata": {},
     "output_type": "execute_result"
    }
   ],
   "source": [
    "# values\n",
    "values=d1.values()\n",
    "values"
   ]
  },
  {
   "cell_type": "code",
   "execution_count": 17,
   "id": "a2a875d2",
   "metadata": {},
   "outputs": [
    {
     "data": {
      "text/plain": [
       "dict_values"
      ]
     },
     "execution_count": 17,
     "metadata": {},
     "output_type": "execute_result"
    }
   ],
   "source": [
    "type(values)"
   ]
  },
  {
   "cell_type": "code",
   "execution_count": 18,
   "id": "2d887268",
   "metadata": {},
   "outputs": [
    {
     "data": {
      "text/plain": [
       "[25, 30, 35, 400]"
      ]
     },
     "execution_count": 18,
     "metadata": {},
     "output_type": "execute_result"
    }
   ],
   "source": [
    "l1=[25,30,35]\n",
    "l1.append(400)\n",
    "l1"
   ]
  },
  {
   "cell_type": "code",
   "execution_count": 23,
   "id": "25b975c9",
   "metadata": {},
   "outputs": [
    {
     "data": {
      "text/plain": [
       "[25, 30, 35]"
      ]
     },
     "execution_count": 23,
     "metadata": {},
     "output_type": "execute_result"
    }
   ],
   "source": [
    "values           # i want to convert into a list\n",
    "values_list=list(values)     # then you apply list method\n",
    "values_list"
   ]
  },
  {
   "cell_type": "code",
   "execution_count": 24,
   "id": "eefaca15",
   "metadata": {},
   "outputs": [
    {
     "data": {
      "text/plain": [
       "['Ram', 'Raheem', 'Robert']"
      ]
     },
     "execution_count": 24,
     "metadata": {},
     "output_type": "execute_result"
    }
   ],
   "source": [
    "keys_list=list(keys)\n",
    "keys_list"
   ]
  },
  {
   "cell_type": "code",
   "execution_count": 25,
   "id": "c0bbe25b",
   "metadata": {},
   "outputs": [],
   "source": [
    "d1={'Ram':25,\n",
    "   'Raheem':30,\n",
    "   'Robert':35}\n",
    "\n",
    "keys=list(d1.keys())\n",
    "values=list(d1.values())"
   ]
  },
  {
   "cell_type": "code",
   "execution_count": 26,
   "id": "20c9e903",
   "metadata": {},
   "outputs": [
    {
     "data": {
      "text/plain": [
       "(['Ram', 'Raheem', 'Robert'], [25, 30, 35])"
      ]
     },
     "execution_count": 26,
     "metadata": {},
     "output_type": "execute_result"
    }
   ],
   "source": [
    "keys,values"
   ]
  },
  {
   "cell_type": "code",
   "execution_count": 27,
   "id": "284266b6",
   "metadata": {},
   "outputs": [
    {
     "data": {
      "text/plain": [
       "{'names': ('Ram', 'Raheem', 'Robert'), 'ages': (25, 30, 35)}"
      ]
     },
     "execution_count": 27,
     "metadata": {},
     "output_type": "execute_result"
    }
   ],
   "source": [
    "d1={}\n",
    "d1['names']='Ram','Raheem','Robert'\n",
    "d1['ages']=25,30,35\n",
    "d1"
   ]
  },
  {
   "cell_type": "code",
   "execution_count": 30,
   "id": "cb2e8da8",
   "metadata": {},
   "outputs": [
    {
     "data": {
      "text/plain": [
       "{'Ram': 25, 'Raheem': 30, 'Robert': 35}"
      ]
     },
     "execution_count": 30,
     "metadata": {},
     "output_type": "execute_result"
    }
   ],
   "source": [
    "{i:j for i,j in zip(keys,values)}"
   ]
  },
  {
   "cell_type": "code",
   "execution_count": 32,
   "id": "82a2fca0",
   "metadata": {},
   "outputs": [
    {
     "data": {
      "text/plain": [
       "{'Ram': 25, 'Raheem': 30, 'Robert': 35}"
      ]
     },
     "execution_count": 32,
     "metadata": {},
     "output_type": "execute_result"
    }
   ],
   "source": [
    "d1={}\n",
    "for i in range(len(keys)):\n",
    "    d1[keys[i]]=values[i]          # d1[keys[0]]=values[0]\n",
    "d1"
   ]
  },
  {
   "cell_type": "code",
   "execution_count": 33,
   "id": "2a85c931",
   "metadata": {},
   "outputs": [
    {
     "data": {
      "text/plain": [
       "{'Ram': 25, 'Raheem': 30, 'Robert': 35}"
      ]
     },
     "execution_count": 33,
     "metadata": {},
     "output_type": "execute_result"
    }
   ],
   "source": [
    "dict(zip(keys,values))"
   ]
  },
  {
   "cell_type": "code",
   "execution_count": 39,
   "id": "fd310686",
   "metadata": {},
   "outputs": [
    {
     "name": "stdout",
     "output_type": "stream",
     "text": [
      "{'virat.kholi': 'blr.com', 'Rohit.sharma': 'mumbai.com', 'kl.rahul': 'lucknow.com'}\n"
     ]
    }
   ],
   "source": [
    "s1='virat.kholi@blr.com,Rohit.sharma@mumbai.com,kl.rahul@lucknow.com'\n",
    "\n",
    "s=s1.split(',')\n",
    "l=list(s)\n",
    "d=dict()\n",
    "for i in l:\n",
    "    d[i.split('@')[0]]=i.split('@')[1]\n",
    "print(d)"
   ]
  },
  {
   "cell_type": "code",
   "execution_count": 41,
   "id": "5fd0c5e1",
   "metadata": {},
   "outputs": [
    {
     "data": {
      "text/plain": [
       "['virat.kholi@blr.com', 'Rohit.sharma@mumbai.com', 'kl.rahul@lucknow.com']"
      ]
     },
     "execution_count": 41,
     "metadata": {},
     "output_type": "execute_result"
    }
   ],
   "source": [
    "s1.split(',')"
   ]
  },
  {
   "cell_type": "code",
   "execution_count": 58,
   "id": "da16db0b",
   "metadata": {},
   "outputs": [
    {
     "data": {
      "text/plain": [
       "{'first_name': ['virat', 'Rohit', 'kl'],\n",
       " 'second_name': ['kholi', 'sharma', 'rahul'],\n",
       " 'company_name': ['blr', 'mumbai', 'lucknow']}"
      ]
     },
     "execution_count": 58,
     "metadata": {},
     "output_type": "execute_result"
    }
   ],
   "source": [
    "str1='virat.kholi@blr.com'\n",
    "\n",
    "d1={}\n",
    "\n",
    "f_name=[str1[:str1.find('.')] for str1 in s1.split(',')]\n",
    "\n",
    "s_name=[str1[str1.find('.')+1:str1.find('@')] for str1 in s1.split(',')]\n",
    "\n",
    "c_name=[str1[str1.find('@')+1:str1.find('.',str1.find('.')+1)] for str1 in s1.split(',')]\n",
    "f_name,s_name,c_name\n",
    "\n",
    "d1['first_name']=f_name\n",
    "d1['second_name']=s_name\n",
    "d1['company_name']=c_name\n",
    "\n",
    "d1"
   ]
  },
  {
   "cell_type": "markdown",
   "id": "7e8e3f2f",
   "metadata": {},
   "source": [
    "### $words-frequency$"
   ]
  },
  {
   "cell_type": "code",
   "execution_count": 75,
   "id": "3bcfb8d1",
   "metadata": {},
   "outputs": [
    {
     "data": {
      "text/plain": [
       "{'can': 4, 'you': 2, 'canner': 2, 'able': 1, 'to': 1}"
      ]
     },
     "execution_count": 75,
     "metadata": {},
     "output_type": "execute_result"
    }
   ],
   "source": [
    "str1='can can you canner can you able to can canner'\n",
    "\n",
    "d1={}\n",
    "l1=str1.split()\n",
    "\n",
    "for i in l1:\n",
    "    d1[i]=l1.count(i)\n",
    "    \n",
    "d1"
   ]
  },
  {
   "cell_type": "code",
   "execution_count": 83,
   "id": "1ebc19b1",
   "metadata": {},
   "outputs": [],
   "source": [
    "keys=list(d1.keys())"
   ]
  },
  {
   "cell_type": "code",
   "execution_count": 82,
   "id": "5e12d1ad",
   "metadata": {},
   "outputs": [],
   "source": [
    "values=list(d1.values())"
   ]
  },
  {
   "cell_type": "code",
   "execution_count": 84,
   "id": "f6c6e7b7",
   "metadata": {},
   "outputs": [
    {
     "data": {
      "text/plain": [
       "(['can', 'you', 'canner', 'able', 'to'], [4, 2, 2, 1, 1])"
      ]
     },
     "execution_count": 84,
     "metadata": {},
     "output_type": "execute_result"
    }
   ],
   "source": [
    "keys,values"
   ]
  },
  {
   "cell_type": "code",
   "execution_count": 86,
   "id": "1f69dbe1",
   "metadata": {},
   "outputs": [],
   "source": [
    "i=max(values)"
   ]
  },
  {
   "cell_type": "code",
   "execution_count": 87,
   "id": "2b485d2b",
   "metadata": {},
   "outputs": [
    {
     "data": {
      "text/plain": [
       "0"
      ]
     },
     "execution_count": 87,
     "metadata": {},
     "output_type": "execute_result"
    }
   ],
   "source": [
    "values.index(i)"
   ]
  },
  {
   "cell_type": "code",
   "execution_count": 88,
   "id": "612e76e3",
   "metadata": {},
   "outputs": [
    {
     "data": {
      "text/plain": [
       "'can'"
      ]
     },
     "execution_count": 88,
     "metadata": {},
     "output_type": "execute_result"
    }
   ],
   "source": [
    "keys[0]"
   ]
  },
  {
   "cell_type": "code",
   "execution_count": 89,
   "id": "79bd7dc7",
   "metadata": {},
   "outputs": [
    {
     "data": {
      "text/plain": [
       "'can'"
      ]
     },
     "execution_count": 89,
     "metadata": {},
     "output_type": "execute_result"
    }
   ],
   "source": [
    "keys[values.index(max(values))]"
   ]
  },
  {
   "cell_type": "code",
   "execution_count": 101,
   "id": "ad98b9e3",
   "metadata": {},
   "outputs": [
    {
     "data": {
      "text/plain": [
       "{'a': 70, 'b': 130, 'c': 240}"
      ]
     },
     "execution_count": 101,
     "metadata": {},
     "output_type": "execute_result"
    }
   ],
   "source": [
    "d1={'a':20,'b':30,'c':40}\n",
    "d2={'a':50,'b':100,'c':200}\n",
    "\n",
    "#o/p={'a':70,'b':130,'c':240}\n",
    "for i in d2:\n",
    "        d1[i]+=d2[i]\n",
    "            \n",
    "d1"
   ]
  },
  {
   "cell_type": "code",
   "execution_count": 98,
   "id": "7ec1a938",
   "metadata": {},
   "outputs": [
    {
     "data": {
      "text/plain": [
       "{'a': 70, 'b': 130, 'c': 240}"
      ]
     },
     "execution_count": 98,
     "metadata": {},
     "output_type": "execute_result"
    }
   ],
   "source": [
    "d1={'a':20,'b':30,'c':40}\n",
    "d2={'a':50,'b':100,'c':200}\n",
    "\n",
    "d3={}\n",
    "if len(d1)==len(d2):\n",
    "    for i in d1:\n",
    "        d3[i]=d1[i]+d2[i]            # d3[a]=d1[a]+d2[a]\n",
    "        \n",
    "d3\n"
   ]
  },
  {
   "cell_type": "code",
   "execution_count": 109,
   "id": "dd09cbd1",
   "metadata": {},
   "outputs": [
    {
     "data": {
      "text/plain": [
       "{'a': 520, 'b': 400, 'c': 600}"
      ]
     },
     "execution_count": 109,
     "metadata": {},
     "output_type": "execute_result"
    }
   ],
   "source": [
    "d1={'a':20,'b':300,'c':400}\n",
    "d2={'a':500,'b':100,'c':200}\n",
    "\n",
    "for i in d1:\n",
    "    d1[i]=d1[i]+d2[i]\n",
    "\n",
    "d1"
   ]
  },
  {
   "cell_type": "code",
   "execution_count": 112,
   "id": "cdfad7df",
   "metadata": {},
   "outputs": [
    {
     "data": {
      "text/plain": [
       "{'a': 520, 'b': 400, 'c': 600, 'd': 100}"
      ]
     },
     "execution_count": 112,
     "metadata": {},
     "output_type": "execute_result"
    }
   ],
   "source": [
    "d1={'a':20,'b':300,'c':400,'d':100}\n",
    "d2={'a':500,'b':100,'c':200}\n",
    "\n",
    "for i in range(min(len(d1),len(d2))):\n",
    "    d1[list(d1.keys())[i]]+=d2[list(d2.keys())[i]]\n",
    "d1"
   ]
  },
  {
   "cell_type": "markdown",
   "id": "bc279592",
   "metadata": {},
   "source": [
    "### $clear-copy$"
   ]
  },
  {
   "cell_type": "code",
   "execution_count": 11,
   "id": "92b1fa47",
   "metadata": {},
   "outputs": [
    {
     "name": "stdout",
     "output_type": "stream",
     "text": [
      "{}\n",
      "{'A': 20, 'B': 30, 'C': 30}\n"
     ]
    }
   ],
   "source": [
    "# take one dictionary\n",
    "# take second dict\n",
    "# copy first dict in second\n",
    "# clear the first\n",
    "# and print both\n",
    "\n",
    "d1={'A':20,'B':30,'C':30}\n",
    "d2=d1.copy()\n",
    "d1.clear()\n",
    "print(d1)\n",
    "print(d2)"
   ]
  },
  {
   "cell_type": "markdown",
   "id": "babfc461",
   "metadata": {},
   "source": [
    "### $pop-popitem-del$"
   ]
  },
  {
   "cell_type": "markdown",
   "id": "ebaa52a1",
   "metadata": {},
   "source": [
    "\n",
    "- pop will removes specify key\n",
    "- return items\n",
    "- Popitem it removes last key\n",
    "- del is a keyword\n",
    "- it delete entare keyword\n"
   ]
  },
  {
   "cell_type": "code",
   "execution_count": 15,
   "id": "f4af99ea",
   "metadata": {},
   "outputs": [
    {
     "data": {
      "text/plain": [
       "{'A': 20, 'B': 30, 'C': 30}"
      ]
     },
     "execution_count": 15,
     "metadata": {},
     "output_type": "execute_result"
    }
   ],
   "source": [
    "d2"
   ]
  },
  {
   "cell_type": "code",
   "execution_count": 16,
   "id": "fb7602d5",
   "metadata": {},
   "outputs": [
    {
     "data": {
      "text/plain": [
       "20"
      ]
     },
     "execution_count": 16,
     "metadata": {},
     "output_type": "execute_result"
    }
   ],
   "source": [
    "d2.pop('A')      # pop removes specify key what we enter"
   ]
  },
  {
   "cell_type": "code",
   "execution_count": 17,
   "id": "509cfde0",
   "metadata": {},
   "outputs": [
    {
     "data": {
      "text/plain": [
       "{'B': 30, 'C': 30}"
      ]
     },
     "execution_count": 17,
     "metadata": {},
     "output_type": "execute_result"
    }
   ],
   "source": [
    "d2"
   ]
  },
  {
   "cell_type": "code",
   "execution_count": 19,
   "id": "3f344829",
   "metadata": {},
   "outputs": [
    {
     "data": {
      "text/plain": [
       "('C', 30)"
      ]
     },
     "execution_count": 19,
     "metadata": {},
     "output_type": "execute_result"
    }
   ],
   "source": [
    "d2.popitem()          # popitem direct removes the last key"
   ]
  },
  {
   "cell_type": "code",
   "execution_count": 20,
   "id": "1b7c641c",
   "metadata": {},
   "outputs": [
    {
     "data": {
      "text/plain": [
       "{'B': 30}"
      ]
     },
     "execution_count": 20,
     "metadata": {},
     "output_type": "execute_result"
    }
   ],
   "source": [
    "d2"
   ]
  },
  {
   "cell_type": "code",
   "execution_count": 21,
   "id": "f18f8b0d",
   "metadata": {},
   "outputs": [],
   "source": [
    "d1={'A':10,'B':30}"
   ]
  },
  {
   "cell_type": "code",
   "execution_count": 22,
   "id": "24d3f941",
   "metadata": {},
   "outputs": [],
   "source": [
    "del(d1)          # del method used to delete entire keyword"
   ]
  },
  {
   "cell_type": "code",
   "execution_count": 24,
   "id": "bf579357",
   "metadata": {},
   "outputs": [
    {
     "ename": "NameError",
     "evalue": "name 'd1' is not defined",
     "output_type": "error",
     "traceback": [
      "\u001b[1;31m---------------------------------------------------------------------------\u001b[0m",
      "\u001b[1;31mNameError\u001b[0m                                 Traceback (most recent call last)",
      "Cell \u001b[1;32mIn[24], line 1\u001b[0m\n\u001b[1;32m----> 1\u001b[0m d1\n",
      "\u001b[1;31mNameError\u001b[0m: name 'd1' is not defined"
     ]
    }
   ],
   "source": [
    "d1                # we del the d1"
   ]
  },
  {
   "cell_type": "markdown",
   "id": "e18de144",
   "metadata": {},
   "source": [
    "### $fromkeys-get$"
   ]
  },
  {
   "cell_type": "code",
   "execution_count": 28,
   "id": "aac73502",
   "metadata": {},
   "outputs": [],
   "source": [
    "d1={'a':10,'b':20,'c':30,'d':50}"
   ]
  },
  {
   "cell_type": "code",
   "execution_count": 29,
   "id": "96e9e2a1",
   "metadata": {},
   "outputs": [
    {
     "data": {
      "text/plain": [
       "50"
      ]
     },
     "execution_count": 29,
     "metadata": {},
     "output_type": "execute_result"
    }
   ],
   "source": [
    "d1.get('d')"
   ]
  },
  {
   "cell_type": "code",
   "execution_count": 34,
   "id": "f5b3ef53",
   "metadata": {},
   "outputs": [
    {
     "data": {
      "text/plain": [
       "10"
      ]
     },
     "execution_count": 34,
     "metadata": {},
     "output_type": "execute_result"
    }
   ],
   "source": [
    "d1.get('a')"
   ]
  },
  {
   "cell_type": "markdown",
   "id": "4222afa1",
   "metadata": {},
   "source": [
    "- get\n",
    "- how many ways we can do\n",
    "- what output it is returning\n",
    "- what is the difference\n",
    "- we can access the values by providing key as index and key in get method\n",
    "- but if the key is not present in dictionary, key as index will give key error\n",
    "- get method will not return anything and no error\n"
   ]
  },
  {
   "cell_type": "code",
   "execution_count": null,
   "id": "4855a8c8",
   "metadata": {},
   "outputs": [],
   "source": [
    "# fromkeys\n",
    "# the key is separates the each letter in keys"
   ]
  },
  {
   "cell_type": "code",
   "execution_count": 36,
   "id": "30bc3b72",
   "metadata": {},
   "outputs": [
    {
     "data": {
      "text/plain": [
       "{'R': None, 'a': None, 'm': None}"
      ]
     },
     "execution_count": 36,
     "metadata": {},
     "output_type": "execute_result"
    }
   ],
   "source": [
    "d2=d1.fromkeys('Ram')\n",
    "d2"
   ]
  },
  {
   "cell_type": "code",
   "execution_count": 38,
   "id": "6613b764",
   "metadata": {},
   "outputs": [
    {
     "data": {
      "text/plain": [
       "{'R': 20, 'a': 20, 'm': 20}"
      ]
     },
     "execution_count": 38,
     "metadata": {},
     "output_type": "execute_result"
    }
   ],
   "source": [
    "d2=d1.fromkeys('Ram',20)\n",
    "d2"
   ]
  },
  {
   "cell_type": "markdown",
   "id": "632817f5",
   "metadata": {},
   "source": [
    "### $setdefault$"
   ]
  },
  {
   "cell_type": "code",
   "execution_count": 39,
   "id": "1201525d",
   "metadata": {},
   "outputs": [],
   "source": [
    "# returns value of keys\n",
    "# if key is not present returns default"
   ]
  },
  {
   "cell_type": "code",
   "execution_count": 43,
   "id": "16205b85",
   "metadata": {},
   "outputs": [
    {
     "data": {
      "text/plain": [
       "{'nareshit': 'Ds', 'city': None}"
      ]
     },
     "execution_count": 43,
     "metadata": {},
     "output_type": "execute_result"
    }
   ],
   "source": [
    "d1={}\n",
    "d1.setdefault('nareshit','Ds')\n",
    "d1.setdefault('city')\n",
    "d1"
   ]
  },
  {
   "cell_type": "code",
   "execution_count": 46,
   "id": "1dddd8dc",
   "metadata": {},
   "outputs": [
    {
     "data": {
      "text/plain": [
       "{'nareshit': ['ds', 'devops'], 'city': None, 'narestit': ['ds', 'devops']}"
      ]
     },
     "execution_count": 46,
     "metadata": {},
     "output_type": "execute_result"
    }
   ],
   "source": [
    "d1={}\n",
    "d1.setdefault('nareshit','Ds')\n",
    "d1.setdefault('city')\n",
    "d1.setdefault('narestit',['ds','devops'])\n",
    "d1['nareshit']=['ds','devops']\n",
    "d1"
   ]
  },
  {
   "cell_type": "markdown",
   "id": "e91a3bc6",
   "metadata": {},
   "source": [
    "### $update$"
   ]
  },
  {
   "cell_type": "markdown",
   "id": "72971849",
   "metadata": {},
   "source": [
    "- it inserts the particular items to the dictionary"
   ]
  },
  {
   "cell_type": "code",
   "execution_count": 48,
   "id": "c1fe6dcc",
   "metadata": {},
   "outputs": [
    {
     "name": "stdout",
     "output_type": "stream",
     "text": [
      "{'a': 1, 'b': 4, 'c': 5, 'd': 9}\n"
     ]
    }
   ],
   "source": [
    "d1={'a':1,'b':8,'c':5}\n",
    "d2={'b':4,'d':9}\n",
    "d1.update(d2)\n",
    "print(d1)"
   ]
  },
  {
   "cell_type": "code",
   "execution_count": 49,
   "id": "27a16113",
   "metadata": {},
   "outputs": [
    {
     "name": "stdout",
     "output_type": "stream",
     "text": [
      "{'b': 8, 'd': 9, 'a': 1, 'c': 5}\n"
     ]
    }
   ],
   "source": [
    "d1={'a':1,'b':8,'c':5}\n",
    "d2={'b':4,'d':9}\n",
    "d2.update(d1)\n",
    "print(d2)"
   ]
  },
  {
   "cell_type": "code",
   "execution_count": null,
   "id": "05002d91",
   "metadata": {},
   "outputs": [],
   "source": []
  }
 ],
 "metadata": {
  "kernelspec": {
   "display_name": "Python 3 (ipykernel)",
   "language": "python",
   "name": "python3"
  },
  "language_info": {
   "codemirror_mode": {
    "name": "ipython",
    "version": 3
   },
   "file_extension": ".py",
   "mimetype": "text/x-python",
   "name": "python",
   "nbconvert_exporter": "python",
   "pygments_lexer": "ipython3",
   "version": "3.11.5"
  }
 },
 "nbformat": 4,
 "nbformat_minor": 5
}
