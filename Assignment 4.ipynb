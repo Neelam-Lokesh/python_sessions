{
 "cells": [
  {
   "cell_type": "code",
   "execution_count": 3,
   "id": "f2a002a4",
   "metadata": {},
   "outputs": [
    {
     "name": "stdout",
     "output_type": "stream",
     "text": [
      "enter number of hours :37\n",
      "total_pay 12,37 is 444\n"
     ]
    }
   ],
   "source": [
    "## Problem 1\n",
    "# Suppose that a Firm pays its employee at the rate of $12 per hour.\n",
    "# An employee has worked for 37 hours. How much should the firm pay \n",
    "# the employee? (Do normal way directly takes the input)\n",
    "\n",
    "try:\n",
    "    employee=int(input(\"enter number of hours :\"))\n",
    "    per_hour=12\n",
    "    hours_worked=37\n",
    "    total_pay=per_hour*hours_worked\n",
    "    print(\"total_pay {},{} is {}\".format(per_hour,hours_worked,total_pay))\n",
    "    \n",
    "except Exception as e:\n",
    "    print(e)"
   ]
  },
  {
   "cell_type": "code",
   "execution_count": 16,
   "id": "93e04e25",
   "metadata": {},
   "outputs": [
    {
     "name": "stdout",
     "output_type": "stream",
     "text": [
      "enter the number of hours :15\n",
      " enter pay per hour : 100\n",
      "total_pay for 15 hours is 1500\n"
     ]
    }
   ],
   "source": [
    "## Problem 2\n",
    "# How about prompting the user for the number of hours and using\n",
    "# the input value to compute the total pay? \n",
    "# (Above problem use eval concept and sep concept)\n",
    "\n",
    "try:\n",
    "    user=eval(input(\"enter the number of hours :\"))\n",
    "    per_hour=eval(input(\" enter pay per hour : \"))\n",
    "    total_pay=user*per_hour\n",
    "    print(\"total_pay for {} hours is {}\".format(user,total_pay))\n",
    "    \n",
    "except Exception as e:\n",
    "    print(e)"
   ]
  },
  {
   "cell_type": "code",
   "execution_count": 15,
   "id": "92258d06",
   "metadata": {},
   "outputs": [
    {
     "name": "stdout",
     "output_type": "stream",
     "text": [
      "enter quiz1 marks out of 20 :18\n",
      "enter quiz2 marks out of 20 :17\n",
      "enter class test marks out of 50 :44\n",
      "enter assignment marks out of 100 :89\n",
      "enter project marks out of 200 :180\n",
      "overall_marks 18,17,44,89 and 180 is 90.75\n"
     ]
    }
   ],
   "source": [
    "### Problem-3\n",
    "# For a certain academic subject the students are evaluated based on five tests \n",
    "# * Quiz 1 (20 marks - 10% Weight), \n",
    "# * Quiz 2 (20 marks - 10% Weight), \n",
    "# * Class test (50 marks - 25% Weight), \n",
    "# * Assignment (100 marks - 25% weight) and\n",
    "# * Project (200 marks - 30% weight).\n",
    "\n",
    "# Design a program that will prompt the user for marks \n",
    "# for each of the tests and calculate the overall\n",
    "# marks (out of 100).\n",
    "\n",
    "try:\n",
    "    quiz1=eval(input(\"enter quiz1 marks out of 20 :\"))\n",
    "    quiz2=eval(input(\"enter quiz2 marks out of 20 :\"))\n",
    "    class_test=eval(input(\"enter class test marks out of 50 :\"))\n",
    "    assignment=eval(input(\"enter assignment marks out of 100 :\"))\n",
    "    project=eval(input(\"enter project marks out of 200 :\"))\n",
    "    total=(quiz1*(10/100)+quiz2*(10/100)+class_test*(25/100)\n",
    "           +assignment*(25/100)+project*(30/100))\n",
    "    overall_marks=total\n",
    "    print(\"overall_marks {},{},{},{} and {} is {}\".\n",
    "          format(quiz1,quiz2,class_test,assignment,project,total))\n",
    "          \n",
    "except Exception as e:\n",
    "          print(e)\n",
    "    "
   ]
  },
  {
   "cell_type": "code",
   "execution_count": 9,
   "id": "bd792dd1",
   "metadata": {},
   "outputs": [
    {
     "name": "stdout",
     "output_type": "stream",
     "text": [
      "enter a five digit number :12345\n",
      "Yes it is 5 digit number \n",
      "sum of its digits is:15 \n"
     ]
    }
   ],
   "source": [
    "### Problem-4\n",
    "# If a five-digit number is input through the keyboard, \n",
    "# write a program to calculate the sum of its digits.\n",
    "\n",
    "try:\n",
    "    number=eval(input(\"enter a five digit number :\"))\n",
    "    if len(num)==5:\n",
    "        print(\"Yes it is 5 digit number \")\n",
    "        a = int(num[0])+int(num[1])+int(num[2])+int(num[3])+int(num[4])\n",
    "        print(\"sum of its digits is:{} \".format(a))\n",
    "    \n",
    "except Exception as e:\n",
    "    print(e)\n"
   ]
  },
  {
   "cell_type": "code",
   "execution_count": 4,
   "id": "eb230d6d",
   "metadata": {},
   "outputs": [
    {
     "name": "stdout",
     "output_type": "stream",
     "text": [
      "Enter the five digit number : 12345\n",
      "Yes it is 5 digit number \n",
      "23456\n"
     ]
    }
   ],
   "source": [
    "### Problem-5\n",
    "\n",
    "# If a five-digit number is input through the keyboard, write a program to print a new number\n",
    "# by adding one to each of its digits. For example if the number that is input is 12371 \n",
    "# then the output should be displayed as 23482.\n",
    "\n",
    "\n",
    "try:\n",
    "    num = input(\"Enter the five digit number : \")\n",
    "    if len(num)==5:\n",
    "        print(\"Yes it is 5 digit number \")\n",
    "        a = int(num[0])+1\n",
    "        b = int(num[1])+1\n",
    "        c = int(num[2])+1\n",
    "        d = int(num[3])+1\n",
    "        e = int(num[4])+1\n",
    "        output = str(a)+str(b)+str(c)+str(d)+str(e) #-------converts into\n",
    "         # output = a+b+c+d+e ------------it adds all the values \n",
    "        print(output)\n",
    "    else:\n",
    "        print(\"Please check the number \")\n",
    "\n",
    "except Exception as e:\n",
    "    print(e)"
   ]
  },
  {
   "cell_type": "code",
   "execution_count": 10,
   "id": "58d7af1d",
   "metadata": {},
   "outputs": [
    {
     "name": "stdout",
     "output_type": "stream",
     "text": [
      "enter quiz1 marks out of 20 :19\n",
      "enter quiz2 marks out of 20 :15\n",
      "enter class test marks out of 50 :45\n",
      "enter assignment marks out of 100 :90\n",
      "enter project marks out of 200 :180\n",
      "overall_marks 19,15,45,90 and 180 is 91.15\n",
      "first class \n"
     ]
    }
   ],
   "source": [
    "#### Problem-6: (Use conditional statements)\n",
    "\n",
    "# **Recall the problem:**\n",
    "\n",
    "# For a certain academic subject the students are evaluated based on five tests -\n",
    "# * Quiz 1 (20 marks - 10% Weight), \n",
    "# * Quiz 2 (20 marks - 10% Weight), \n",
    "# * Class test (50 marks - 25% Weight), \n",
    "# * Assignment (100 marks - 25% weight) and\n",
    "# * Project (200 marks - 30% weight).\n",
    "\n",
    "# Design a program that will prompt the user for marks for \n",
    "# # each of the tests and calculate the overall\n",
    "# marks (out of 100).\n",
    "\n",
    "#### Add an extension to the problem to display grades:\n",
    "# Display the grades of students using the following table:\n",
    "\n",
    "# Score Grade\n",
    "# >= 60 First Class\n",
    "# >= 40 Second Class\n",
    "# < 40 Fail\n",
    "\n",
    "try:\n",
    "    quiz1=eval(input(\"enter quiz1 marks out of 20 :\"))\n",
    "    quiz2=eval(input(\"enter quiz2 marks out of 20 :\"))\n",
    "    class_test=eval(input(\"enter class test marks out of 50 :\"))\n",
    "    assignment=eval(input(\"enter assignment marks out of 100 :\"))\n",
    "    project=eval(input(\"enter project marks out of 200 :\"))\n",
    "    total=(quiz1*(10/100)+quiz2*(10/100)+class_test*(25/100)\n",
    "           +assignment*(25/100)+project*(30/100))\n",
    "    overall_marks=total\n",
    "    print(\"overall_marks {},{},{},{} and {} is {}\".\n",
    "          format(quiz1,quiz2,class_test,assignment,project,total))\n",
    "    if overall_marks>=60:\n",
    "        print(\"first class \")\n",
    "    elif overall_marks>=40:\n",
    "        print(\"second class\")\n",
    "    else:\n",
    "        print(\"fail\")\n",
    "        \n",
    "except Exception as e:\n",
    "          print(e)\n",
    "    "
   ]
  },
  {
   "cell_type": "code",
   "execution_count": 14,
   "id": "24f87e16",
   "metadata": {},
   "outputs": [
    {
     "name": "stdout",
     "output_type": "stream",
     "text": [
      "enter the number of hours :15\n",
      "total_pay for 15 hours  is 1500\n"
     ]
    }
   ],
   "source": [
    "#### Problem-7: (Use conditional statements)\n",
    "\n",
    "# ** Recall the problem:**\n",
    "\n",
    "# How about prompting the user for the number of hours and using the input value to compute the\n",
    "# total pay?\n",
    "\n",
    "try:\n",
    "    user=eval(input(\"enter the number of hours :\"))\n",
    "    if user>10:\n",
    "        rate=100\n",
    "    elif user>5:\n",
    "        rate=50\n",
    "    elif user>3:\n",
    "        rate=30\n",
    "    else:\n",
    "        rate=20\n",
    "    total_pay=user*rate\n",
    "\n",
    "    print(\"total_pay for {} hours  is {}\".format(user,total_pay))\n",
    "    \n",
    "except Exception as e:\n",
    "    print(e)\n",
    "    "
   ]
  },
  {
   "cell_type": "code",
   "execution_count": 27,
   "id": "1955ca15",
   "metadata": {},
   "outputs": [
    {
     "name": "stdout",
     "output_type": "stream",
     "text": [
      "enter number of hours :20\n",
      "enter rate per hour :nine\n",
      "Error,please enter numeric input\n"
     ]
    }
   ],
   "source": [
    "#### Problem-8\n",
    "# ** try & except **\n",
    "\n",
    "# Rewrite the pay program (refer problem 2) using try and expect so that the program\n",
    "# handles non-numeric input gracefully by printing a message and exiting the program. \n",
    "# The following shows two\n",
    "\n",
    "# executions of the program:\n",
    "\n",
    "# Enter hours: 20\n",
    "# Enter rate: nine\n",
    "# Error, please enter numeric input\n",
    "\n",
    "try:\n",
    "    hours=eval(input(\"enter number of hours :\"))\n",
    "    rate=eval(input(\"enter rate per hour :\"))\n",
    "\n",
    "    if type(rate)!=type(hours):\n",
    "        print(\"Error,please enter numeric input\")\n",
    "        \n",
    "    else:\n",
    "        total_pay=hours*rate\n",
    "        print(\"total_pay is:{}\".format(total_pay))\n",
    "        \n",
    "except NameError:\n",
    "    print(\"Error,please enter numeric input\")"
   ]
  },
  {
   "cell_type": "code",
   "execution_count": 35,
   "id": "8a3fc63b",
   "metadata": {},
   "outputs": [
    {
     "name": "stdout",
     "output_type": "stream",
     "text": [
      "enter a length in centimeters:30\n",
      "the inches is  11.81\n"
     ]
    }
   ],
   "source": [
    "#### Problem-9(Use conditional statements)\n",
    "\n",
    "# Write a program that asks the user to enter a length in centimeters. \n",
    "# If the user enters a negative length, the program should tell\n",
    "# the user that the entry is invalid. Otherwise, the program should\n",
    "# convert the length to inches and print out the result. \n",
    "# There are 2.54 centimeters in an inch.\n",
    "\n",
    "number=eval(input(\"enter a length in centimeters:\"))\n",
    "\n",
    "if number<0:\n",
    "    print(\"entry is invalid\")\n",
    "\n",
    "else:\n",
    "    inches = round(number/2.54,2)\n",
    "    print(\"the inches is \", inches)\n",
    "        \n",
    "    "
   ]
  },
  {
   "cell_type": "code",
   "execution_count": 30,
   "id": "95f564df",
   "metadata": {},
   "outputs": [
    {
     "name": "stdout",
     "output_type": "stream",
     "text": [
      "enter temperature:38\n",
      "enter the units (C or F):F\n",
      "temperature in celsius is:{} 3.33\n"
     ]
    }
   ],
   "source": [
    "#### Problem-10(Use conditional statements)\n",
    "\n",
    "# Ask the user for a temperature. Then ask them what units, Celsius or Fahrenheit, \n",
    "# the temperature is in. Your program should convert the temperature to\n",
    "# the other unit. The conversions are F = 9/5 C + 32 and C = 5/9 (F − 32).\n",
    "\n",
    "temp=eval(input(\"enter temperature:\"))\n",
    "units=input(\"enter the units (C or F):\")\n",
    "if units==\"celsius\":\n",
    "    Fahrenheit=(9/5*temp)+32\n",
    "    print(\"temperature in Fahrenheit is :{}\",Faherenheit)\n",
    "    \n",
    "else:\n",
    "    celsius=round(5/9*(temp-32),2)\n",
    "    print(\"temperature in celsius is:{}\",celsius)"
   ]
  },
  {
   "cell_type": "code",
   "execution_count": 39,
   "id": "178d5e2f",
   "metadata": {},
   "outputs": [
    {
     "name": "stdout",
     "output_type": "stream",
     "text": [
      "enter temperature in celsius :45\n",
      "temperature in normal range\n"
     ]
    }
   ],
   "source": [
    "#### Problem-11(Use conditional statements)\n",
    "\n",
    "# Ask the user to enter a temperature in Celsius. The program should \n",
    "# print a message based on the temperature: \n",
    "# • If the temperature is less than -273.15, print that the temperature \n",
    "#   is invalid because it is below absolute zero. \n",
    "# • If it is exactly -273.15, print that the temperature is absolute 0. \n",
    "# • If the temperature is between -273.15 and 0, print that the \n",
    "#   temperature is below freezing\n",
    "# if it is 0,print that the temperature is at freezing point.\n",
    "# if it is between 0 and 100 print it is in normal range\n",
    "# if it is 100 print it is at boiling point \n",
    "# if above 100 print it is above boiling point \n",
    "\n",
    "\n",
    "temp=eval(input(\"enter temperature in celsius :\"))\n",
    "if temp<-273.15:\n",
    "    print(\"the temperature is invalid\")\n",
    "elif temp==-273.15:\n",
    "    print(\"the temperature is absolute zero\")\n",
    "elif temp==-273.15 and temp<0:\n",
    "    print(\"the temperature is freezing\")\n",
    "elif temp==0:\n",
    "    print(\"temperature is at freezing point\")\n",
    "elif temp<=99:\n",
    "    print(\"temperature in normal range\")\n",
    "elif temp==100:\n",
    "    print(\"temperature at boiling point\")\n",
    "else:\n",
    "    print(\"temperature is above boiling point\")\n",
    "    \n"
   ]
  },
  {
   "cell_type": "code",
   "execution_count": 44,
   "id": "f7228834",
   "metadata": {},
   "outputs": [
    {
     "name": "stdout",
     "output_type": "stream",
     "text": [
      "enter how many credits taken:65\n",
      "the student is junior\n"
     ]
    }
   ],
   "source": [
    "#### Problem-12(Use conditional statements)\n",
    "\n",
    "# Write a program that asks the user how many credits they have taken. \n",
    "# If they have taken 23 or less, print that the student is a freshman. \n",
    "# If they have taken between 24 and 53, print that they are a sophomore. \n",
    "# The range for juniors is 54 to 83, and for seniors it is 84 and over.\n",
    "\n",
    "credits=eval(input(\"enter how many credits taken:\"))\n",
    "if credits <=23:\n",
    "    print(\"the student is a freshman\")\n",
    "elif credits <53:\n",
    "    print(\"the student is sophomore\")\n",
    "elif credits <83:\n",
    "    print(\"the student is junior\")\n",
    "else:\n",
    "    print(\"the student is senior\")"
   ]
  },
  {
   "cell_type": "code",
   "execution_count": 57,
   "id": "1fa09e38",
   "metadata": {},
   "outputs": [
    {
     "name": "stdout",
     "output_type": "stream",
     "text": [
      "enter the guess number:6\n",
      "number is wrong\n"
     ]
    }
   ],
   "source": [
    "#### Problem-13(Use conditional statements)\n",
    "\n",
    "# Generate a random number between 1 and 10. Ask the user to \n",
    "# guess the number and print a message based on whether they \n",
    "# get it right or not.\n",
    "\n",
    "import random\n",
    "number=random.randint(1,10)\n",
    "guess=eval(input(\"enter the guess number:\"))\n",
    "if number==guess:\n",
    "    print(\"number is right\")\n",
    "else:\n",
    "    print(\"number is wrong\")\n",
    "    "
   ]
  },
  {
   "cell_type": "code",
   "execution_count": 59,
   "id": "bc067228",
   "metadata": {},
   "outputs": [
    {
     "name": "stdout",
     "output_type": "stream",
     "text": [
      "enter the guess number:7\n",
      "number is wrong\n",
      "random number is 2\n"
     ]
    }
   ],
   "source": [
    "import random\n",
    "number=random.randint(1,10)\n",
    "guess=eval(input(\"enter the guess number:\"))\n",
    "if number==guess:\n",
    "    print(\"number is right\")\n",
    "else:\n",
    "    print(\"number is wrong\")\n",
    "    \n",
    "print(\"random number is {}\".format(number))"
   ]
  },
  {
   "cell_type": "code",
   "execution_count": 1,
   "id": "59b123de",
   "metadata": {},
   "outputs": [
    {
     "name": "stdout",
     "output_type": "stream",
     "text": [
      "Enter the number of items buying : 80\n",
      "The total cost is : 800$\n"
     ]
    }
   ],
   "source": [
    "#### Problem-14(Use conditional statements)\n",
    "# A store charges $12 per item if you buy less than 10 items. If you buy \n",
    "# between 10 and 99 items, the cost is $10 per item. If you buy 100 or more items,\n",
    "# the cost is $7 per item. Write a program that asks\n",
    "# the user how many items they are buying and prints the total cost.\n",
    "\n",
    "items = eval(input(\"Enter the number of items buying : \"))\n",
    "if items < 10:\n",
    "    total_cost = items * 12\n",
    "    print(\"The total cost is : {}$\".format(total_cost))\n",
    "elif items>=10 and items <= 99:\n",
    "    total_cost = items * 10\n",
    "    print(\"The total cost is : {}$\".format(total_cost))\n",
    "else :\n",
    "    total_cost = items * 7\n",
    "    print(\"The total cost is : {}$\".format(total_cost))\n",
    " "
   ]
  },
  {
   "cell_type": "code",
   "execution_count": 8,
   "id": "c8a98d6e",
   "metadata": {},
   "outputs": [
    {
     "name": "stdout",
     "output_type": "stream",
     "text": [
      "enter number1:5\n",
      "enter number2:10\n",
      "the number is close \n"
     ]
    }
   ],
   "source": [
    "#### Problem-15(Use conditional statements)\n",
    "\n",
    "# Write a program that asks the user for two numbers and prints Close \n",
    "# if the numbers are within .001 of each other and Not close otherwise.\n",
    "\n",
    "num1=eval(input(\"enter number1:\"))\n",
    "num2=eval(input(\"enter number2:\"))\n",
    "if (num1-num2)<.001:\n",
    "    print(\"the number is close \")\n",
    "else:\n",
    "    print(\"the number is not close\")"
   ]
  },
  {
   "cell_type": "code",
   "execution_count": 14,
   "id": "f63ca2f4",
   "metadata": {},
   "outputs": [
    {
     "name": "stdout",
     "output_type": "stream",
     "text": [
      "enter the year:2023\n",
      "it is not a leap year: 2023\n"
     ]
    }
   ],
   "source": [
    "#### Problem-16(Use conditional statements)\n",
    "\n",
    "# A year is a leap year if it is divisible by 4, except that years divisible by 100 \n",
    "# are not leap years unless they are also divisible by 400. Write a program that \n",
    "# asks the user for a year and prints out whether it is a leap year or not.\n",
    "\n",
    "year=eval(input(\"enter the year:\"))\n",
    "if year%4==0:\n",
    "    print(\"it is a leap year:\",year)\n",
    "elif year%400==0 and year%100!=0:\n",
    "    print(\"it is a leap year:\",year)\n",
    "else:\n",
    "    print(\"it is not a leap year:\",year)"
   ]
  },
  {
   "cell_type": "code",
   "execution_count": 2,
   "id": "137afe2f",
   "metadata": {},
   "outputs": [
    {
     "name": "stdout",
     "output_type": "stream",
     "text": [
      "entera number:20\n",
      "it it a valid number\n",
      "1\n",
      "2\n",
      "4\n",
      "5\n",
      "10\n",
      "20\n"
     ]
    }
   ],
   "source": [
    "#### Problem-17(Use conditional statements)\n",
    "\n",
    "# Write a program that asks the user to enter a number and prints \n",
    "# out all the divisors of that number.\n",
    "# [Hint: the % operator is used to tell if a number is divisible by something.\n",
    "\n",
    "num=eval(input(\"enter a number:\"))\n",
    "a=1\n",
    "if num>=0:\n",
    "    print(\"it it a valid number\")\n",
    "    while a<=num:\n",
    "    \n",
    "        if num%a ==0:\n",
    "            print(a)\n",
    "        a+=1"
   ]
  },
  {
   "cell_type": "code",
   "execution_count": 31,
   "id": "3db0250c",
   "metadata": {},
   "outputs": [
    {
     "name": "stdout",
     "output_type": "stream",
     "text": [
      "enter the hour between 1 and 12 :8\n",
      "enter wheater it is am or pm :am\n",
      "enter how many hours ahead you want to go:5\n",
      "The new hour is: 1 am\n"
     ]
    }
   ],
   "source": [
    "#### Problem-18(Use conditional statements)\n",
    "\n",
    "# Write a program that asks the user for an hour between 1 and 12, \n",
    "# asks them to enter am or pm, and asks them how many hours into \n",
    "# the future they want to go. Print out what the hour will be that \n",
    "# many hours into the future, printing am or pm as appropriate.\n",
    "# An example is shown below.\n",
    "\n",
    "# Enter hour: 8\n",
    "# am (1) or pm (2)? 1\n",
    "# How many hours ahead? 5\n",
    "# New hour: 1 pm\n",
    "\n",
    "hour=eval(input(\"enter the hour between 1 and 12 :\"))\n",
    "meridian=input(\"enter wheater it is am or pm :\")\n",
    "future=eval(input(\"enter how many hours ahead you want to go:\"))\n",
    "if meridian==\"am\":\n",
    "    new_hour=(hour + future)%12\n",
    "    new_meridian=\"am\" if new_hour<=12 else\"pm\"\n",
    "else:\n",
    "    new_hour=(hour + meridian)%12\n",
    "    new_meridian=\"pm\" if new_hour<=12 else \"am\"\n",
    "    \n",
    "print(\"The new hour is:\",new_hour,new_meridian)"
   ]
  },
  {
   "cell_type": "code",
   "execution_count": null,
   "id": "98efea8e",
   "metadata": {},
   "outputs": [],
   "source": []
  }
 ],
 "metadata": {
  "kernelspec": {
   "display_name": "Python 3 (ipykernel)",
   "language": "python",
   "name": "python3"
  },
  "language_info": {
   "codemirror_mode": {
    "name": "ipython",
    "version": 3
   },
   "file_extension": ".py",
   "mimetype": "text/x-python",
   "name": "python",
   "nbconvert_exporter": "python",
   "pygments_lexer": "ipython3",
   "version": "3.11.5"
  }
 },
 "nbformat": 4,
 "nbformat_minor": 5
}
