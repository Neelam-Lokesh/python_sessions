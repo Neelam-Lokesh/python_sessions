{
 "cells": [
  {
   "cell_type": "markdown",
   "id": "2342fba2",
   "metadata": {},
   "source": [
    "# $List$"
   ]
  },
  {
   "cell_type": "markdown",
   "id": "d165c65e",
   "metadata": {},
   "source": [
    "- list is an array of elements\n",
    "- list elements heterogeneous (different) data types are allowed\n",
    "- duplicates are allowed\n",
    "- list in list also works\n",
    "- matrix division is not possible"
   ]
  },
  {
   "cell_type": "code",
   "execution_count": 1,
   "id": "22c153ac",
   "metadata": {},
   "outputs": [
    {
     "data": {
      "text/plain": [
       "[1, 2, 3, 4]"
      ]
     },
     "execution_count": 1,
     "metadata": {},
     "output_type": "execute_result"
    }
   ],
   "source": [
    "list1=[1,2,3,4]\n",
    "list1"
   ]
  },
  {
   "cell_type": "code",
   "execution_count": 3,
   "id": "493804d5",
   "metadata": {},
   "outputs": [
    {
     "data": {
      "text/plain": [
       "['A', 'B', 'C', 'D']"
      ]
     },
     "execution_count": 3,
     "metadata": {},
     "output_type": "execute_result"
    }
   ],
   "source": [
    "list2=['A','B','C','D']\n",
    "list2"
   ]
  },
  {
   "cell_type": "code",
   "execution_count": 4,
   "id": "7d535175",
   "metadata": {},
   "outputs": [
    {
     "data": {
      "text/plain": [
       "[1, 2, 3, 4, 'A', 'B', 'C', 'D']"
      ]
     },
     "execution_count": 4,
     "metadata": {},
     "output_type": "execute_result"
    }
   ],
   "source": [
    "list3=[1,2,3,4,'A','B','C','D']\n",
    "list3"
   ]
  },
  {
   "cell_type": "code",
   "execution_count": 5,
   "id": "af38bf0f",
   "metadata": {},
   "outputs": [
    {
     "data": {
      "text/plain": [
       "[1, 'Apple', 10, 5, 30, True]"
      ]
     },
     "execution_count": 5,
     "metadata": {},
     "output_type": "execute_result"
    }
   ],
   "source": [
    "list4=[1,'Apple',10,5,(10+20),True]\n",
    "list4"
   ]
  },
  {
   "cell_type": "code",
   "execution_count": 6,
   "id": "546504f0",
   "metadata": {},
   "outputs": [
    {
     "data": {
      "text/plain": [
       "[180, 180, 180]"
      ]
     },
     "execution_count": 6,
     "metadata": {},
     "output_type": "execute_result"
    }
   ],
   "source": [
    "list5=[180,180,180]\n",
    "list5"
   ]
  },
  {
   "cell_type": "code",
   "execution_count": 7,
   "id": "48144294",
   "metadata": {},
   "outputs": [
    {
     "data": {
      "text/plain": [
       "[(1, 2, 3, 4)]"
      ]
     },
     "execution_count": 7,
     "metadata": {},
     "output_type": "execute_result"
    }
   ],
   "source": [
    "list6=[(1,2,3,4)]\n",
    "list6"
   ]
  },
  {
   "cell_type": "markdown",
   "id": "e07ec6e5",
   "metadata": {},
   "source": [
    "### type"
   ]
  },
  {
   "cell_type": "code",
   "execution_count": 8,
   "id": "b6f1103c",
   "metadata": {},
   "outputs": [
    {
     "data": {
      "text/plain": [
       "list"
      ]
     },
     "execution_count": 8,
     "metadata": {},
     "output_type": "execute_result"
    }
   ],
   "source": [
    "type(list4)"
   ]
  },
  {
   "cell_type": "code",
   "execution_count": 14,
   "id": "82d112c6",
   "metadata": {},
   "outputs": [
    {
     "name": "stdout",
     "output_type": "stream",
     "text": [
      "4\n",
      "D\n"
     ]
    },
    {
     "ename": "TypeError",
     "evalue": "'>' not supported between instances of 'str' and 'int'",
     "output_type": "error",
     "traceback": [
      "\u001b[1;31m---------------------------------------------------------------------------\u001b[0m",
      "\u001b[1;31mTypeError\u001b[0m                                 Traceback (most recent call last)",
      "Cell \u001b[1;32mIn[14], line 3\u001b[0m\n\u001b[0;32m      1\u001b[0m \u001b[38;5;28mprint\u001b[39m(\u001b[38;5;28mmax\u001b[39m(list1))  \u001b[38;5;66;03m# 4\u001b[39;00m\n\u001b[0;32m      2\u001b[0m \u001b[38;5;28mprint\u001b[39m(\u001b[38;5;28mmax\u001b[39m(list2))  \u001b[38;5;66;03m# d ==== ascii ord\u001b[39;00m\n\u001b[1;32m----> 3\u001b[0m \u001b[38;5;28mprint\u001b[39m(\u001b[38;5;28mmax\u001b[39m(list3))\n",
      "\u001b[1;31mTypeError\u001b[0m: '>' not supported between instances of 'str' and 'int'"
     ]
    }
   ],
   "source": [
    "\n",
    "# max\n",
    "\n",
    "print(max(list1))  # 4\n",
    "print(max(list2))  # d ==== ascii ord\n",
    "print(max(list3))  # error we cant compare different datad types"
   ]
  },
  {
   "cell_type": "code",
   "execution_count": 15,
   "id": "fe5616ae",
   "metadata": {},
   "outputs": [
    {
     "name": "stdout",
     "output_type": "stream",
     "text": [
      "1\n",
      "A\n"
     ]
    },
    {
     "ename": "TypeError",
     "evalue": "'<' not supported between instances of 'str' and 'int'",
     "output_type": "error",
     "traceback": [
      "\u001b[1;31m---------------------------------------------------------------------------\u001b[0m",
      "\u001b[1;31mTypeError\u001b[0m                                 Traceback (most recent call last)",
      "Cell \u001b[1;32mIn[15], line 3\u001b[0m\n\u001b[0;32m      1\u001b[0m \u001b[38;5;28mprint\u001b[39m(\u001b[38;5;28mmin\u001b[39m(list1))  \u001b[38;5;66;03m# 4\u001b[39;00m\n\u001b[0;32m      2\u001b[0m \u001b[38;5;28mprint\u001b[39m(\u001b[38;5;28mmin\u001b[39m(list2))  \u001b[38;5;66;03m# d ==== ascii ord\u001b[39;00m\n\u001b[1;32m----> 3\u001b[0m \u001b[38;5;28mprint\u001b[39m(\u001b[38;5;28mmin\u001b[39m(list3))\n",
      "\u001b[1;31mTypeError\u001b[0m: '<' not supported between instances of 'str' and 'int'"
     ]
    }
   ],
   "source": [
    "# min\n",
    "\n",
    "print(min(list1))  # 4\n",
    "print(min(list2))  # A ==== ascii ord\n",
    "print(min(list3))  # error we cant compare different datad types"
   ]
  },
  {
   "cell_type": "code",
   "execution_count": 17,
   "id": "5fd1ae40",
   "metadata": {},
   "outputs": [
    {
     "name": "stdout",
     "output_type": "stream",
     "text": [
      "4\n",
      "4\n",
      "8\n"
     ]
    }
   ],
   "source": [
    "# len\n",
    "\n",
    "print(len(list1))  \n",
    "print(len(list2))  \n",
    "print(len(list3))\n"
   ]
  },
  {
   "cell_type": "markdown",
   "id": "293a15cd",
   "metadata": {},
   "source": [
    "### sum"
   ]
  },
  {
   "cell_type": "code",
   "execution_count": 18,
   "id": "a3f46dfd",
   "metadata": {},
   "outputs": [
    {
     "name": "stdout",
     "output_type": "stream",
     "text": [
      "['A', 'B', 'C', 'D']\n"
     ]
    },
    {
     "ename": "TypeError",
     "evalue": "unsupported operand type(s) for +: 'int' and 'str'",
     "output_type": "error",
     "traceback": [
      "\u001b[1;31m---------------------------------------------------------------------------\u001b[0m",
      "\u001b[1;31mTypeError\u001b[0m                                 Traceback (most recent call last)",
      "Cell \u001b[1;32mIn[18], line 2\u001b[0m\n\u001b[0;32m      1\u001b[0m \u001b[38;5;28mprint\u001b[39m(list2)\n\u001b[1;32m----> 2\u001b[0m \u001b[38;5;28mprint\u001b[39m(\u001b[38;5;28msum\u001b[39m(list2))\n",
      "\u001b[1;31mTypeError\u001b[0m: unsupported operand type(s) for +: 'int' and 'str'"
     ]
    }
   ],
   "source": [
    "print(list2)\n",
    "print(sum(list2))   ================== # only numbers get o/p"
   ]
  },
  {
   "cell_type": "code",
   "execution_count": 19,
   "id": "49a39d25",
   "metadata": {},
   "outputs": [
    {
     "name": "stdout",
     "output_type": "stream",
     "text": [
      "[1, 2, 3, 4]\n",
      "10\n"
     ]
    }
   ],
   "source": [
    "print(list1)\n",
    "print(sum(list1))"
   ]
  },
  {
   "cell_type": "markdown",
   "id": "4b87bdc2",
   "metadata": {},
   "source": [
    "### in operator"
   ]
  },
  {
   "cell_type": "code",
   "execution_count": 24,
   "id": "06e0cc69",
   "metadata": {},
   "outputs": [
    {
     "data": {
      "text/plain": [
       "True"
      ]
     },
     "execution_count": 24,
     "metadata": {},
     "output_type": "execute_result"
    }
   ],
   "source": [
    "1 in list1\n",
    "2 in list2\n",
    "3 in list3\n",
    "4 in list4\n",
    "\n",
    "1 in list1\n",
    "\n",
    "# can i iterate through for loop"
   ]
  },
  {
   "cell_type": "code",
   "execution_count": 25,
   "id": "555c4a08",
   "metadata": {},
   "outputs": [
    {
     "data": {
      "text/plain": [
       "[1, 2, 3, 4]"
      ]
     },
     "execution_count": 25,
     "metadata": {},
     "output_type": "execute_result"
    }
   ],
   "source": [
    "list1"
   ]
  },
  {
   "cell_type": "code",
   "execution_count": 26,
   "id": "d7e5794d",
   "metadata": {},
   "outputs": [
    {
     "data": {
      "text/plain": [
       "['A', 'B', 'C', 'D']"
      ]
     },
     "execution_count": 26,
     "metadata": {},
     "output_type": "execute_result"
    }
   ],
   "source": [
    "list2"
   ]
  },
  {
   "cell_type": "markdown",
   "id": "6c9211b0",
   "metadata": {},
   "source": [
    "### concatination"
   ]
  },
  {
   "cell_type": "code",
   "execution_count": 27,
   "id": "4a8658c6",
   "metadata": {},
   "outputs": [
    {
     "name": "stdout",
     "output_type": "stream",
     "text": [
      "[1, 2, 3, 4, 'A', 'B', 'C', 'D']\n",
      "['A', 'B', 'C', 'D', 1, 2, 3, 4]\n"
     ]
    }
   ],
   "source": [
    "print(list1+list2)\n",
    "print(list2+list1)"
   ]
  },
  {
   "cell_type": "code",
   "execution_count": 28,
   "id": "498064b2",
   "metadata": {},
   "outputs": [
    {
     "name": "stdout",
     "output_type": "stream",
     "text": [
      "[1, 'Apple', 10, 5, 30, True, 180, 180, 180]\n"
     ]
    }
   ],
   "source": [
    "print(list4+list5)"
   ]
  },
  {
   "cell_type": "code",
   "execution_count": 29,
   "id": "b4579036",
   "metadata": {},
   "outputs": [],
   "source": [
    "new_list=list1+list2"
   ]
  },
  {
   "cell_type": "code",
   "execution_count": 30,
   "id": "fae41784",
   "metadata": {},
   "outputs": [
    {
     "data": {
      "text/plain": [
       "[1, 2, 3, 4, 'A', 'B', 'C', 'D']"
      ]
     },
     "execution_count": 30,
     "metadata": {},
     "output_type": "execute_result"
    }
   ],
   "source": [
    "new_list"
   ]
  },
  {
   "cell_type": "code",
   "execution_count": 32,
   "id": "9fdb5187",
   "metadata": {},
   "outputs": [
    {
     "data": {
      "text/plain": [
       "[1, 2, 3, 4, 1, 2, 3, 4, 1, 2, 3, 4]"
      ]
     },
     "execution_count": 32,
     "metadata": {},
     "output_type": "execute_result"
    }
   ],
   "source": [
    "list1*3   # multiply"
   ]
  },
  {
   "cell_type": "code",
   "execution_count": null,
   "id": "8bc4fc9f",
   "metadata": {},
   "outputs": [],
   "source": [
    "list1-list2  # fail\n",
    "list1*list2  # fail\n",
    "list1/list2  # fail\n",
    "\n",
    "#'a'/'b'"
   ]
  },
  {
   "cell_type": "markdown",
   "id": "fd70b746",
   "metadata": {},
   "source": [
    "### index"
   ]
  },
  {
   "cell_type": "markdown",
   "id": "c94e17be",
   "metadata": {},
   "source": [
    "- python index starts with zero"
   ]
  },
  {
   "cell_type": "code",
   "execution_count": 35,
   "id": "271ad569",
   "metadata": {},
   "outputs": [
    {
     "data": {
      "text/plain": [
       "1"
      ]
     },
     "execution_count": 35,
     "metadata": {},
     "output_type": "execute_result"
    }
   ],
   "source": [
    "list3[0]"
   ]
  },
  {
   "cell_type": "code",
   "execution_count": 37,
   "id": "0cd927e9",
   "metadata": {},
   "outputs": [
    {
     "data": {
      "text/plain": [
       "(1, 2, 3, 4)"
      ]
     },
     "execution_count": 37,
     "metadata": {},
     "output_type": "execute_result"
    }
   ],
   "source": [
    "list3[0],list3[1],list3[2],list3[3]\n",
    "\n",
    "# list3[i]\n",
    "# i=0 1 2 3 "
   ]
  },
  {
   "cell_type": "code",
   "execution_count": 38,
   "id": "31e55b43",
   "metadata": {},
   "outputs": [
    {
     "name": "stdout",
     "output_type": "stream",
     "text": [
      "0\n",
      "1\n",
      "2\n",
      "3\n",
      "4\n",
      "5\n",
      "6\n",
      "7\n"
     ]
    }
   ],
   "source": [
    "for i in range(8):\n",
    "    print(i)"
   ]
  },
  {
   "cell_type": "code",
   "execution_count": 39,
   "id": "a6280897",
   "metadata": {},
   "outputs": [
    {
     "name": "stdout",
     "output_type": "stream",
     "text": [
      "0 1\n",
      "1 2\n",
      "2 3\n",
      "3 4\n",
      "4 A\n",
      "5 B\n",
      "6 C\n",
      "7 D\n"
     ]
    }
   ],
   "source": [
    "for i in range(8):\n",
    "    print(i,list3[i])"
   ]
  },
  {
   "cell_type": "code",
   "execution_count": 40,
   "id": "92fba00f",
   "metadata": {},
   "outputs": [
    {
     "name": "stdout",
     "output_type": "stream",
     "text": [
      "0 1\n",
      "1 2\n",
      "2 3\n",
      "3 4\n",
      "4 A\n",
      "5 B\n",
      "6 C\n",
      "7 D\n"
     ]
    }
   ],
   "source": [
    "for i in range(len(list3)):\n",
    "    print(i,list3[i])"
   ]
  },
  {
   "cell_type": "code",
   "execution_count": 42,
   "id": "a3e73e15",
   "metadata": {},
   "outputs": [
    {
     "data": {
      "text/plain": [
       "'D'"
      ]
     },
     "execution_count": 42,
     "metadata": {},
     "output_type": "execute_result"
    }
   ],
   "source": [
    "list2[-1]\n",
    "\n",
    "-8 -7 -6 -5 -4 -3 -2 -1\n",
    "1  2   3  4  A  B  C  D\n",
    "0  1   2  3  4  5  6  7"
   ]
  },
  {
   "cell_type": "code",
   "execution_count": 48,
   "id": "68215327",
   "metadata": {},
   "outputs": [
    {
     "name": "stdout",
     "output_type": "stream",
     "text": [
      "positive index is 0 and negative index is -4 for an element list[0]\n",
      "positive index is 1 and negative index is -3 for an element list[1]\n",
      "positive index is 2 and negative index is -2 for an element list[2]\n",
      "positive index is 3 and negative index is -1 for an element list[3]\n"
     ]
    }
   ],
   "source": [
    "for i in range(len(list1)):\n",
    "    print(\"positive index is {} and negative index is {} for an element {}\".format(i,i-len(list1),list[i] ))"
   ]
  },
  {
   "cell_type": "code",
   "execution_count": 50,
   "id": "b6c60ffd",
   "metadata": {},
   "outputs": [
    {
     "name": "stdout",
     "output_type": "stream",
     "text": [
      "Ab\n",
      "cd\n",
      "ef\n"
     ]
    }
   ],
   "source": [
    "# wap find the elements which are having len<3\n",
    "# list=['Apple','Ball','cat','Ab','cd','ef']\n",
    "\n",
    "list9=['Apple','Ball','cat','Ab','cd','ef']\n",
    "\n",
    "for i in range(len(list9)):\n",
    "    if len(list9[i])<3:\n",
    "        print(list9[i])\n",
    "\n",
    "    \n"
   ]
  },
  {
   "cell_type": "code",
   "execution_count": 53,
   "id": "186a31fd",
   "metadata": {},
   "outputs": [
    {
     "name": "stdout",
     "output_type": "stream",
     "text": [
      "Ball\n",
      "cat\n",
      "Ab\n",
      "cd\n",
      "ef\n"
     ]
    }
   ],
   "source": [
    "list9=['Apple','Ball','cat','Ab','cd','ef']\n",
    "\n",
    "for i in range(len(list9)):\n",
    "    if len(list9[i])<5:\n",
    "        print(list9[i])\n"
   ]
  },
  {
   "cell_type": "code",
   "execution_count": 56,
   "id": "51fa418c",
   "metadata": {},
   "outputs": [
    {
     "name": "stdout",
     "output_type": "stream",
     "text": [
      "App#e\n",
      "Ba#l\n",
      "c#t\n"
     ]
    }
   ],
   "source": [
    "# wap which at=re having #\n",
    "# list9=['Apple','Ball','cat','Ab','cd','ef']\n",
    "\n",
    "list1=['App#e','Ba#l','c#t','Ab','cd','ef']\n",
    "for i in range(len(list1)):\n",
    "    if '#' in (list1[i]):\n",
    "        print(list1[i])"
   ]
  },
  {
   "cell_type": "code",
   "execution_count": 63,
   "id": "dfc796f6",
   "metadata": {},
   "outputs": [
    {
     "name": "stdout",
     "output_type": "stream",
     "text": [
      "3\n"
     ]
    }
   ],
   "source": [
    "count=0\n",
    "list1=['App&e','Ba&l','c&t','Ab','cd','ef']\n",
    "for i in range(len(list1)):\n",
    "    if '&' in (list1[i]):\n",
    "        count=count+1\n",
    "        \n",
    "print(count)"
   ]
  },
  {
   "cell_type": "code",
   "execution_count": 66,
   "id": "f62c34c7",
   "metadata": {},
   "outputs": [
    {
     "data": {
      "text/plain": [
       "'Ball'"
      ]
     },
     "execution_count": 66,
     "metadata": {},
     "output_type": "execute_result"
    }
   ],
   "source": [
    "# list1=[1,2,3,'Apple','Ball']\n",
    "# retrive the ball using index\n",
    "\n",
    "list1=[1,2,3,['Apple','Ball']]\n",
    "list1[3][1]\n"
   ]
  },
  {
   "cell_type": "code",
   "execution_count": 69,
   "id": "c6f3a643",
   "metadata": {},
   "outputs": [
    {
     "data": {
      "text/plain": [
       "'cherry'"
      ]
     },
     "execution_count": 69,
     "metadata": {},
     "output_type": "execute_result"
    }
   ],
   "source": [
    "list1=[[[[[[['cherry']]]]]]]\n",
    "list1[0][0][0][0][0][0][0]"
   ]
  },
  {
   "cell_type": "code",
   "execution_count": 78,
   "id": "fd356fbd",
   "metadata": {},
   "outputs": [
    {
     "data": {
      "text/plain": [
       "['apple', [['cherry']]]"
      ]
     },
     "execution_count": 78,
     "metadata": {},
     "output_type": "execute_result"
    }
   ],
   "source": [
    "list1=[[[[['apple',[['cherry']]]]]]]\n",
    "list1[0][0][0][0]"
   ]
  },
  {
   "cell_type": "code",
   "execution_count": 102,
   "id": "f91ab158",
   "metadata": {},
   "outputs": [
    {
     "data": {
      "text/plain": [
       "'car'"
      ]
     },
     "execution_count": 102,
     "metadata": {},
     "output_type": "execute_result"
    }
   ],
   "source": [
    "list1=[[[['A','B',[[[1,2,3,['car']]]]]]]]\n",
    "list1[0][0][0][2][0][0][3][0]"
   ]
  },
  {
   "cell_type": "markdown",
   "id": "2cbb2eac",
   "metadata": {},
   "source": [
    "### muitable"
   ]
  },
  {
   "cell_type": "code",
   "execution_count": 105,
   "id": "7d39859d",
   "metadata": {},
   "outputs": [
    {
     "data": {
      "text/plain": [
       "[100, 'B', 'C']"
      ]
     },
     "execution_count": 105,
     "metadata": {},
     "output_type": "execute_result"
    }
   ],
   "source": [
    "list1=['A','B','C']\n",
    "list1[0]=100\n",
    "list1"
   ]
  },
  {
   "cell_type": "code",
   "execution_count": 106,
   "id": "7fe3dfc0",
   "metadata": {},
   "outputs": [
    {
     "data": {
      "text/plain": [
       "['A', 100, 'C']"
      ]
     },
     "execution_count": 106,
     "metadata": {},
     "output_type": "execute_result"
    }
   ],
   "source": [
    "list1=['A','B','C']\n",
    "list1[1]=100\n",
    "list1"
   ]
  },
  {
   "cell_type": "code",
   "execution_count": 107,
   "id": "de1c582e",
   "metadata": {},
   "outputs": [
    {
     "data": {
      "text/plain": [
       "['A', 'B', 100]"
      ]
     },
     "execution_count": 107,
     "metadata": {},
     "output_type": "execute_result"
    }
   ],
   "source": [
    "list1=['A','B','C']\n",
    "list1[2]=100\n",
    "list1"
   ]
  },
  {
   "cell_type": "markdown",
   "id": "0ee1a85b",
   "metadata": {},
   "source": [
    "### slice"
   ]
  },
  {
   "cell_type": "code",
   "execution_count": 109,
   "id": "9f0d770a",
   "metadata": {},
   "outputs": [
    {
     "data": {
      "text/plain": [
       "[]"
      ]
     },
     "execution_count": 109,
     "metadata": {},
     "output_type": "execute_result"
    }
   ],
   "source": [
    "list1=[10,20,30,40,50,'P','Y','T','H','O','N','a','b','c','D']\n",
    "list1[2:14:3]    #p\n",
    "list1[2:14:-3]   #np\n",
    "list1[2:-14:3]\n",
    "list1[2:-14:-3]\n",
    "list1[-2:14:3]\n",
    "list1[-2:-14:3]\n",
    "list1[-2:-14:-3]\n",
    "list1[-2:14:-3]"
   ]
  },
  {
   "cell_type": "code",
   "execution_count": 110,
   "id": "edd63274",
   "metadata": {},
   "outputs": [
    {
     "data": {
      "text/plain": [
       "[30, 'P', 'H', 'a']"
      ]
     },
     "execution_count": 110,
     "metadata": {},
     "output_type": "execute_result"
    }
   ],
   "source": [
    "list1[2:14:3]"
   ]
  },
  {
   "cell_type": "code",
   "execution_count": 111,
   "id": "93c5b44e",
   "metadata": {},
   "outputs": [
    {
     "data": {
      "text/plain": [
       "[]"
      ]
     },
     "execution_count": 111,
     "metadata": {},
     "output_type": "execute_result"
    }
   ],
   "source": [
    "list1[2:14:-3]"
   ]
  },
  {
   "cell_type": "code",
   "execution_count": 112,
   "id": "a1648c7c",
   "metadata": {},
   "outputs": [
    {
     "data": {
      "text/plain": [
       "[]"
      ]
     },
     "execution_count": 112,
     "metadata": {},
     "output_type": "execute_result"
    }
   ],
   "source": [
    "list1[2:-14:3]"
   ]
  },
  {
   "cell_type": "code",
   "execution_count": 113,
   "id": "26627d24",
   "metadata": {},
   "outputs": [
    {
     "data": {
      "text/plain": [
       "[30]"
      ]
     },
     "execution_count": 113,
     "metadata": {},
     "output_type": "execute_result"
    }
   ],
   "source": [
    "list1[2:-14:-3]"
   ]
  },
  {
   "cell_type": "code",
   "execution_count": 114,
   "id": "e5860159",
   "metadata": {},
   "outputs": [
    {
     "data": {
      "text/plain": [
       "['c']"
      ]
     },
     "execution_count": 114,
     "metadata": {},
     "output_type": "execute_result"
    }
   ],
   "source": [
    "list1[-2:14:3]"
   ]
  },
  {
   "cell_type": "code",
   "execution_count": 115,
   "id": "1fe6d705",
   "metadata": {},
   "outputs": [
    {
     "data": {
      "text/plain": [
       "[]"
      ]
     },
     "execution_count": 115,
     "metadata": {},
     "output_type": "execute_result"
    }
   ],
   "source": [
    "list1[-2:-14:3]"
   ]
  },
  {
   "cell_type": "code",
   "execution_count": 117,
   "id": "b379c30c",
   "metadata": {},
   "outputs": [
    {
     "data": {
      "text/plain": [
       "['c', 'N', 'T', 50]"
      ]
     },
     "execution_count": 117,
     "metadata": {},
     "output_type": "execute_result"
    }
   ],
   "source": [
    "list1[-2:-14:-3]"
   ]
  },
  {
   "cell_type": "code",
   "execution_count": 118,
   "id": "fc8a6e4d",
   "metadata": {},
   "outputs": [
    {
     "data": {
      "text/plain": [
       "[]"
      ]
     },
     "execution_count": 118,
     "metadata": {},
     "output_type": "execute_result"
    }
   ],
   "source": [
    "list1[-2:14:-3]"
   ]
  },
  {
   "cell_type": "markdown",
   "id": "96c998e5",
   "metadata": {},
   "source": [
    "## $list methods$"
   ]
  },
  {
   "cell_type": "code",
   "execution_count": 121,
   "id": "bef02a8e",
   "metadata": {},
   "outputs": [
    {
     "data": {
      "text/plain": [
       "['__add__',\n",
       " '__class__',\n",
       " '__class_getitem__',\n",
       " '__contains__',\n",
       " '__delattr__',\n",
       " '__delitem__',\n",
       " '__dir__',\n",
       " '__doc__',\n",
       " '__eq__',\n",
       " '__format__',\n",
       " '__ge__',\n",
       " '__getattribute__',\n",
       " '__getitem__',\n",
       " '__getstate__',\n",
       " '__gt__',\n",
       " '__hash__',\n",
       " '__iadd__',\n",
       " '__imul__',\n",
       " '__init__',\n",
       " '__init_subclass__',\n",
       " '__iter__',\n",
       " '__le__',\n",
       " '__len__',\n",
       " '__lt__',\n",
       " '__mul__',\n",
       " '__ne__',\n",
       " '__new__',\n",
       " '__reduce__',\n",
       " '__reduce_ex__',\n",
       " '__repr__',\n",
       " '__reversed__',\n",
       " '__rmul__',\n",
       " '__setattr__',\n",
       " '__setitem__',\n",
       " '__sizeof__',\n",
       " '__str__',\n",
       " '__subclasshook__',\n",
       " 'append',\n",
       " 'clear',\n",
       " 'copy',\n",
       " 'count',\n",
       " 'extend',\n",
       " 'index',\n",
       " 'insert',\n",
       " 'pop',\n",
       " 'remove',\n",
       " 'reverse',\n",
       " 'sort']"
      ]
     },
     "execution_count": 121,
     "metadata": {},
     "output_type": "execute_result"
    }
   ],
   "source": [
    "dir([])"
   ]
  },
  {
   "cell_type": "markdown",
   "id": "32d7a513",
   "metadata": {},
   "source": [
    "### clear-copy"
   ]
  },
  {
   "cell_type": "code",
   "execution_count": 120,
   "id": "52b425e2",
   "metadata": {},
   "outputs": [
    {
     "name": "stdout",
     "output_type": "stream",
     "text": [
      "list1: []\n",
      "list2: [1, 2, 3, 4]\n"
     ]
    }
   ],
   "source": [
    "list1=[1,2,3,4]\n",
    "\n",
    "# i want copy these elements in list2\n",
    "\n",
    "list2=list1.copy()\n",
    "\n",
    "list1.clear()\n",
    "\n",
    "print('list1:',list1)\n",
    "print('list2:',list2)"
   ]
  },
  {
   "cell_type": "code",
   "execution_count": 123,
   "id": "06111bad",
   "metadata": {},
   "outputs": [
    {
     "name": "stdout",
     "output_type": "stream",
     "text": [
      "list1: []\n",
      "list2: ['L', 'O', 'K', 'E', 'S', 'H']\n"
     ]
    }
   ],
   "source": [
    "list1=['L','O','K','E','S','H']\n",
    "\n",
    "list2=list1.copy()\n",
    "list1.clear()\n",
    "\n",
    "print('list1:',list1)\n",
    "print('list2:',list2)"
   ]
  },
  {
   "cell_type": "code",
   "execution_count": 128,
   "id": "a19fecae",
   "metadata": {},
   "outputs": [
    {
     "name": "stdout",
     "output_type": "stream",
     "text": [
      "list2: ['12345']\n",
      "list1: []\n"
     ]
    }
   ],
   "source": [
    "list1=['12345']\n",
    "list2=list1.copy()\n",
    "print(\"list2:\",list1)\n",
    "list1.clear()\n",
    "print(\"list1:\",list1)"
   ]
  },
  {
   "cell_type": "markdown",
   "id": "8d4630fc",
   "metadata": {},
   "source": [
    "#### append"
   ]
  },
  {
   "cell_type": "code",
   "execution_count": 2,
   "id": "6a823f50",
   "metadata": {},
   "outputs": [
    {
     "data": {
      "text/plain": [
       "[100, 200, 300]"
      ]
     },
     "execution_count": 2,
     "metadata": {},
     "output_type": "execute_result"
    }
   ],
   "source": [
    "# add (something ) to the end of a written document\n",
    "\n",
    "list1=[100,200]\n",
    "\n",
    "# [100,200,300]\n",
    "\n",
    "list1.append(300)\n",
    "list1"
   ]
  },
  {
   "cell_type": "code",
   "execution_count": 4,
   "id": "c13f70b0",
   "metadata": {},
   "outputs": [
    {
     "data": {
      "text/plain": [
       "[100, 200, 300]"
      ]
     },
     "execution_count": 4,
     "metadata": {},
     "output_type": "execute_result"
    }
   ],
   "source": [
    "list1=[]\n",
    "list1.append(100)\n",
    "list1.append(200)\n",
    "list1.append(300)\n",
    "list1"
   ]
  },
  {
   "cell_type": "code",
   "execution_count": 5,
   "id": "0dad3086",
   "metadata": {},
   "outputs": [
    {
     "ename": "TypeError",
     "evalue": "list.append() takes exactly one argument (2 given)",
     "output_type": "error",
     "traceback": [
      "\u001b[1;31m---------------------------------------------------------------------------\u001b[0m",
      "\u001b[1;31mTypeError\u001b[0m                                 Traceback (most recent call last)",
      "Cell \u001b[1;32mIn[5], line 1\u001b[0m\n\u001b[1;32m----> 1\u001b[0m list1\u001b[38;5;241m.\u001b[39mappend(\u001b[38;5;241m100\u001b[39m,\u001b[38;5;241m200\u001b[39m)\n\u001b[0;32m      2\u001b[0m list1\n",
      "\u001b[1;31mTypeError\u001b[0m: list.append() takes exactly one argument (2 given)"
     ]
    }
   ],
   "source": [
    "# error\n",
    "\n",
    "list1.append(100,200)\n",
    "list1                    ============= # it takes only one arguments"
   ]
  },
  {
   "cell_type": "code",
   "execution_count": 6,
   "id": "6ae52237",
   "metadata": {},
   "outputs": [
    {
     "data": {
      "text/plain": [
       "[100, 200, 300, [100, 200]]"
      ]
     },
     "execution_count": 6,
     "metadata": {},
     "output_type": "execute_result"
    }
   ],
   "source": [
    "list1.append([100,200])\n",
    "list1"
   ]
  },
  {
   "cell_type": "code",
   "execution_count": 7,
   "id": "d2b6b0c1",
   "metadata": {},
   "outputs": [
    {
     "data": {
      "text/plain": [
       "[100, 200, 300, [100, 200], 'apple']"
      ]
     },
     "execution_count": 7,
     "metadata": {},
     "output_type": "execute_result"
    }
   ],
   "source": [
    "list1.append('apple')\n",
    "list1"
   ]
  },
  {
   "cell_type": "code",
   "execution_count": 10,
   "id": "3eaf4dd2",
   "metadata": {},
   "outputs": [
    {
     "name": "stdout",
     "output_type": "stream",
     "text": [
      "1\n",
      "4\n",
      "9\n",
      "16\n",
      "25\n"
     ]
    }
   ],
   "source": [
    "# input list=[1,2,3,4,5]\n",
    "# create a new list=[1,4,9,16,25]\n",
    "\n",
    "# write niormal python code\n",
    "list1=[1,2,3,4,5]\n",
    "for i in list1:\n",
    "    print(i*i)\n"
   ]
  },
  {
   "cell_type": "code",
   "execution_count": 12,
   "id": "bf9e750e",
   "metadata": {},
   "outputs": [
    {
     "data": {
      "text/plain": [
       "[1, 4, 9, 16, 25]"
      ]
     },
     "execution_count": 12,
     "metadata": {},
     "output_type": "execute_result"
    }
   ],
   "source": [
    "# i dont want print the values, i want to save vlues in list\n",
    "\n",
    "list1=[1,2,3,4,5]\n",
    "output=[]\n",
    "for i in list1:\n",
    "    output.append(i*i)\n",
    "    \n",
    "output\n",
    "    "
   ]
  },
  {
   "cell_type": "code",
   "execution_count": 15,
   "id": "ff716e13",
   "metadata": {},
   "outputs": [
    {
     "data": {
      "text/plain": [
       "['Hyd', 'Bengaluru', 'Delhi']"
      ]
     },
     "execution_count": 15,
     "metadata": {},
     "output_type": "execute_result"
    }
   ],
   "source": [
    "list2=['hyd','bengaluru','delhi']\n",
    "# out put =['Hyd','Bangaluru','Delhi']\n",
    "output=[]\n",
    "for i in list2:\n",
    "    output.append(i.capitalize())\n",
    "    \n",
    "output"
   ]
  },
  {
   "cell_type": "code",
   "execution_count": 24,
   "id": "23b8ec6d",
   "metadata": {},
   "outputs": [
    {
     "data": {
      "text/plain": [
       "['Nareshit']"
      ]
     },
     "execution_count": 24,
     "metadata": {},
     "output_type": "execute_result"
    }
   ],
   "source": [
    "list1=['nareshit']\n",
    "output=[]\n",
    "for i in list1:\n",
    "    output.append(i.capitalize())\n",
    "output"
   ]
  },
  {
   "cell_type": "code",
   "execution_count": 40,
   "id": "77e1d3ea",
   "metadata": {},
   "outputs": [
    {
     "data": {
      "text/plain": [
       "['h#d', 'beng#luru']"
      ]
     },
     "execution_count": 40,
     "metadata": {},
     "output_type": "execute_result"
    }
   ],
   "source": [
    "list3=['h#d','beng#luru','delhi']\n",
    "# output=['h#d','beng#luru']\n",
    "\n",
    "output=[]\n",
    "for i in list3:\n",
    "    if '#' in i:\n",
    "        output.append(i)\n",
    "output"
   ]
  },
  {
   "cell_type": "markdown",
   "id": "4f3c2c2a",
   "metadata": {},
   "source": [
    "### list comprehenshion"
   ]
  },
  {
   "cell_type": "code",
   "execution_count": 44,
   "id": "90eb75c2",
   "metadata": {},
   "outputs": [
    {
     "data": {
      "text/plain": [
       "[1, 4, 9, 16, 25]"
      ]
     },
     "execution_count": 44,
     "metadata": {},
     "output_type": "execute_result"
    }
   ],
   "source": [
    "# code in a single line=====speed the process\n",
    "\n",
    "list1=[1,2,3,4,5]    #input\n",
    "\n",
    "\n",
    "# step1: initilize the list output[]\n",
    "# step2: \n",
    "# step3:\n",
    "\n",
    "output1=[i*i for i in list1]\n",
    "output1"
   ]
  },
  {
   "cell_type": "code",
   "execution_count": 43,
   "id": "9d4b945c",
   "metadata": {},
   "outputs": [
    {
     "data": {
      "text/plain": [
       "['Hyd', 'Bengaluru', 'Delhi']"
      ]
     },
     "execution_count": 43,
     "metadata": {},
     "output_type": "execute_result"
    }
   ],
   "source": [
    "list2=['hyd','bengaluru','delhi']\n",
    "# out put =['Hyd','Bangaluru','Delhi']\n",
    "    \n",
    "output1=[i.capitalize() for i in list2]\n",
    "output1\n"
   ]
  },
  {
   "cell_type": "code",
   "execution_count": 56,
   "id": "6a94a6c7",
   "metadata": {},
   "outputs": [
    {
     "data": {
      "text/plain": [
       "[1, 2, 3, 4, 5, 6, 7, 8, 9, 10, 11, 12, 13, 14, 15, 16, 17, 18, 19, 20]"
      ]
     },
     "execution_count": 56,
     "metadata": {},
     "output_type": "execute_result"
    }
   ],
   "source": [
    "# create thr list of 20 numbers from 1 to 20\n",
    "\n",
    "#========method1========\n",
    "\n",
    "#for i in range(1,21):\n",
    " #   print(i)\n",
    "    \n",
    "#=========method2 ======   \n",
    "\n",
    "numbers=[]\n",
    "for i in range(1,21):\n",
    "    numbers.append(i)\n",
    "numbers\n",
    "\n",
    "#======method3=========\n",
    "\n",
    "numbers1=[i for i in range(1,21)]\n",
    "numbers1\n",
    "    "
   ]
  },
  {
   "cell_type": "markdown",
   "id": "fab76607",
   "metadata": {},
   "source": [
    "### $list-comprehhension-with-if-condition$\n"
   ]
  },
  {
   "cell_type": "code",
   "execution_count": 58,
   "id": "faab8daf",
   "metadata": {},
   "outputs": [
    {
     "data": {
      "text/plain": [
       "['h#d', 'beng#luru']"
      ]
     },
     "execution_count": 58,
     "metadata": {},
     "output_type": "execute_result"
    }
   ],
   "source": [
    "list3=['h#d','beng#luru','delhi']\n",
    "# output=['h#d','beng#luru']\n",
    "\n",
    "output=[]\n",
    "for i in list3:\n",
    "    if '#' in i:\n",
    "        output.append(i)\n",
    "output\n",
    "\n",
    "#[<o/p> <forloop> <if_condition>]\n",
    "\n",
    "output1=[i for i in list3 if '#' in i]\n",
    "output1"
   ]
  },
  {
   "cell_type": "code",
   "execution_count": 72,
   "id": "95a78982",
   "metadata": {},
   "outputs": [],
   "source": [
    "list4=['abcd','abc','ac','a']\n",
    "# elements less thsn 3\n",
    "# ['ac','a']\n",
    "\n",
    "for i in list4:\n",
    "    if list4 == '3':\n",
    "        print(i)"
   ]
  },
  {
   "cell_type": "code",
   "execution_count": 70,
   "id": "0e2ba61b",
   "metadata": {},
   "outputs": [
    {
     "data": {
      "text/plain": [
       "['odd:1', 'even:2', 'odd:3', 'even:4', 'odd:5', 'even:6']"
      ]
     },
     "execution_count": 70,
     "metadata": {},
     "output_type": "execute_result"
    }
   ],
   "source": [
    "list1=[1,2,3,4,5,6]\n",
    "\n",
    "output=[]\n",
    "for i in list1:\n",
    "    if i%2==0:\n",
    "        output.append(\"even:{}\".format(i))\n",
    "    else:\n",
    "        output.append(\"odd:{}\".format(i))\n",
    "output"
   ]
  },
  {
   "cell_type": "code",
   "execution_count": 77,
   "id": "10bef2cf",
   "metadata": {},
   "outputs": [
    {
     "data": {
      "text/plain": [
       "['odd:1', 'even:2', 'odd:3', 'even:4', 'odd:5', 'even:6']"
      ]
     },
     "execution_count": 77,
     "metadata": {},
     "output_type": "execute_result"
    }
   ],
   "source": [
    "# [<if_output> <if_condition> else <else_output> <for loop>]\n",
    "\n",
    "\n",
    "output=[\"even:{}\".format(i) if i%2==0 else \"odd:{}\".format(i) for i in list1]\n",
    "output"
   ]
  },
  {
   "cell_type": "markdown",
   "id": "146666ad",
   "metadata": {},
   "source": [
    "### $count$"
   ]
  },
  {
   "cell_type": "code",
   "execution_count": 79,
   "id": "257b07b8",
   "metadata": {},
   "outputs": [
    {
     "data": {
      "text/plain": [
       "3"
      ]
     },
     "execution_count": 79,
     "metadata": {},
     "output_type": "execute_result"
    }
   ],
   "source": [
    "list1=[1,2,3,'A','B','B','B','C']\n",
    "list1.count(\"B\")"
   ]
  },
  {
   "cell_type": "code",
   "execution_count": 82,
   "id": "811de6f6",
   "metadata": {},
   "outputs": [
    {
     "name": "stdout",
     "output_type": "stream",
     "text": [
      "3\n"
     ]
    }
   ],
   "source": [
    "count=0\n",
    "for i in list1:\n",
    "    if i=='B':\n",
    "        count=count+1\n",
    "print(count)"
   ]
  },
  {
   "cell_type": "markdown",
   "id": "15834aaf",
   "metadata": {},
   "source": [
    "### $Extend$"
   ]
  },
  {
   "cell_type": "code",
   "execution_count": 83,
   "id": "acc2780f",
   "metadata": {},
   "outputs": [
    {
     "data": {
      "text/plain": [
       "['A', 'B', 'C', 1, 2, 3]"
      ]
     },
     "execution_count": 83,
     "metadata": {},
     "output_type": "execute_result"
    }
   ],
   "source": [
    "list1=['A','B','C']\n",
    "list2=[1,2,3]\n",
    "\n",
    "list1.extend(list2)\n",
    "list1\n",
    "\n",
    "# here the list1 will be updated with list2 values "
   ]
  },
  {
   "cell_type": "code",
   "execution_count": 84,
   "id": "a6db0645",
   "metadata": {},
   "outputs": [
    {
     "data": {
      "text/plain": [
       "['A', 'B', 'C', 1, 2, 3]"
      ]
     },
     "execution_count": 84,
     "metadata": {},
     "output_type": "execute_result"
    }
   ],
   "source": [
    "list1=['A','B','C']\n",
    "list2=[1,2,3]\n",
    "list3=list1+list2\n",
    "list3\n",
    "\n",
    "# by using concatination method"
   ]
  },
  {
   "cell_type": "markdown",
   "id": "4ef5c346",
   "metadata": {},
   "source": [
    "### $append--vs--extend--vs--concatination$"
   ]
  },
  {
   "cell_type": "markdown",
   "id": "b6c60eca",
   "metadata": {},
   "source": [
    "- append will add the elements atb last , that elements can be any type\n",
    " - list1=[1,2,3]\n",
    " - list2=['a','b','c']"
   ]
  },
  {
   "cell_type": "code",
   "execution_count": null,
   "id": "b4c113a2",
   "metadata": {},
   "outputs": [],
   "source": []
  },
  {
   "cell_type": "code",
   "execution_count": null,
   "id": "1a0169ed",
   "metadata": {},
   "outputs": [],
   "source": []
  },
  {
   "cell_type": "markdown",
   "id": "db269a99",
   "metadata": {},
   "source": [
    "### $iterator$"
   ]
  },
  {
   "cell_type": "markdown",
   "id": "529341ef",
   "metadata": {},
   "source": [
    "- iterator word======loop\n",
    "- the elements we can print using for loop\n",
    "- string='python' we can print each letyters using for loop\n",
    "- list1=[1,2,3]  we can print each element using for loop"
   ]
  },
  {
   "cell_type": "code",
   "execution_count": 95,
   "id": "7dcc2024",
   "metadata": {},
   "outputs": [
    {
     "data": {
      "text/plain": [
       "<reversed at 0x1d3f8e87310>"
      ]
     },
     "execution_count": 95,
     "metadata": {},
     "output_type": "execute_result"
    }
   ],
   "source": [
    "val=reversed('python')\n",
    "val"
   ]
  },
  {
   "cell_type": "code",
   "execution_count": 96,
   "id": "9983b3e5",
   "metadata": {},
   "outputs": [
    {
     "name": "stdout",
     "output_type": "stream",
     "text": [
      "n\n",
      "o\n",
      "h\n",
      "t\n",
      "y\n",
      "p\n"
     ]
    }
   ],
   "source": [
    "for i in val:\n",
    "    print(i)"
   ]
  },
  {
   "cell_type": "markdown",
   "id": "f3d77b1d",
   "metadata": {},
   "source": [
    "### pop-remove-del"
   ]
  },
  {
   "cell_type": "code",
   "execution_count": 97,
   "id": "6efdf83c",
   "metadata": {},
   "outputs": [],
   "source": [
    "list1=[1,2,3,4,5,'python']"
   ]
  },
  {
   "cell_type": "code",
   "execution_count": 98,
   "id": "d0b90796",
   "metadata": {},
   "outputs": [
    {
     "data": {
      "text/plain": [
       "'python'"
      ]
     },
     "execution_count": 98,
     "metadata": {},
     "output_type": "execute_result"
    }
   ],
   "source": [
    "list1.pop()\n",
    "\n",
    "# in side brackets defaults is there index=-1\n",
    "# -1 means last value\n",
    "# if you not provide any values\n",
    "# it will remove last value\n",
    "# if i provide any index it will remove the element\n",
    "\n",
    "# it also returning ,which element is removing"
   ]
  },
  {
   "cell_type": "code",
   "execution_count": 99,
   "id": "48587df8",
   "metadata": {},
   "outputs": [
    {
     "data": {
      "text/plain": [
       "[200, 100, 300]"
      ]
     },
     "execution_count": 99,
     "metadata": {},
     "output_type": "execute_result"
    }
   ],
   "source": [
    "list1=[100,200,100,300]    ====# duplicates are allowed\n",
    "list1.remove(100)          =====# first occurance will gone\n",
    "list1                      =====# it will not reture any values"
   ]
  },
  {
   "cell_type": "code",
   "execution_count": 103,
   "id": "e9e8f33a",
   "metadata": {},
   "outputs": [
    {
     "data": {
      "text/plain": [
       "[100, 200, 300]"
      ]
     },
     "execution_count": 103,
     "metadata": {},
     "output_type": "execute_result"
    }
   ],
   "source": [
    "list1=[100,200,100,300]\n",
    "del list1[2]\n",
    "list1"
   ]
  },
  {
   "cell_type": "markdown",
   "id": "cdb6054e",
   "metadata": {},
   "source": [
    "### $index-insert$"
   ]
  },
  {
   "cell_type": "code",
   "execution_count": 113,
   "id": "3212346f",
   "metadata": {},
   "outputs": [
    {
     "data": {
      "text/plain": [
       "4"
      ]
     },
     "execution_count": 113,
     "metadata": {},
     "output_type": "execute_result"
    }
   ],
   "source": [
    "list1=('python')\n",
    "list1.index('o')"
   ]
  },
  {
   "cell_type": "code",
   "execution_count": 109,
   "id": "5afc1c26",
   "metadata": {},
   "outputs": [
    {
     "data": {
      "text/plain": [
       "3"
      ]
     },
     "execution_count": 109,
     "metadata": {},
     "output_type": "execute_result"
    }
   ],
   "source": [
    "list2=(1,2,3,4,5,6)\n",
    "list2.index(4)"
   ]
  },
  {
   "cell_type": "code",
   "execution_count": 121,
   "id": "69f8af3d",
   "metadata": {},
   "outputs": [
    {
     "data": {
      "text/plain": [
       "[10, 20, 30, 100, 40, 50]"
      ]
     },
     "execution_count": 121,
     "metadata": {},
     "output_type": "execute_result"
    }
   ],
   "source": [
    "list1=[10,20,30,40,50]            # we need to provide index and value\n",
    "list1.insert(3,100)\n",
    "list1"
   ]
  },
  {
   "cell_type": "code",
   "execution_count": 139,
   "id": "28997bdf",
   "metadata": {},
   "outputs": [
    {
     "data": {
      "text/plain": [
       "['a', 'f', 'b', 'c', 'd']"
      ]
     },
     "execution_count": 139,
     "metadata": {},
     "output_type": "execute_result"
    }
   ],
   "source": [
    "list1=['a','b','c','d']\n",
    "list1.insert(1,'f')\n",
    "list1"
   ]
  },
  {
   "cell_type": "markdown",
   "id": "d5e74e6d",
   "metadata": {},
   "source": [
    "### $Reverse-Sort$"
   ]
  },
  {
   "cell_type": "code",
   "execution_count": 144,
   "id": "7c1c86af",
   "metadata": {},
   "outputs": [
    {
     "data": {
      "text/plain": [
       "[10, 20, 30, 90, 70, 40]"
      ]
     },
     "execution_count": 144,
     "metadata": {},
     "output_type": "execute_result"
    }
   ],
   "source": [
    "list1=[10,20,30,90,70,40]\n",
    "list1"
   ]
  },
  {
   "cell_type": "code",
   "execution_count": 145,
   "id": "f4dc476f",
   "metadata": {},
   "outputs": [
    {
     "data": {
      "text/plain": [
       "[40, 70, 90, 30, 20, 10]"
      ]
     },
     "execution_count": 145,
     "metadata": {},
     "output_type": "execute_result"
    }
   ],
   "source": [
    "list1.reverse()\n",
    "list1"
   ]
  },
  {
   "cell_type": "code",
   "execution_count": 146,
   "id": "81ad5e89",
   "metadata": {},
   "outputs": [
    {
     "data": {
      "text/plain": [
       "[10, 20, 30, 40, 70, 90]"
      ]
     },
     "execution_count": 146,
     "metadata": {},
     "output_type": "execute_result"
    }
   ],
   "source": [
    "list1.sort()    # ascending order\n",
    "list1"
   ]
  },
  {
   "cell_type": "code",
   "execution_count": 150,
   "id": "2d0135d9",
   "metadata": {},
   "outputs": [
    {
     "name": "stdout",
     "output_type": "stream",
     "text": [
      "Ram age is :25\n",
      "Robert age is :30\n",
      "Raheem age is :35\n"
     ]
    }
   ],
   "source": [
    "list1=['Ram','Robert','Raheem']\n",
    "list2=[25,30,35]\n",
    "\n",
    "# ram age is 25\n",
    "# robert age is 30\n",
    "# raheem age is 35\n",
    "\n",
    "for i in range(3):\n",
    "    print(\"{} age is :{}\".format(list1[i],list2[i]))"
   ]
  },
  {
   "cell_type": "code",
   "execution_count": 161,
   "id": "a4b5756d",
   "metadata": {},
   "outputs": [
    {
     "ename": "ValueError",
     "evalue": "not enough values to unpack (expected 2, got 1)",
     "output_type": "error",
     "traceback": [
      "\u001b[1;31m---------------------------------------------------------------------------\u001b[0m",
      "\u001b[1;31mValueError\u001b[0m                                Traceback (most recent call last)",
      "Cell \u001b[1;32mIn[161], line 4\u001b[0m\n\u001b[0;32m      1\u001b[0m list1\u001b[38;5;241m=\u001b[39m[\u001b[38;5;124m'\u001b[39m\u001b[38;5;124mRam\u001b[39m\u001b[38;5;124m'\u001b[39m,\u001b[38;5;124m'\u001b[39m\u001b[38;5;124mRobert\u001b[39m\u001b[38;5;124m'\u001b[39m,\u001b[38;5;124m'\u001b[39m\u001b[38;5;124mRaheem\u001b[39m\u001b[38;5;124m'\u001b[39m]\n\u001b[0;32m      2\u001b[0m list2\u001b[38;5;241m=\u001b[39m[\u001b[38;5;241m25\u001b[39m,\u001b[38;5;241m30\u001b[39m,\u001b[38;5;241m35\u001b[39m]\n\u001b[1;32m----> 4\u001b[0m output\u001b[38;5;241m=\u001b[39m[i\u001b[38;5;241m+\u001b[39mj \u001b[38;5;28;01mfor\u001b[39;00m i,j \u001b[38;5;129;01min\u001b[39;00m \u001b[38;5;28mzip\u001b[39m(list1\u001b[38;5;241m+\u001b[39mlist2)]\n\u001b[0;32m      5\u001b[0m output\n",
      "Cell \u001b[1;32mIn[161], line 4\u001b[0m, in \u001b[0;36m<listcomp>\u001b[1;34m(.0)\u001b[0m\n\u001b[0;32m      1\u001b[0m list1\u001b[38;5;241m=\u001b[39m[\u001b[38;5;124m'\u001b[39m\u001b[38;5;124mRam\u001b[39m\u001b[38;5;124m'\u001b[39m,\u001b[38;5;124m'\u001b[39m\u001b[38;5;124mRobert\u001b[39m\u001b[38;5;124m'\u001b[39m,\u001b[38;5;124m'\u001b[39m\u001b[38;5;124mRaheem\u001b[39m\u001b[38;5;124m'\u001b[39m]\n\u001b[0;32m      2\u001b[0m list2\u001b[38;5;241m=\u001b[39m[\u001b[38;5;241m25\u001b[39m,\u001b[38;5;241m30\u001b[39m,\u001b[38;5;241m35\u001b[39m]\n\u001b[1;32m----> 4\u001b[0m output\u001b[38;5;241m=\u001b[39m[i\u001b[38;5;241m+\u001b[39mj \u001b[38;5;28;01mfor\u001b[39;00m i,j \u001b[38;5;129;01min\u001b[39;00m \u001b[38;5;28mzip\u001b[39m(list1\u001b[38;5;241m+\u001b[39mlist2)]\n\u001b[0;32m      5\u001b[0m output\n",
      "\u001b[1;31mValueError\u001b[0m: not enough values to unpack (expected 2, got 1)"
     ]
    }
   ],
   "source": [
    "list1=['Ram','Robert','Raheem']\n",
    "list2=[25,30,35]\n",
    "\n"
   ]
  },
  {
   "cell_type": "code",
   "execution_count": 159,
   "id": "5d4faa99",
   "metadata": {},
   "outputs": [
    {
     "data": {
      "text/plain": [
       "[125, 230, 335]"
      ]
     },
     "execution_count": 159,
     "metadata": {},
     "output_type": "execute_result"
    }
   ],
   "source": [
    "list1=[100,200,300]\n",
    "list2=[25,30,35]\n",
    "\n",
    "# o/p = [125,230,335]\n",
    "\n",
    "output =[i+j for i,j in zip (list1,list2)]\n",
    "output"
   ]
  },
  {
   "cell_type": "code",
   "execution_count": 171,
   "id": "60ade6d4",
   "metadata": {},
   "outputs": [
    {
     "name": "stdout",
     "output_type": "stream",
     "text": [
      "who is pm of india\n",
      "enter the questions:modi\n",
      "what is the capital of india\n",
      "enter the questions:delhi\n",
      "who is president of india\n",
      "enter the questions:drupadi\n",
      "you answered 3 questions correctly\n"
     ]
    }
   ],
   "source": [
    "# take 5 questions in list1\n",
    "# take corresponding 5 answers in another list2\n",
    "# iterate through list1\n",
    "# every question should print\n",
    "# answer=output(\"tell the answer\")\n",
    "# answerv will check in list\n",
    "# if it is there : marks=marks+1\n",
    "# else:no marks\n",
    "\n",
    "# how many write answers you made,how many answers youn got\n",
    "\n",
    "questions=['who is pm of india','what is the capital of india','who is president of india']\n",
    "answer=['Modi','Delhi','Drupadi']\n",
    "count=0\n",
    "marks=0\n",
    "correct_answer=0\n",
    "for i in range(len(questions)):\n",
    "    print(questions[i])\n",
    "    answerss = input(\"enter the questions:\").capitalize()\n",
    "    if answerss==answer[i]:\n",
    "        count=count+1\n",
    "\n",
    "print(f'you answered {count} questions correctly')"
   ]
  },
  {
   "cell_type": "code",
   "execution_count": null,
   "id": "620cd482",
   "metadata": {},
   "outputs": [],
   "source": []
  },
  {
   "cell_type": "code",
   "execution_count": null,
   "id": "75fc996a",
   "metadata": {},
   "outputs": [],
   "source": []
  }
 ],
 "metadata": {
  "kernelspec": {
   "display_name": "Python 3 (ipykernel)",
   "language": "python",
   "name": "python3"
  },
  "language_info": {
   "codemirror_mode": {
    "name": "ipython",
    "version": 3
   },
   "file_extension": ".py",
   "mimetype": "text/x-python",
   "name": "python",
   "nbconvert_exporter": "python",
   "pygments_lexer": "ipython3",
   "version": "3.11.5"
  }
 },
 "nbformat": 4,
 "nbformat_minor": 5
}
