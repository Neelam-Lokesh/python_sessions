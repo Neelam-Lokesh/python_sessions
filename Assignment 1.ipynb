{
 "cells": [
  {
   "cell_type": "code",
   "execution_count": 1,
   "id": "66ec5ab9",
   "metadata": {},
   "outputs": [
    {
     "name": "stdout",
     "output_type": "stream",
     "text": [
      "64\n"
     ]
    }
   ],
   "source": [
    "# ask the user to enter a number and print the square of the number \n",
    "try:\n",
    "    a=8\n",
    "    square=a*a\n",
    "    print(square)\n",
    "except Exception as e:\n",
    "    print(e)"
   ]
  },
  {
   "cell_type": "code",
   "execution_count": 2,
   "id": "b2e414fa",
   "metadata": {},
   "outputs": [
    {
     "name": "stdout",
     "output_type": "stream",
     "text": [
      "enter a number:5\n",
      "5---10---15---20---25\n"
     ]
    }
   ],
   "source": [
    "# ask the user to enter a number x.print out x,2x,3x,4x,5x each seperated by 3 dishes \n",
    "\n",
    "try:\n",
    "    x=int(input(\"enter a number:\"))\n",
    "    print(f\"{x}---{2*x}---{3*x}---{4*x}---{5*x}\")\n",
    "    \n",
    "except Exception as e:\n",
    "    print(e)"
   ]
  },
  {
   "cell_type": "code",
   "execution_count": 2,
   "id": "6eacbed8",
   "metadata": {},
   "outputs": [
    {
     "name": "stdout",
     "output_type": "stream",
     "text": [
      "enter weight in kg to convert into pounds:25\n",
      "25 kilograms= 55.00000000000001 pounds\n"
     ]
    }
   ],
   "source": [
    "# wap that ask the user for a weight in kilogram and converts into pounds there are 2.2 pounds in kg\n",
    "try:\n",
    "    kilograms=int(input('enter weight in kg to convert into pounds:'))\n",
    "    pounds=kilograms*2.2\n",
    "    print(kilograms,'kilograms=',pounds,'pounds')\n",
    "except Exception as e:\n",
    "    print(e)"
   ]
  },
  {
   "cell_type": "code",
   "execution_count": 4,
   "id": "5424b1ed",
   "metadata": {},
   "outputs": [
    {
     "name": "stdout",
     "output_type": "stream",
     "text": [
      "enter a num1:2\n",
      "enter a num2:3\n",
      "enter a num3:4\n",
      "9\n",
      "3.0\n"
     ]
    }
   ],
   "source": [
    "# wap that ask the user to enter three numbers.create variable called total and average\n",
    " # that hold the sum and average of the three numbers and print it\n",
    "    \n",
    "try:\n",
    "        num1 = int(input(\"enter a num1:\"))\n",
    "        num2 = int(input(\"enter a num2:\"))\n",
    "        num3 = int(input(\"enter a num3:\"))\n",
    "        total=num1+num2+num3\n",
    "        average=(total/3)\n",
    "        print(total)\n",
    "        print(average)\n",
    "        \n",
    "except Exception as e:\n",
    "        print(e)"
   ]
  },
  {
   "cell_type": "code",
   "execution_count": 6,
   "id": "fbab5f5a",
   "metadata": {},
   "outputs": [
    {
     "name": "stdout",
     "output_type": "stream",
     "text": [
      "enter the meal amount500\n",
      "enter the tip percent5\n",
      "25.0\n",
      "525.0\n"
     ]
    }
   ],
   "source": [
    "# A lot of cellphones have tip calculator.write one.ask the user for the price of the meal and the \n",
    "# percent tip they want to leave .Then print both the tip amount and the total bill with the tip inclued\n",
    "\n",
    "\n",
    "try:\n",
    "    meal=int(input(\"enter the meal amount\"))\n",
    "    tip=int(input(\"enter the tip percent\"))\n",
    "    tip_amount=meal*tip/100\n",
    "    total_bill=meal+tip_amount\n",
    "    print(tip_amount)\n",
    "    print(total_bill)\n",
    "        \n",
    "except Exception as e:\n",
    "    print(e)\n",
    "\n"
   ]
  },
  {
   "cell_type": "code",
   "execution_count": null,
   "id": "bd2597aa",
   "metadata": {},
   "outputs": [],
   "source": []
  }
 ],
 "metadata": {
  "kernelspec": {
   "display_name": "Python 3 (ipykernel)",
   "language": "python",
   "name": "python3"
  },
  "language_info": {
   "codemirror_mode": {
    "name": "ipython",
    "version": 3
   },
   "file_extension": ".py",
   "mimetype": "text/x-python",
   "name": "python",
   "nbconvert_exporter": "python",
   "pygments_lexer": "ipython3",
   "version": "3.11.5"
  }
 },
 "nbformat": 4,
 "nbformat_minor": 5
}
